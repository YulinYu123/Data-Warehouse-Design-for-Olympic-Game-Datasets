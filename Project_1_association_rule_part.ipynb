{
 "cells": [
  {
   "cell_type": "code",
   "execution_count": 1,
   "id": "f253d039-11b8-4eb6-b14e-cf33ea2df409",
   "metadata": {},
   "outputs": [
    {
     "name": "stdout",
     "output_type": "stream",
     "text": [
      "Requirement already satisfied: mlxtend in /opt/conda/lib/python3.11/site-packages (0.23.1)\n",
      "Requirement already satisfied: scipy>=1.2.1 in /opt/conda/lib/python3.11/site-packages (from mlxtend) (1.13.0)\n",
      "Requirement already satisfied: numpy>=1.16.2 in /opt/conda/lib/python3.11/site-packages (from mlxtend) (1.26.4)\n",
      "Requirement already satisfied: pandas>=0.24.2 in /opt/conda/lib/python3.11/site-packages (from mlxtend) (2.2.1)\n",
      "Requirement already satisfied: scikit-learn>=1.0.2 in /opt/conda/lib/python3.11/site-packages (from mlxtend) (1.4.2)\n",
      "Requirement already satisfied: matplotlib>=3.0.0 in /opt/conda/lib/python3.11/site-packages (from mlxtend) (3.8.4)\n",
      "Requirement already satisfied: joblib>=0.13.2 in /opt/conda/lib/python3.11/site-packages (from mlxtend) (1.4.0)\n",
      "Requirement already satisfied: contourpy>=1.0.1 in /opt/conda/lib/python3.11/site-packages (from matplotlib>=3.0.0->mlxtend) (1.2.1)\n",
      "Requirement already satisfied: cycler>=0.10 in /opt/conda/lib/python3.11/site-packages (from matplotlib>=3.0.0->mlxtend) (0.12.1)\n",
      "Requirement already satisfied: fonttools>=4.22.0 in /opt/conda/lib/python3.11/site-packages (from matplotlib>=3.0.0->mlxtend) (4.51.0)\n",
      "Requirement already satisfied: kiwisolver>=1.3.1 in /opt/conda/lib/python3.11/site-packages (from matplotlib>=3.0.0->mlxtend) (1.4.5)\n",
      "Requirement already satisfied: packaging>=20.0 in /opt/conda/lib/python3.11/site-packages (from matplotlib>=3.0.0->mlxtend) (23.2)\n",
      "Requirement already satisfied: pillow>=8 in /opt/conda/lib/python3.11/site-packages (from matplotlib>=3.0.0->mlxtend) (10.3.0)\n",
      "Requirement already satisfied: pyparsing>=2.3.1 in /opt/conda/lib/python3.11/site-packages (from matplotlib>=3.0.0->mlxtend) (3.1.2)\n",
      "Requirement already satisfied: python-dateutil>=2.7 in /opt/conda/lib/python3.11/site-packages (from matplotlib>=3.0.0->mlxtend) (2.8.2)\n",
      "Requirement already satisfied: pytz>=2020.1 in /opt/conda/lib/python3.11/site-packages (from pandas>=0.24.2->mlxtend) (2023.3.post1)\n",
      "Requirement already satisfied: tzdata>=2022.7 in /opt/conda/lib/python3.11/site-packages (from pandas>=0.24.2->mlxtend) (2024.1)\n",
      "Requirement already satisfied: threadpoolctl>=2.0.0 in /opt/conda/lib/python3.11/site-packages (from scikit-learn>=1.0.2->mlxtend) (3.4.0)\n",
      "Requirement already satisfied: six>=1.5 in /opt/conda/lib/python3.11/site-packages (from python-dateutil>=2.7->matplotlib>=3.0.0->mlxtend) (1.16.0)\n",
      "Note: you may need to restart the kernel to use updated packages.\n"
     ]
    }
   ],
   "source": [
    "pip install mlxtend"
   ]
  },
  {
   "cell_type": "code",
   "execution_count": 2,
   "id": "8f9e601d-e31b-473b-917f-c3118e22c536",
   "metadata": {},
   "outputs": [],
   "source": [
    "# Import necessary libraries:\n",
    "import pandas as pd\n",
    "import numpy as np\n",
    "import mlxtend\n",
    "from mlxtend.preprocessing import TransactionEncoder\n",
    "from mlxtend.frequent_patterns import apriori\n",
    "from mlxtend.frequent_patterns import association_rules"
   ]
  },
  {
   "cell_type": "code",
   "execution_count": 3,
   "id": "80cc9fef-de18-4a80-9c8d-5e07741ab153",
   "metadata": {},
   "outputs": [],
   "source": [
    "# Import dataset(This csv fiel is created from Project_1_ETL_part,ipynb):\n",
    "df_merged_medals_hosts_continent = pd.read_csv(\"merged_medals_hosts_continent.csv\")"
   ]
  },
  {
   "cell_type": "markdown",
   "id": "95fde518-cbac-41ac-8faa-bdb84c108617",
   "metadata": {},
   "source": [
    "## 1. Association rule mining for China:"
   ]
  },
  {
   "cell_type": "markdown",
   "id": "11a9ca55-5c5f-44b7-8a70-cc2ebb3a45d8",
   "metadata": {},
   "source": [
    "**- Filter dataset:**"
   ]
  },
  {
   "cell_type": "code",
   "execution_count": 4,
   "id": "9e481188-a52a-472e-99f4-10e03967e7f6",
   "metadata": {},
   "outputs": [],
   "source": [
    "# Only keep China's related data:\n",
    "df_association_rule_China = df_merged_medals_hosts_continent[df_merged_medals_hosts_continent[\"Country Name\"].isin([\"China\"])].copy()"
   ]
  },
  {
   "cell_type": "code",
   "execution_count": 5,
   "id": "cc411770-1e53-443f-b18f-9b28c648b658",
   "metadata": {},
   "outputs": [],
   "source": [
    "# Drop the columns that I don't need for this time's association rule mining:\n",
    "df_association_rule_China.drop([\"Country Name\", \"Continent\", \"Game Season\", \"Slug Game\", \n",
    "                                \"Participant Type\", \"Event Title\", \"Game Year\", \"Athlete Full Name\"], axis=1, inplace=True)"
   ]
  },
  {
   "cell_type": "code",
   "execution_count": 6,
   "id": "f5678884-b19d-47c8-a543-39135ce8de49",
   "metadata": {},
   "outputs": [
    {
     "data": {
      "text/html": [
       "<div>\n",
       "<style scoped>\n",
       "    .dataframe tbody tr th:only-of-type {\n",
       "        vertical-align: middle;\n",
       "    }\n",
       "\n",
       "    .dataframe tbody tr th {\n",
       "        vertical-align: top;\n",
       "    }\n",
       "\n",
       "    .dataframe thead th {\n",
       "        text-align: right;\n",
       "    }\n",
       "</style>\n",
       "<table border=\"1\" class=\"dataframe\">\n",
       "  <thead>\n",
       "    <tr style=\"text-align: right;\">\n",
       "      <th></th>\n",
       "      <th>Discipline Title</th>\n",
       "      <th>Event Gender</th>\n",
       "      <th>Medal Type</th>\n",
       "    </tr>\n",
       "  </thead>\n",
       "  <tbody>\n",
       "    <tr>\n",
       "      <th>25</th>\n",
       "      <td>Freestyle Skiing</td>\n",
       "      <td>Women</td>\n",
       "      <td>GOLD</td>\n",
       "    </tr>\n",
       "    <tr>\n",
       "      <th>31</th>\n",
       "      <td>Freestyle Skiing</td>\n",
       "      <td>Mixed</td>\n",
       "      <td>SILVER</td>\n",
       "    </tr>\n",
       "    <tr>\n",
       "      <th>37</th>\n",
       "      <td>Freestyle Skiing</td>\n",
       "      <td>Men</td>\n",
       "      <td>GOLD</td>\n",
       "    </tr>\n",
       "    <tr>\n",
       "      <th>40</th>\n",
       "      <td>Freestyle Skiing</td>\n",
       "      <td>Women</td>\n",
       "      <td>GOLD</td>\n",
       "    </tr>\n",
       "    <tr>\n",
       "      <th>43</th>\n",
       "      <td>Freestyle Skiing</td>\n",
       "      <td>Women</td>\n",
       "      <td>GOLD</td>\n",
       "    </tr>\n",
       "    <tr>\n",
       "      <th>...</th>\n",
       "      <td>...</td>\n",
       "      <td>...</td>\n",
       "      <td>...</td>\n",
       "    </tr>\n",
       "    <tr>\n",
       "      <th>12177</th>\n",
       "      <td>Diving</td>\n",
       "      <td>Women</td>\n",
       "      <td>GOLD</td>\n",
       "    </tr>\n",
       "    <tr>\n",
       "      <th>12185</th>\n",
       "      <td>Diving</td>\n",
       "      <td>Men</td>\n",
       "      <td>BRONZE</td>\n",
       "    </tr>\n",
       "    <tr>\n",
       "      <th>12187</th>\n",
       "      <td>Diving</td>\n",
       "      <td>Men</td>\n",
       "      <td>SILVER</td>\n",
       "    </tr>\n",
       "    <tr>\n",
       "      <th>12241</th>\n",
       "      <td>Archery</td>\n",
       "      <td>Women</td>\n",
       "      <td>SILVER</td>\n",
       "    </tr>\n",
       "    <tr>\n",
       "      <th>12251</th>\n",
       "      <td>Handball</td>\n",
       "      <td>Women</td>\n",
       "      <td>BRONZE</td>\n",
       "    </tr>\n",
       "  </tbody>\n",
       "</table>\n",
       "<p>807 rows × 3 columns</p>\n",
       "</div>"
      ],
      "text/plain": [
       "       Discipline Title Event Gender Medal Type\n",
       "25     Freestyle Skiing        Women       GOLD\n",
       "31     Freestyle Skiing        Mixed     SILVER\n",
       "37     Freestyle Skiing          Men       GOLD\n",
       "40     Freestyle Skiing        Women       GOLD\n",
       "43     Freestyle Skiing        Women       GOLD\n",
       "...                 ...          ...        ...\n",
       "12177            Diving        Women       GOLD\n",
       "12185            Diving          Men     BRONZE\n",
       "12187            Diving          Men     SILVER\n",
       "12241           Archery        Women     SILVER\n",
       "12251          Handball        Women     BRONZE\n",
       "\n",
       "[807 rows x 3 columns]"
      ]
     },
     "execution_count": 6,
     "metadata": {},
     "output_type": "execute_result"
    }
   ],
   "source": [
    "df_association_rule_China"
   ]
  },
  {
   "cell_type": "code",
   "execution_count": 7,
   "id": "a90771b9-fa5e-48fe-9fec-cd32dbe38661",
   "metadata": {},
   "outputs": [
    {
     "data": {
      "text/plain": [
       "<bound method DataFrame.isna of        Discipline Title Event Gender Medal Type\n",
       "25     Freestyle Skiing        Women       GOLD\n",
       "31     Freestyle Skiing        Mixed     SILVER\n",
       "37     Freestyle Skiing          Men       GOLD\n",
       "40     Freestyle Skiing        Women       GOLD\n",
       "43     Freestyle Skiing        Women       GOLD\n",
       "...                 ...          ...        ...\n",
       "12177            Diving        Women       GOLD\n",
       "12185            Diving          Men     BRONZE\n",
       "12187            Diving          Men     SILVER\n",
       "12241           Archery        Women     SILVER\n",
       "12251          Handball        Women     BRONZE\n",
       "\n",
       "[807 rows x 3 columns]>"
      ]
     },
     "execution_count": 7,
     "metadata": {},
     "output_type": "execute_result"
    }
   ],
   "source": [
    "# Check missing values in the dataframe:\n",
    "df_association_rule_China.isna"
   ]
  },
  {
   "cell_type": "code",
   "execution_count": 8,
   "id": "7295e21b-bd6c-4826-b7e5-74d187450783",
   "metadata": {},
   "outputs": [
    {
     "data": {
      "text/plain": [
       "Discipline Title    0\n",
       "Event Gender        0\n",
       "Medal Type          0\n",
       "dtype: int64"
      ]
     },
     "execution_count": 8,
     "metadata": {},
     "output_type": "execute_result"
    }
   ],
   "source": [
    "# Count total missing values at each column in the dataframe:\n",
    "df_association_rule_China.isna().sum()"
   ]
  },
  {
   "cell_type": "markdown",
   "id": "abe62ad0-53f9-4106-832d-47ba00ac34f6",
   "metadata": {},
   "source": [
    "**- Data Transformation:**"
   ]
  },
  {
   "cell_type": "code",
   "execution_count": 9,
   "id": "deac5ad0-5275-427b-9cc9-9afade4c5a7e",
   "metadata": {},
   "outputs": [],
   "source": [
    "# Convert the data in new_df_association_rule_China to string type since TransactionEncoder() function only can handle string type:\n",
    "new_df_association_rule_China = df_association_rule_China.astype(str)"
   ]
  },
  {
   "cell_type": "code",
   "execution_count": 10,
   "id": "f0ec54a2-4afd-4a6b-b772-7e7b3563615a",
   "metadata": {},
   "outputs": [],
   "source": [
    "# Convert the data from dataframe new_df_association_rule_China into a list:\n",
    "list_China = new_df_association_rule_China.values.tolist()"
   ]
  },
  {
   "cell_type": "code",
   "execution_count": 11,
   "id": "33342912-3064-4b0c-a687-715920aed8f5",
   "metadata": {},
   "outputs": [],
   "source": [
    "# Covert the list to one-hot encoded boolean numpy array. \n",
    "# Apriori function allows boolean data type only, such as 1 and 0, or FALSE and TRUE.\n",
    "te_China = TransactionEncoder()\n",
    "array_te_China = te_China.fit(list_China).transform(list_China)"
   ]
  },
  {
   "cell_type": "code",
   "execution_count": 12,
   "id": "6000085f-d367-4812-9e78-9b3a0364de7d",
   "metadata": {},
   "outputs": [
    {
     "data": {
      "text/plain": [
       "array([[False, False, False, ..., False,  True, False],\n",
       "       [False, False, False, ..., False, False, False],\n",
       "       [False, False, False, ..., False, False, False],\n",
       "       ...,\n",
       "       [False, False, False, ..., False, False, False],\n",
       "       [False,  True, False, ..., False,  True, False],\n",
       "       [False, False, False, ..., False,  True, False]])"
      ]
     },
     "execution_count": 12,
     "metadata": {},
     "output_type": "execute_result"
    }
   ],
   "source": [
    "# check the array:\n",
    "array_te_China"
   ]
  },
  {
   "cell_type": "code",
   "execution_count": 13,
   "id": "a8d16a12-5362-44bd-961c-32543a523272",
   "metadata": {},
   "outputs": [
    {
     "data": {
      "text/plain": [
       "['3x3 Basketball',\n",
       " 'Archery',\n",
       " 'Artistic Gymnastics',\n",
       " 'Artistic Swimming',\n",
       " 'Athletics',\n",
       " 'BRONZE',\n",
       " 'Badminton',\n",
       " 'Basketball',\n",
       " 'Beach Volleyball',\n",
       " 'Boxing',\n",
       " 'Canoe Sprint',\n",
       " 'Curling',\n",
       " 'Cycling Track',\n",
       " 'Diving',\n",
       " 'Fencing',\n",
       " 'Figure skating',\n",
       " 'Football',\n",
       " 'Freestyle Skiing',\n",
       " 'GOLD',\n",
       " 'Golf',\n",
       " 'Gymnastics Artistic',\n",
       " 'Gymnastics Rhythmic',\n",
       " 'Handball',\n",
       " 'Hockey',\n",
       " 'Judo',\n",
       " 'Karate',\n",
       " 'Men',\n",
       " 'Mixed',\n",
       " 'Modern Pentathlon',\n",
       " 'Open',\n",
       " 'Rowing',\n",
       " 'SILVER',\n",
       " 'Sailing',\n",
       " 'Shooting',\n",
       " 'Short Track',\n",
       " 'Short Track Speed Skating',\n",
       " 'Skeleton',\n",
       " 'Snowboard',\n",
       " 'Softball',\n",
       " 'Speed skating',\n",
       " 'Swimming',\n",
       " 'Synchronized Swimming',\n",
       " 'Table Tennis',\n",
       " 'Taekwondo',\n",
       " 'Tennis',\n",
       " 'Trampoline',\n",
       " 'Trampoline Gymnastics',\n",
       " 'Volleyball',\n",
       " 'Weightlifting',\n",
       " 'Women',\n",
       " 'Wrestling']"
      ]
     },
     "execution_count": 13,
     "metadata": {},
     "output_type": "execute_result"
    }
   ],
   "source": [
    "# check the columns:\n",
    "te_China.columns_"
   ]
  },
  {
   "cell_type": "code",
   "execution_count": 14,
   "id": "e0954f12-2934-462a-924c-f70bf23e3957",
   "metadata": {},
   "outputs": [],
   "source": [
    "# Covert the array to a dataframe since Apriori function can handle dataframe only:\n",
    "arm_df_China = pd.DataFrame(array_te_China, columns = te_China.columns_)"
   ]
  },
  {
   "cell_type": "markdown",
   "id": "9a86e094-587f-43a5-99e6-a5107cfbea0f",
   "metadata": {},
   "source": [
    "**- Association Rule Generation:**"
   ]
  },
  {
   "cell_type": "code",
   "execution_count": 15,
   "id": "86424368-6556-4149-a05f-16b69c02c6eb",
   "metadata": {},
   "outputs": [],
   "source": [
    "#Find the frequent itemsets\n",
    "frequent_itemsets_China = apriori(arm_df_China,min_support=0.05,use_colnames =True)"
   ]
  },
  {
   "cell_type": "code",
   "execution_count": 16,
   "id": "a909bdb5-3a66-4f10-8f31-85005e8a9c91",
   "metadata": {},
   "outputs": [],
   "source": [
    "#Check the length of rules\n",
    "frequent_itemsets_China[\"length\"]=frequent_itemsets_China[\"itemsets\"].apply(lambda x: len(x))"
   ]
  },
  {
   "cell_type": "code",
   "execution_count": 17,
   "id": "67060b21-1883-460e-afbd-30c487a87cc6",
   "metadata": {},
   "outputs": [],
   "source": [
    "# Use confidence to filter out association rules that are not strong enough:\n",
    "# Assume the min confidence is 0.5\n",
    "rules_con_China = association_rules(frequent_itemsets_China, metric=\"confidence\",min_threshold=0.5)"
   ]
  },
  {
   "cell_type": "code",
   "execution_count": 18,
   "id": "615f064a-906b-478d-bfd7-2bf4725a69a5",
   "metadata": {},
   "outputs": [],
   "source": [
    "# Use lift to filter out association rules\n",
    "# Assume the min lift is 1\n",
    "rules_lift_China = association_rules(frequent_itemsets_China, metric=\"lift\",min_threshold=1)"
   ]
  },
  {
   "cell_type": "markdown",
   "id": "ac1f5f4e-c271-4464-b3e3-0a1b20e21083",
   "metadata": {},
   "source": [
    "**- Result:**"
   ]
  },
  {
   "cell_type": "code",
   "execution_count": 19,
   "id": "6fc250fb-bc23-40be-bfbb-9ec5eb075363",
   "metadata": {},
   "outputs": [],
   "source": [
    "# Based on min confidence (=0.5), \n",
    "# output antecedents, consequents, support, confidence and lift.\n",
    "result_arm_China = rules_con_China[[\"antecedents\",\"consequents\",\"support\",\"confidence\",\"lift\"]]"
   ]
  },
  {
   "cell_type": "code",
   "execution_count": 20,
   "id": "f922270b-dc44-41a5-8597-4cb6ed8266f8",
   "metadata": {},
   "outputs": [
    {
     "data": {
      "text/html": [
       "<div>\n",
       "<style scoped>\n",
       "    .dataframe tbody tr th:only-of-type {\n",
       "        vertical-align: middle;\n",
       "    }\n",
       "\n",
       "    .dataframe tbody tr th {\n",
       "        vertical-align: top;\n",
       "    }\n",
       "\n",
       "    .dataframe thead th {\n",
       "        text-align: right;\n",
       "    }\n",
       "</style>\n",
       "<table border=\"1\" class=\"dataframe\">\n",
       "  <thead>\n",
       "    <tr style=\"text-align: right;\">\n",
       "      <th></th>\n",
       "      <th>antecedents</th>\n",
       "      <th>consequents</th>\n",
       "      <th>support</th>\n",
       "      <th>confidence</th>\n",
       "      <th>lift</th>\n",
       "    </tr>\n",
       "  </thead>\n",
       "  <tbody>\n",
       "    <tr>\n",
       "      <th>0</th>\n",
       "      <td>(BRONZE)</td>\n",
       "      <td>(Women)</td>\n",
       "      <td>0.149938</td>\n",
       "      <td>0.565421</td>\n",
       "      <td>1.009501</td>\n",
       "    </tr>\n",
       "    <tr>\n",
       "      <th>1</th>\n",
       "      <td>(Diving)</td>\n",
       "      <td>(GOLD)</td>\n",
       "      <td>0.081784</td>\n",
       "      <td>0.634615</td>\n",
       "      <td>1.537942</td>\n",
       "    </tr>\n",
       "    <tr>\n",
       "      <th>2</th>\n",
       "      <td>(Diving)</td>\n",
       "      <td>(Women)</td>\n",
       "      <td>0.065675</td>\n",
       "      <td>0.509615</td>\n",
       "      <td>0.909866</td>\n",
       "    </tr>\n",
       "    <tr>\n",
       "      <th>3</th>\n",
       "      <td>(Table Tennis)</td>\n",
       "      <td>(GOLD)</td>\n",
       "      <td>0.050805</td>\n",
       "      <td>0.532468</td>\n",
       "      <td>1.290394</td>\n",
       "    </tr>\n",
       "    <tr>\n",
       "      <th>4</th>\n",
       "      <td>(GOLD)</td>\n",
       "      <td>(Women)</td>\n",
       "      <td>0.223048</td>\n",
       "      <td>0.540541</td>\n",
       "      <td>0.965080</td>\n",
       "    </tr>\n",
       "    <tr>\n",
       "      <th>5</th>\n",
       "      <td>(Weightlifting)</td>\n",
       "      <td>(Men)</td>\n",
       "      <td>0.053284</td>\n",
       "      <td>0.693548</td>\n",
       "      <td>1.788158</td>\n",
       "    </tr>\n",
       "    <tr>\n",
       "      <th>6</th>\n",
       "      <td>(SILVER)</td>\n",
       "      <td>(Women)</td>\n",
       "      <td>0.187113</td>\n",
       "      <td>0.580769</td>\n",
       "      <td>1.036904</td>\n",
       "    </tr>\n",
       "    <tr>\n",
       "      <th>7</th>\n",
       "      <td>(Table Tennis)</td>\n",
       "      <td>(Women)</td>\n",
       "      <td>0.050805</td>\n",
       "      <td>0.532468</td>\n",
       "      <td>0.950667</td>\n",
       "    </tr>\n",
       "  </tbody>\n",
       "</table>\n",
       "</div>"
      ],
      "text/plain": [
       "       antecedents consequents   support  confidence      lift\n",
       "0         (BRONZE)     (Women)  0.149938    0.565421  1.009501\n",
       "1         (Diving)      (GOLD)  0.081784    0.634615  1.537942\n",
       "2         (Diving)     (Women)  0.065675    0.509615  0.909866\n",
       "3   (Table Tennis)      (GOLD)  0.050805    0.532468  1.290394\n",
       "4           (GOLD)     (Women)  0.223048    0.540541  0.965080\n",
       "5  (Weightlifting)       (Men)  0.053284    0.693548  1.788158\n",
       "6         (SILVER)     (Women)  0.187113    0.580769  1.036904\n",
       "7   (Table Tennis)     (Women)  0.050805    0.532468  0.950667"
      ]
     },
     "execution_count": 20,
     "metadata": {},
     "output_type": "execute_result"
    }
   ],
   "source": [
    "result_arm_China"
   ]
  },
  {
   "cell_type": "markdown",
   "id": "663c45fc-9974-48f5-8b1f-583ccff2fee7",
   "metadata": {},
   "source": [
    "## 2. Association rule mining for Australia:"
   ]
  },
  {
   "cell_type": "markdown",
   "id": "66cf24f5-abb2-4a3c-b524-72ab36ae525d",
   "metadata": {},
   "source": [
    "**- Filter dataset:**"
   ]
  },
  {
   "cell_type": "code",
   "execution_count": 21,
   "id": "bcbf8190-ee7c-4a97-b1fc-e40c745cabd1",
   "metadata": {},
   "outputs": [],
   "source": [
    "# Only keep Australia's related data:\n",
    "df_association_rule_Australia = df_merged_medals_hosts_continent[df_merged_medals_hosts_continent[\"Country Name\"].isin([\"Australia\"])].copy()"
   ]
  },
  {
   "cell_type": "code",
   "execution_count": 22,
   "id": "32911c17-9a78-4e0d-a524-2597b3715970",
   "metadata": {},
   "outputs": [],
   "source": [
    "# Drop the columns that I don't need for this time's association rule mining:\n",
    "df_association_rule_Australia.drop([\"Country Name\", \"Continent\", \"Game Season\", \"Slug Game\", \"Participant Type\", \n",
    "                                    \"Event Title\", \"Game Year\", \"Athlete Full Name\"], axis=1, inplace=True)"
   ]
  },
  {
   "cell_type": "code",
   "execution_count": 23,
   "id": "9a75d6de-7427-4045-9f61-7da18c5c94bb",
   "metadata": {},
   "outputs": [
    {
     "data": {
      "text/html": [
       "<div>\n",
       "<style scoped>\n",
       "    .dataframe tbody tr th:only-of-type {\n",
       "        vertical-align: middle;\n",
       "    }\n",
       "\n",
       "    .dataframe tbody tr th {\n",
       "        vertical-align: top;\n",
       "    }\n",
       "\n",
       "    .dataframe thead th {\n",
       "        text-align: right;\n",
       "    }\n",
       "</style>\n",
       "<table border=\"1\" class=\"dataframe\">\n",
       "  <thead>\n",
       "    <tr style=\"text-align: right;\">\n",
       "      <th></th>\n",
       "      <th>Discipline Title</th>\n",
       "      <th>Event Gender</th>\n",
       "      <th>Medal Type</th>\n",
       "    </tr>\n",
       "  </thead>\n",
       "  <tbody>\n",
       "    <tr>\n",
       "      <th>28</th>\n",
       "      <td>Freestyle Skiing</td>\n",
       "      <td>Women</td>\n",
       "      <td>GOLD</td>\n",
       "    </tr>\n",
       "    <tr>\n",
       "      <th>104</th>\n",
       "      <td>Snowboard</td>\n",
       "      <td>Men</td>\n",
       "      <td>SILVER</td>\n",
       "    </tr>\n",
       "    <tr>\n",
       "      <th>105</th>\n",
       "      <td>Snowboard</td>\n",
       "      <td>Women</td>\n",
       "      <td>BRONZE</td>\n",
       "    </tr>\n",
       "    <tr>\n",
       "      <th>238</th>\n",
       "      <td>Skeleton</td>\n",
       "      <td>Women</td>\n",
       "      <td>SILVER</td>\n",
       "    </tr>\n",
       "    <tr>\n",
       "      <th>437</th>\n",
       "      <td>Diving</td>\n",
       "      <td>Women</td>\n",
       "      <td>BRONZE</td>\n",
       "    </tr>\n",
       "    <tr>\n",
       "      <th>...</th>\n",
       "      <td>...</td>\n",
       "      <td>...</td>\n",
       "      <td>...</td>\n",
       "    </tr>\n",
       "    <tr>\n",
       "      <th>21401</th>\n",
       "      <td>Athletics</td>\n",
       "      <td>Men</td>\n",
       "      <td>BRONZE</td>\n",
       "    </tr>\n",
       "    <tr>\n",
       "      <th>21539</th>\n",
       "      <td>Swimming</td>\n",
       "      <td>Men</td>\n",
       "      <td>GOLD</td>\n",
       "    </tr>\n",
       "    <tr>\n",
       "      <th>21545</th>\n",
       "      <td>Swimming</td>\n",
       "      <td>Men</td>\n",
       "      <td>GOLD</td>\n",
       "    </tr>\n",
       "    <tr>\n",
       "      <th>21570</th>\n",
       "      <td>Athletics</td>\n",
       "      <td>Men</td>\n",
       "      <td>GOLD</td>\n",
       "    </tr>\n",
       "    <tr>\n",
       "      <th>21597</th>\n",
       "      <td>Athletics</td>\n",
       "      <td>Men</td>\n",
       "      <td>GOLD</td>\n",
       "    </tr>\n",
       "  </tbody>\n",
       "</table>\n",
       "<p>627 rows × 3 columns</p>\n",
       "</div>"
      ],
      "text/plain": [
       "       Discipline Title Event Gender Medal Type\n",
       "28     Freestyle Skiing        Women       GOLD\n",
       "104           Snowboard          Men     SILVER\n",
       "105           Snowboard        Women     BRONZE\n",
       "238            Skeleton        Women     SILVER\n",
       "437              Diving        Women     BRONZE\n",
       "...                 ...          ...        ...\n",
       "21401         Athletics          Men     BRONZE\n",
       "21539          Swimming          Men       GOLD\n",
       "21545          Swimming          Men       GOLD\n",
       "21570         Athletics          Men       GOLD\n",
       "21597         Athletics          Men       GOLD\n",
       "\n",
       "[627 rows x 3 columns]"
      ]
     },
     "execution_count": 23,
     "metadata": {},
     "output_type": "execute_result"
    }
   ],
   "source": [
    "df_association_rule_Australia"
   ]
  },
  {
   "cell_type": "code",
   "execution_count": 24,
   "id": "57eae2ba-768a-4df1-ad51-d5b5786e8221",
   "metadata": {},
   "outputs": [
    {
     "data": {
      "text/plain": [
       "<bound method DataFrame.isna of        Discipline Title Event Gender Medal Type\n",
       "28     Freestyle Skiing        Women       GOLD\n",
       "104           Snowboard          Men     SILVER\n",
       "105           Snowboard        Women     BRONZE\n",
       "238            Skeleton        Women     SILVER\n",
       "437              Diving        Women     BRONZE\n",
       "...                 ...          ...        ...\n",
       "21401         Athletics          Men     BRONZE\n",
       "21539          Swimming          Men       GOLD\n",
       "21545          Swimming          Men       GOLD\n",
       "21570         Athletics          Men       GOLD\n",
       "21597         Athletics          Men       GOLD\n",
       "\n",
       "[627 rows x 3 columns]>"
      ]
     },
     "execution_count": 24,
     "metadata": {},
     "output_type": "execute_result"
    }
   ],
   "source": [
    "# Check missing values in the dataframe:\n",
    "df_association_rule_Australia.isna"
   ]
  },
  {
   "cell_type": "code",
   "execution_count": 25,
   "id": "712a4f93-cd3f-4a26-8aee-ea23b06509ed",
   "metadata": {},
   "outputs": [
    {
     "data": {
      "text/plain": [
       "Discipline Title    0\n",
       "Event Gender        0\n",
       "Medal Type          0\n",
       "dtype: int64"
      ]
     },
     "execution_count": 25,
     "metadata": {},
     "output_type": "execute_result"
    }
   ],
   "source": [
    "# Count total missing values at each column in the dataframe:\n",
    "df_association_rule_Australia.isna().sum()"
   ]
  },
  {
   "cell_type": "markdown",
   "id": "8fe41a0a-c520-409e-b2d8-30bed6f0bfb9",
   "metadata": {},
   "source": [
    "**- Data Transformation:**"
   ]
  },
  {
   "cell_type": "code",
   "execution_count": 26,
   "id": "5634630e-4fc4-4a84-8d94-278aa9073422",
   "metadata": {},
   "outputs": [],
   "source": [
    "# Convert the data in new_df_association_rule_Australia to string type since TransactionEncoder() function only can handle string type:\n",
    "new_df_association_rule_Australia = df_association_rule_Australia.astype(str)"
   ]
  },
  {
   "cell_type": "code",
   "execution_count": 27,
   "id": "df397b7d-6e70-4d37-b413-c88a96a859cd",
   "metadata": {},
   "outputs": [],
   "source": [
    "# Convert the data from dataframe new_df_association_rule_Autralia into a list:\n",
    "list_Australia = new_df_association_rule_Australia.values.tolist()"
   ]
  },
  {
   "cell_type": "code",
   "execution_count": 28,
   "id": "4debfb1a-8005-4841-bd5a-6914915af9b4",
   "metadata": {},
   "outputs": [],
   "source": [
    "# Covert the list to one-hot encoded boolean numpy array. \n",
    "# Apriori function allows boolean data type only, such as 1 and 0, or FALSE and TRUE.\n",
    "te_Australia = TransactionEncoder()\n",
    "array_te_Australia = te_Australia.fit(list_Australia).transform(list_Australia)"
   ]
  },
  {
   "cell_type": "code",
   "execution_count": 29,
   "id": "6e142b2e-07ec-406d-909b-640c6f010806",
   "metadata": {},
   "outputs": [
    {
     "data": {
      "text/plain": [
       "array([[False, False, False, ..., False,  True, False],\n",
       "       [False, False, False, ..., False, False, False],\n",
       "       [False, False, False, ..., False,  True, False],\n",
       "       ...,\n",
       "       [False, False, False, ..., False, False, False],\n",
       "       [False, False,  True, ..., False, False, False],\n",
       "       [False, False,  True, ..., False, False, False]])"
      ]
     },
     "execution_count": 29,
     "metadata": {},
     "output_type": "execute_result"
    }
   ],
   "source": [
    "# check the array:\n",
    "array_te_Australia"
   ]
  },
  {
   "cell_type": "code",
   "execution_count": 30,
   "id": "08e5ebd4-12ad-41f3-b869-4d10bc49ad43",
   "metadata": {},
   "outputs": [
    {
     "data": {
      "text/plain": [
       "['Alpine Skiing',\n",
       " 'Archery',\n",
       " 'Athletics',\n",
       " 'BRONZE',\n",
       " 'Baseball',\n",
       " 'Basketball',\n",
       " 'Beach Volleyball',\n",
       " 'Boxing',\n",
       " 'Canoe Marathon',\n",
       " 'Canoe Slalom',\n",
       " 'Canoe Sprint',\n",
       " 'Cycling BMX',\n",
       " 'Cycling BMX Freestyle',\n",
       " 'Cycling Road',\n",
       " 'Cycling Track',\n",
       " 'Diving',\n",
       " 'Equestrian',\n",
       " 'Equestrian Eventing',\n",
       " 'Freestyle Skiing',\n",
       " 'GOLD',\n",
       " 'Hockey',\n",
       " 'Judo',\n",
       " 'Marathon Swimming',\n",
       " 'Men',\n",
       " 'Mixed',\n",
       " 'Modern Pentathlon',\n",
       " 'Open',\n",
       " 'Rowing',\n",
       " 'Rugby',\n",
       " 'SILVER',\n",
       " 'Sailing',\n",
       " 'Shooting',\n",
       " 'Short Track Speed Skating',\n",
       " 'Skateboarding',\n",
       " 'Skeleton',\n",
       " 'Snowboard',\n",
       " 'Softball',\n",
       " 'Surfing',\n",
       " 'Swimming',\n",
       " 'Taekwondo',\n",
       " 'Tennis',\n",
       " 'Trampoline',\n",
       " 'Triathlon',\n",
       " 'Water Polo',\n",
       " 'Weightlifting',\n",
       " 'Women',\n",
       " 'Wrestling']"
      ]
     },
     "execution_count": 30,
     "metadata": {},
     "output_type": "execute_result"
    }
   ],
   "source": [
    "# check the columns:\n",
    "te_Australia.columns_"
   ]
  },
  {
   "cell_type": "code",
   "execution_count": 31,
   "id": "5a680edd-5ede-4296-9100-f96807ac74ec",
   "metadata": {},
   "outputs": [],
   "source": [
    "# Covert the array to a dataframe since Apriori function can handle dataframe only:\n",
    "arm_df_Australia = pd.DataFrame(array_te_Australia, columns = te_Australia.columns_)"
   ]
  },
  {
   "cell_type": "markdown",
   "id": "846a067f-becf-4cce-b7fe-6c79d1287ee0",
   "metadata": {},
   "source": [
    "**- Association Rule Generation:**"
   ]
  },
  {
   "cell_type": "code",
   "execution_count": 32,
   "id": "db6476ea-ca09-47ce-9077-039734b7a10c",
   "metadata": {},
   "outputs": [],
   "source": [
    "#Find the frequent itemsets\n",
    "frequent_itemsets_Australia = apriori(arm_df_Australia,min_support=0.05,use_colnames =True)"
   ]
  },
  {
   "cell_type": "code",
   "execution_count": 33,
   "id": "37bf002d-34f5-42ae-bea8-f19896bef6e8",
   "metadata": {},
   "outputs": [],
   "source": [
    "#Check the length of rules\n",
    "frequent_itemsets_Australia[\"length\"]=frequent_itemsets_Australia[\"itemsets\"].apply(lambda x: len(x))"
   ]
  },
  {
   "cell_type": "code",
   "execution_count": 34,
   "id": "e2e54f31-8a01-428a-902b-e03064a6b7ff",
   "metadata": {},
   "outputs": [],
   "source": [
    "# Use confidence to filter out association rules that are not strong enough:\n",
    "# Assume the min confidence is 0.5\n",
    "rules_con_Australia = association_rules(frequent_itemsets_Australia, metric=\"confidence\",min_threshold=0.5)"
   ]
  },
  {
   "cell_type": "code",
   "execution_count": 35,
   "id": "dd355454-e4d3-4284-9809-73224edb5606",
   "metadata": {},
   "outputs": [],
   "source": [
    "# Use lift to filter out association rules\n",
    "# Assume the min lift is 1\n",
    "rules_lift_Australia = association_rules(frequent_itemsets_Australia, metric=\"lift\",min_threshold=1)"
   ]
  },
  {
   "cell_type": "markdown",
   "id": "7a9a99f0-5116-49e1-9722-c2a4132148fa",
   "metadata": {},
   "source": [
    "**- Result:**"
   ]
  },
  {
   "cell_type": "code",
   "execution_count": 36,
   "id": "8e4ff270-5aa1-4046-b048-264add62ad8f",
   "metadata": {},
   "outputs": [],
   "source": [
    "#Based on min confidence (=0.5), \n",
    "#output antecedents, consequents, support, confidence and lift.\n",
    "result_arm_Australia = rules_con_Australia[[\"antecedents\",\"consequents\",\"support\",\"confidence\",\"lift\"]]"
   ]
  },
  {
   "cell_type": "code",
   "execution_count": 38,
   "id": "27278ff3-8401-4d26-8646-14e49bb85748",
   "metadata": {},
   "outputs": [
    {
     "data": {
      "text/html": [
       "<div>\n",
       "<style scoped>\n",
       "    .dataframe tbody tr th:only-of-type {\n",
       "        vertical-align: middle;\n",
       "    }\n",
       "\n",
       "    .dataframe tbody tr th {\n",
       "        vertical-align: top;\n",
       "    }\n",
       "\n",
       "    .dataframe thead th {\n",
       "        text-align: right;\n",
       "    }\n",
       "</style>\n",
       "<table border=\"1\" class=\"dataframe\">\n",
       "  <thead>\n",
       "    <tr style=\"text-align: right;\">\n",
       "      <th></th>\n",
       "      <th>antecedents</th>\n",
       "      <th>consequents</th>\n",
       "      <th>support</th>\n",
       "      <th>confidence</th>\n",
       "      <th>lift</th>\n",
       "    </tr>\n",
       "  </thead>\n",
       "  <tbody>\n",
       "    <tr>\n",
       "      <th>0</th>\n",
       "      <td>(Athletics)</td>\n",
       "      <td>(Women)</td>\n",
       "      <td>0.063796</td>\n",
       "      <td>0.526316</td>\n",
       "      <td>1.352459</td>\n",
       "    </tr>\n",
       "    <tr>\n",
       "      <th>1</th>\n",
       "      <td>(BRONZE)</td>\n",
       "      <td>(Men)</td>\n",
       "      <td>0.205742</td>\n",
       "      <td>0.535270</td>\n",
       "      <td>0.975622</td>\n",
       "    </tr>\n",
       "    <tr>\n",
       "      <th>2</th>\n",
       "      <td>(Cycling Track)</td>\n",
       "      <td>(Men)</td>\n",
       "      <td>0.062201</td>\n",
       "      <td>0.750000</td>\n",
       "      <td>1.367006</td>\n",
       "    </tr>\n",
       "    <tr>\n",
       "      <th>3</th>\n",
       "      <td>(GOLD)</td>\n",
       "      <td>(Men)</td>\n",
       "      <td>0.165869</td>\n",
       "      <td>0.547368</td>\n",
       "      <td>0.997674</td>\n",
       "    </tr>\n",
       "    <tr>\n",
       "      <th>4</th>\n",
       "      <td>(Rowing)</td>\n",
       "      <td>(Men)</td>\n",
       "      <td>0.065391</td>\n",
       "      <td>0.719298</td>\n",
       "      <td>1.311047</td>\n",
       "    </tr>\n",
       "    <tr>\n",
       "      <th>5</th>\n",
       "      <td>(SILVER)</td>\n",
       "      <td>(Men)</td>\n",
       "      <td>0.177033</td>\n",
       "      <td>0.566327</td>\n",
       "      <td>1.032229</td>\n",
       "    </tr>\n",
       "    <tr>\n",
       "      <th>6</th>\n",
       "      <td>(Swimming)</td>\n",
       "      <td>(Men)</td>\n",
       "      <td>0.185008</td>\n",
       "      <td>0.547170</td>\n",
       "      <td>0.997312</td>\n",
       "    </tr>\n",
       "    <tr>\n",
       "      <th>7</th>\n",
       "      <td>(Swimming, BRONZE)</td>\n",
       "      <td>(Men)</td>\n",
       "      <td>0.068581</td>\n",
       "      <td>0.589041</td>\n",
       "      <td>1.073630</td>\n",
       "    </tr>\n",
       "    <tr>\n",
       "      <th>8</th>\n",
       "      <td>(GOLD, Swimming)</td>\n",
       "      <td>(Women)</td>\n",
       "      <td>0.055821</td>\n",
       "      <td>0.507246</td>\n",
       "      <td>1.303457</td>\n",
       "    </tr>\n",
       "    <tr>\n",
       "      <th>9</th>\n",
       "      <td>(Swimming, SILVER)</td>\n",
       "      <td>(Men)</td>\n",
       "      <td>0.062201</td>\n",
       "      <td>0.557143</td>\n",
       "      <td>1.015490</td>\n",
       "    </tr>\n",
       "  </tbody>\n",
       "</table>\n",
       "</div>"
      ],
      "text/plain": [
       "          antecedents consequents   support  confidence      lift\n",
       "0         (Athletics)     (Women)  0.063796    0.526316  1.352459\n",
       "1            (BRONZE)       (Men)  0.205742    0.535270  0.975622\n",
       "2     (Cycling Track)       (Men)  0.062201    0.750000  1.367006\n",
       "3              (GOLD)       (Men)  0.165869    0.547368  0.997674\n",
       "4            (Rowing)       (Men)  0.065391    0.719298  1.311047\n",
       "5            (SILVER)       (Men)  0.177033    0.566327  1.032229\n",
       "6          (Swimming)       (Men)  0.185008    0.547170  0.997312\n",
       "7  (Swimming, BRONZE)       (Men)  0.068581    0.589041  1.073630\n",
       "8    (GOLD, Swimming)     (Women)  0.055821    0.507246  1.303457\n",
       "9  (Swimming, SILVER)       (Men)  0.062201    0.557143  1.015490"
      ]
     },
     "execution_count": 38,
     "metadata": {},
     "output_type": "execute_result"
    }
   ],
   "source": [
    "result_arm_Australia"
   ]
  },
  {
   "cell_type": "code",
   "execution_count": null,
   "id": "097c631e-d6c4-4f2d-8701-7bff9d21728b",
   "metadata": {},
   "outputs": [],
   "source": []
  }
 ],
 "metadata": {
  "kernelspec": {
   "display_name": "Python 3 (ipykernel)",
   "language": "python",
   "name": "python3"
  },
  "language_info": {
   "codemirror_mode": {
    "name": "ipython",
    "version": 3
   },
   "file_extension": ".py",
   "mimetype": "text/x-python",
   "name": "python",
   "nbconvert_exporter": "python",
   "pygments_lexer": "ipython3",
   "version": "3.11.7"
  }
 },
 "nbformat": 4,
 "nbformat_minor": 5
}
