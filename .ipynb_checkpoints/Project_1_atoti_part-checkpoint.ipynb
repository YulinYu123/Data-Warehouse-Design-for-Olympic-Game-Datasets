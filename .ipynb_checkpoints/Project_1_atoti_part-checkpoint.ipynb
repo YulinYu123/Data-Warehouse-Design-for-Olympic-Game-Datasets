{
 "cells": [
  {
   "cell_type": "code",
   "execution_count": 3,
   "id": "c48056fa-3ef9-4aba-b776-575972c271a6",
   "metadata": {},
   "outputs": [
    {
     "name": "stdout",
     "output_type": "stream",
     "text": [
      "Welcome to Atoti 0.8.10!\n",
      "\n",
      "By using this community edition, you agree with the license available at https://docs.atoti.io/latest/eula.html.\n",
      "Browse the official documentation at https://docs.atoti.io.\n",
      "Join the community at https://www.atoti.io/register.\n",
      "\n",
      "Atoti collects telemetry data, which is used to help understand how to improve the product.\n",
      "If you don't wish to send usage data, you can request a trial license at https://www.atoti.io/evaluation-license-request.\n",
      "\n",
      "You can hide this message by setting the `ATOTI_HIDE_EULA_MESSAGE` environment variable to True.\n"
     ]
    }
   ],
   "source": [
    "import atoti as tt"
   ]
  },
  {
   "cell_type": "markdown",
   "id": "606eb405-a10a-4265-bea5-1c882330cc07",
   "metadata": {},
   "source": [
    "**Create an Atoti session:**"
   ]
  },
  {
   "cell_type": "code",
   "execution_count": 4,
   "id": "88429e2e-6204-4f57-a7e5-9846d7b51845",
   "metadata": {},
   "outputs": [],
   "source": [
    "session = tt.Session(\n",
    "    user_content_storage=\".content\",\n",
    "    port=9092,\n",
    "    java_options=[\"-Xms1G\", \"-Xmx10G\"]\n",
    ")"
   ]
  },
  {
   "cell_type": "markdown",
   "id": "191476cd-7853-4db7-b819-ae7618a04c29",
   "metadata": {},
   "source": [
    "**1(1). Connect to \"Olympic_Medals_Count\" PostgreSQL Database:**"
   ]
  },
  {
   "cell_type": "code",
   "execution_count": 3,
   "id": "4052dccf-d3e9-4c47-8cbe-c1e04f3315d1",
   "metadata": {},
   "outputs": [],
   "source": [
    "db_name = \"Olympic_Medals_Count\"\n",
    "db_user = \"postgres\"\n",
    "db_password = \"postgres\"  \n",
    "db_host = \"pgdb\"  \n",
    "db_port = \"5432\"\n",
    "\n",
    "jdbc_url = f\"jdbc:postgresql://{db_host}:{db_port}/{db_name}?user={db_user}&password={db_password}\""
   ]
  },
  {
   "cell_type": "markdown",
   "id": "19180a91-8e72-49c7-b108-36a0214303c1",
   "metadata": {},
   "source": [
    "**1(2). Load Data to Atoti:**"
   ]
  },
  {
   "cell_type": "code",
   "execution_count": 4,
   "id": "a5a47a3d-1632-436d-985c-5e8504fe4784",
   "metadata": {},
   "outputs": [],
   "source": [
    "# Fact table:\n",
    "medals_count_fact_table = session.read_sql(\n",
    "    \"SELECT * FROM fact_medals_count\",\n",
    "    keys=[\"Medals Fact ID\"],\n",
    "    table_name=\"fact_medals_count\",\n",
    "    url=jdbc_url,\n",
    ")"
   ]
  },
  {
   "cell_type": "code",
   "execution_count": 5,
   "id": "f0215745-f4b2-4e5a-8b39-1745bf44fd25",
   "metadata": {},
   "outputs": [
    {
     "data": {
      "text/html": [
       "<div>\n",
       "<style scoped>\n",
       "    .dataframe tbody tr th:only-of-type {\n",
       "        vertical-align: middle;\n",
       "    }\n",
       "\n",
       "    .dataframe tbody tr th {\n",
       "        vertical-align: top;\n",
       "    }\n",
       "\n",
       "    .dataframe thead th {\n",
       "        text-align: right;\n",
       "    }\n",
       "</style>\n",
       "<table border=\"1\" class=\"dataframe\">\n",
       "  <thead>\n",
       "    <tr style=\"text-align: right;\">\n",
       "      <th></th>\n",
       "      <th>Game Year ID</th>\n",
       "      <th>Athlete ID</th>\n",
       "      <th>Medal Type ID</th>\n",
       "      <th>Location ID</th>\n",
       "      <th>Olympic Game ID</th>\n",
       "      <th>Discipline ID</th>\n",
       "      <th>medal_count</th>\n",
       "    </tr>\n",
       "    <tr>\n",
       "      <th>Medals Fact ID</th>\n",
       "      <th></th>\n",
       "      <th></th>\n",
       "      <th></th>\n",
       "      <th></th>\n",
       "      <th></th>\n",
       "      <th></th>\n",
       "      <th></th>\n",
       "    </tr>\n",
       "  </thead>\n",
       "  <tbody>\n",
       "    <tr>\n",
       "      <th>48</th>\n",
       "      <td>1</td>\n",
       "      <td>37</td>\n",
       "      <td>3</td>\n",
       "      <td>17</td>\n",
       "      <td>1</td>\n",
       "      <td>15</td>\n",
       "      <td>1</td>\n",
       "    </tr>\n",
       "    <tr>\n",
       "      <th>9</th>\n",
       "      <td>1</td>\n",
       "      <td>7</td>\n",
       "      <td>3</td>\n",
       "      <td>3</td>\n",
       "      <td>1</td>\n",
       "      <td>2</td>\n",
       "      <td>1</td>\n",
       "    </tr>\n",
       "    <tr>\n",
       "      <th>58</th>\n",
       "      <td>1</td>\n",
       "      <td>7</td>\n",
       "      <td>1</td>\n",
       "      <td>6</td>\n",
       "      <td>1</td>\n",
       "      <td>19</td>\n",
       "      <td>1</td>\n",
       "    </tr>\n",
       "    <tr>\n",
       "      <th>21</th>\n",
       "      <td>1</td>\n",
       "      <td>16</td>\n",
       "      <td>2</td>\n",
       "      <td>8</td>\n",
       "      <td>1</td>\n",
       "      <td>6</td>\n",
       "      <td>1</td>\n",
       "    </tr>\n",
       "    <tr>\n",
       "      <th>71</th>\n",
       "      <td>1</td>\n",
       "      <td>7</td>\n",
       "      <td>2</td>\n",
       "      <td>20</td>\n",
       "      <td>1</td>\n",
       "      <td>23</td>\n",
       "      <td>1</td>\n",
       "    </tr>\n",
       "  </tbody>\n",
       "</table>\n",
       "</div>"
      ],
      "text/plain": [
       "                Game Year ID  Athlete ID  Medal Type ID  Location ID  \\\n",
       "Medals Fact ID                                                         \n",
       "48                         1          37              3           17   \n",
       "9                          1           7              3            3   \n",
       "58                         1           7              1            6   \n",
       "21                         1          16              2            8   \n",
       "71                         1           7              2           20   \n",
       "\n",
       "                Olympic Game ID  Discipline ID  medal_count  \n",
       "Medals Fact ID                                               \n",
       "48                            1             15            1  \n",
       "9                             1              2            1  \n",
       "58                            1             19            1  \n",
       "21                            1              6            1  \n",
       "71                            1             23            1  "
      ]
     },
     "execution_count": 5,
     "metadata": {},
     "output_type": "execute_result"
    }
   ],
   "source": [
    "medals_count_fact_table.head()"
   ]
  },
  {
   "cell_type": "code",
   "execution_count": 6,
   "id": "6c742a6c-b950-43b9-b4fe-fb5383ea9a86",
   "metadata": {},
   "outputs": [],
   "source": [
    "# Firsrt dimension table\n",
    "time_dimension_table = session.read_sql(\n",
    "    \"SELECT * FROM dim_time\",\n",
    "    keys=[\"Game Year ID\"],\n",
    "    table_name=\"dim_time\",\n",
    "    url=jdbc_url,\n",
    ")"
   ]
  },
  {
   "cell_type": "code",
   "execution_count": 7,
   "id": "478745db-dc6f-4541-a41a-bacc4582c9a3",
   "metadata": {},
   "outputs": [
    {
     "data": {
      "text/html": [
       "<div>\n",
       "<style scoped>\n",
       "    .dataframe tbody tr th:only-of-type {\n",
       "        vertical-align: middle;\n",
       "    }\n",
       "\n",
       "    .dataframe tbody tr th {\n",
       "        vertical-align: top;\n",
       "    }\n",
       "\n",
       "    .dataframe thead th {\n",
       "        text-align: right;\n",
       "    }\n",
       "</style>\n",
       "<table border=\"1\" class=\"dataframe\">\n",
       "  <thead>\n",
       "    <tr style=\"text-align: right;\">\n",
       "      <th></th>\n",
       "      <th>Game Year</th>\n",
       "    </tr>\n",
       "    <tr>\n",
       "      <th>Game Year ID</th>\n",
       "      <th></th>\n",
       "    </tr>\n",
       "  </thead>\n",
       "  <tbody>\n",
       "    <tr>\n",
       "      <th>4</th>\n",
       "      <td>2016</td>\n",
       "    </tr>\n",
       "    <tr>\n",
       "      <th>14</th>\n",
       "      <td>1996</td>\n",
       "    </tr>\n",
       "    <tr>\n",
       "      <th>29</th>\n",
       "      <td>1932</td>\n",
       "    </tr>\n",
       "    <tr>\n",
       "      <th>5</th>\n",
       "      <td>2014</td>\n",
       "    </tr>\n",
       "    <tr>\n",
       "      <th>30</th>\n",
       "      <td>1928</td>\n",
       "    </tr>\n",
       "  </tbody>\n",
       "</table>\n",
       "</div>"
      ],
      "text/plain": [
       "             Game Year\n",
       "Game Year ID          \n",
       "4                 2016\n",
       "14                1996\n",
       "29                1932\n",
       "5                 2014\n",
       "30                1928"
      ]
     },
     "execution_count": 7,
     "metadata": {},
     "output_type": "execute_result"
    }
   ],
   "source": [
    "time_dimension_table.head()"
   ]
  },
  {
   "cell_type": "code",
   "execution_count": 8,
   "id": "8123d3ef-b846-4833-b7eb-70afbe34662e",
   "metadata": {},
   "outputs": [],
   "source": [
    "# Second dimension table:\n",
    "olympic_game_dimension_table = session.read_sql(\n",
    "    \"SELECT * FROM dim_olympic_game\",\n",
    "    keys=[\"Olympic Game ID\"],\n",
    "    table_name=\"dim_olympic_game\",\n",
    "    url=jdbc_url,\n",
    ")"
   ]
  },
  {
   "cell_type": "code",
   "execution_count": 9,
   "id": "95e5aafb-4c61-4a6f-998f-1797b94697ec",
   "metadata": {},
   "outputs": [
    {
     "data": {
      "text/html": [
       "<div>\n",
       "<style scoped>\n",
       "    .dataframe tbody tr th:only-of-type {\n",
       "        vertical-align: middle;\n",
       "    }\n",
       "\n",
       "    .dataframe tbody tr th {\n",
       "        vertical-align: top;\n",
       "    }\n",
       "\n",
       "    .dataframe thead th {\n",
       "        text-align: right;\n",
       "    }\n",
       "</style>\n",
       "<table border=\"1\" class=\"dataframe\">\n",
       "  <thead>\n",
       "    <tr style=\"text-align: right;\">\n",
       "      <th></th>\n",
       "      <th>Game Season</th>\n",
       "      <th>Slug Game</th>\n",
       "    </tr>\n",
       "    <tr>\n",
       "      <th>Olympic Game ID</th>\n",
       "      <th></th>\n",
       "      <th></th>\n",
       "    </tr>\n",
       "  </thead>\n",
       "  <tbody>\n",
       "    <tr>\n",
       "      <th>12</th>\n",
       "      <td>Summer</td>\n",
       "      <td>sydney-2000</td>\n",
       "    </tr>\n",
       "    <tr>\n",
       "      <th>40</th>\n",
       "      <td>Summer</td>\n",
       "      <td>berlin-1936</td>\n",
       "    </tr>\n",
       "    <tr>\n",
       "      <th>22</th>\n",
       "      <td>Summer</td>\n",
       "      <td>moscow-1980</td>\n",
       "    </tr>\n",
       "    <tr>\n",
       "      <th>50</th>\n",
       "      <td>Summer</td>\n",
       "      <td>london-1908</td>\n",
       "    </tr>\n",
       "    <tr>\n",
       "      <th>32</th>\n",
       "      <td>Summer</td>\n",
       "      <td>rome-1960</td>\n",
       "    </tr>\n",
       "  </tbody>\n",
       "</table>\n",
       "</div>"
      ],
      "text/plain": [
       "                Game Season    Slug Game\n",
       "Olympic Game ID                         \n",
       "12                   Summer  sydney-2000\n",
       "40                   Summer  berlin-1936\n",
       "22                   Summer  moscow-1980\n",
       "50                   Summer  london-1908\n",
       "32                   Summer    rome-1960"
      ]
     },
     "execution_count": 9,
     "metadata": {},
     "output_type": "execute_result"
    }
   ],
   "source": [
    "olympic_game_dimension_table.head()"
   ]
  },
  {
   "cell_type": "code",
   "execution_count": 10,
   "id": "665a4de9-e241-4cf3-a179-839248e0b530",
   "metadata": {},
   "outputs": [],
   "source": [
    "# Third dimension table:\n",
    "medal_type_dimension_table = session.read_sql(\n",
    "    \"SELECT * FROM dim_medal_types\",\n",
    "    keys=[\"Medal Type ID\"],\n",
    "    table_name=\"dim_medal_types\",\n",
    "    url=jdbc_url,\n",
    ")"
   ]
  },
  {
   "cell_type": "code",
   "execution_count": 11,
   "id": "a7db835c-b070-4e24-a324-bbf8f954603f",
   "metadata": {},
   "outputs": [
    {
     "data": {
      "text/html": [
       "<div>\n",
       "<style scoped>\n",
       "    .dataframe tbody tr th:only-of-type {\n",
       "        vertical-align: middle;\n",
       "    }\n",
       "\n",
       "    .dataframe tbody tr th {\n",
       "        vertical-align: top;\n",
       "    }\n",
       "\n",
       "    .dataframe thead th {\n",
       "        text-align: right;\n",
       "    }\n",
       "</style>\n",
       "<table border=\"1\" class=\"dataframe\">\n",
       "  <thead>\n",
       "    <tr style=\"text-align: right;\">\n",
       "      <th></th>\n",
       "      <th>Medal Type</th>\n",
       "    </tr>\n",
       "    <tr>\n",
       "      <th>Medal Type ID</th>\n",
       "      <th></th>\n",
       "    </tr>\n",
       "  </thead>\n",
       "  <tbody>\n",
       "    <tr>\n",
       "      <th>2</th>\n",
       "      <td>SILVER</td>\n",
       "    </tr>\n",
       "    <tr>\n",
       "      <th>1</th>\n",
       "      <td>GOLD</td>\n",
       "    </tr>\n",
       "    <tr>\n",
       "      <th>3</th>\n",
       "      <td>BRONZE</td>\n",
       "    </tr>\n",
       "  </tbody>\n",
       "</table>\n",
       "</div>"
      ],
      "text/plain": [
       "              Medal Type\n",
       "Medal Type ID           \n",
       "2                 SILVER\n",
       "1                   GOLD\n",
       "3                 BRONZE"
      ]
     },
     "execution_count": 11,
     "metadata": {},
     "output_type": "execute_result"
    }
   ],
   "source": [
    "medal_type_dimension_table.head()"
   ]
  },
  {
   "cell_type": "code",
   "execution_count": 12,
   "id": "b6a69621-3ed0-4ae1-8016-824c75c321e3",
   "metadata": {},
   "outputs": [],
   "source": [
    "# Forth dimension table:\n",
    "location_dimension_table = session.read_sql(\n",
    "    \"SELECT * FROM dim_location\",\n",
    "    keys=[\"Location ID\"],\n",
    "    table_name=\"dim_location\",\n",
    "    url=jdbc_url,\n",
    ")"
   ]
  },
  {
   "cell_type": "code",
   "execution_count": 13,
   "id": "9214016a-d052-4f45-a9cb-1583e34002f7",
   "metadata": {},
   "outputs": [
    {
     "data": {
      "text/html": [
       "<div>\n",
       "<style scoped>\n",
       "    .dataframe tbody tr th:only-of-type {\n",
       "        vertical-align: middle;\n",
       "    }\n",
       "\n",
       "    .dataframe tbody tr th {\n",
       "        vertical-align: top;\n",
       "    }\n",
       "\n",
       "    .dataframe thead th {\n",
       "        text-align: right;\n",
       "    }\n",
       "</style>\n",
       "<table border=\"1\" class=\"dataframe\">\n",
       "  <thead>\n",
       "    <tr style=\"text-align: right;\">\n",
       "      <th></th>\n",
       "      <th>Continent</th>\n",
       "      <th>Country Name</th>\n",
       "    </tr>\n",
       "    <tr>\n",
       "      <th>Location ID</th>\n",
       "      <th></th>\n",
       "      <th></th>\n",
       "    </tr>\n",
       "  </thead>\n",
       "  <tbody>\n",
       "    <tr>\n",
       "      <th>9</th>\n",
       "      <td>Unknown</td>\n",
       "      <td>ROC</td>\n",
       "    </tr>\n",
       "    <tr>\n",
       "      <th>19</th>\n",
       "      <td>Europe</td>\n",
       "      <td>Hungary</td>\n",
       "    </tr>\n",
       "    <tr>\n",
       "      <th>47</th>\n",
       "      <td>Africa</td>\n",
       "      <td>Ghana</td>\n",
       "    </tr>\n",
       "    <tr>\n",
       "      <th>57</th>\n",
       "      <td>Africa</td>\n",
       "      <td>South Africa</td>\n",
       "    </tr>\n",
       "    <tr>\n",
       "      <th>130</th>\n",
       "      <td>Oceania</td>\n",
       "      <td>Tonga</td>\n",
       "    </tr>\n",
       "  </tbody>\n",
       "</table>\n",
       "</div>"
      ],
      "text/plain": [
       "            Continent  Country Name\n",
       "Location ID                        \n",
       "9             Unknown           ROC\n",
       "19             Europe       Hungary\n",
       "47             Africa         Ghana\n",
       "57             Africa  South Africa\n",
       "130           Oceania         Tonga"
      ]
     },
     "execution_count": 13,
     "metadata": {},
     "output_type": "execute_result"
    }
   ],
   "source": [
    "location_dimension_table.head()"
   ]
  },
  {
   "cell_type": "code",
   "execution_count": 14,
   "id": "653eaf6a-4285-4d3e-b5fd-991ac438ce39",
   "metadata": {},
   "outputs": [],
   "source": [
    "# Fifth dimension table:\n",
    "discipline_dimension_table = session.read_sql(\n",
    "    \"SELECT * FROM dim_discipline\",\n",
    "    keys=[\"Discipline ID\"],\n",
    "    table_name=\"dim_discipline\",\n",
    "    url=jdbc_url,\n",
    ")"
   ]
  },
  {
   "cell_type": "code",
   "execution_count": 15,
   "id": "ecdb00c3-5906-49f3-9a95-97b9d6d5ced8",
   "metadata": {},
   "outputs": [
    {
     "data": {
      "text/html": [
       "<div>\n",
       "<style scoped>\n",
       "    .dataframe tbody tr th:only-of-type {\n",
       "        vertical-align: middle;\n",
       "    }\n",
       "\n",
       "    .dataframe tbody tr th {\n",
       "        vertical-align: top;\n",
       "    }\n",
       "\n",
       "    .dataframe thead th {\n",
       "        text-align: right;\n",
       "    }\n",
       "</style>\n",
       "<table border=\"1\" class=\"dataframe\">\n",
       "  <thead>\n",
       "    <tr style=\"text-align: right;\">\n",
       "      <th></th>\n",
       "      <th>Discipline Title</th>\n",
       "      <th>Participant Type</th>\n",
       "      <th>Event Gender</th>\n",
       "      <th>Event Title</th>\n",
       "    </tr>\n",
       "    <tr>\n",
       "      <th>Discipline ID</th>\n",
       "      <th></th>\n",
       "      <th></th>\n",
       "      <th></th>\n",
       "      <th></th>\n",
       "    </tr>\n",
       "  </thead>\n",
       "  <tbody>\n",
       "    <tr>\n",
       "      <th>9</th>\n",
       "      <td>Freestyle Skiing</td>\n",
       "      <td>Athlete</td>\n",
       "      <td>Women</td>\n",
       "      <td>Women's Moguls</td>\n",
       "    </tr>\n",
       "    <tr>\n",
       "      <th>40</th>\n",
       "      <td>Ski Jumping</td>\n",
       "      <td>Athlete</td>\n",
       "      <td>Women</td>\n",
       "      <td>Women's NH Individual</td>\n",
       "    </tr>\n",
       "    <tr>\n",
       "      <th>19</th>\n",
       "      <td>Short Track Speed Skating</td>\n",
       "      <td>GameTeam</td>\n",
       "      <td>Men</td>\n",
       "      <td>Men's 5000m Relay</td>\n",
       "    </tr>\n",
       "    <tr>\n",
       "      <th>29</th>\n",
       "      <td>Snowboard</td>\n",
       "      <td>Athlete</td>\n",
       "      <td>Men</td>\n",
       "      <td>Men's Parallel Giant Slalom</td>\n",
       "    </tr>\n",
       "    <tr>\n",
       "      <th>101</th>\n",
       "      <td>Speed skating</td>\n",
       "      <td>Athlete</td>\n",
       "      <td>Women</td>\n",
       "      <td>Women's 500m</td>\n",
       "    </tr>\n",
       "  </tbody>\n",
       "</table>\n",
       "</div>"
      ],
      "text/plain": [
       "                        Discipline Title Participant Type Event Gender  \\\n",
       "Discipline ID                                                            \n",
       "9                       Freestyle Skiing          Athlete        Women   \n",
       "40                           Ski Jumping          Athlete        Women   \n",
       "19             Short Track Speed Skating         GameTeam          Men   \n",
       "29                             Snowboard          Athlete          Men   \n",
       "101                        Speed skating          Athlete        Women   \n",
       "\n",
       "                               Event Title  \n",
       "Discipline ID                               \n",
       "9                           Women's Moguls  \n",
       "40                   Women's NH Individual  \n",
       "19                       Men's 5000m Relay  \n",
       "29             Men's Parallel Giant Slalom  \n",
       "101                           Women's 500m  "
      ]
     },
     "execution_count": 15,
     "metadata": {},
     "output_type": "execute_result"
    }
   ],
   "source": [
    "discipline_dimension_table.head()"
   ]
  },
  {
   "cell_type": "code",
   "execution_count": 16,
   "id": "b36a3b5e-974b-478e-82dc-86309a477d4e",
   "metadata": {},
   "outputs": [],
   "source": [
    "# Sixth dimension table:\n",
    "athlete_dimension_table = session.read_sql(\n",
    "    \"SELECT * FROM dim_athlete\",\n",
    "    keys=[\"Athlete ID\"],\n",
    "    table_name=\"dim_athlete\",\n",
    "    url=jdbc_url,\n",
    ")"
   ]
  },
  {
   "cell_type": "code",
   "execution_count": 17,
   "id": "63fda327-51fe-4adb-a7bb-ae95d9c6a063",
   "metadata": {},
   "outputs": [
    {
     "data": {
      "text/html": [
       "<div>\n",
       "<style scoped>\n",
       "    .dataframe tbody tr th:only-of-type {\n",
       "        vertical-align: middle;\n",
       "    }\n",
       "\n",
       "    .dataframe tbody tr th {\n",
       "        vertical-align: top;\n",
       "    }\n",
       "\n",
       "    .dataframe thead th {\n",
       "        text-align: right;\n",
       "    }\n",
       "</style>\n",
       "<table border=\"1\" class=\"dataframe\">\n",
       "  <thead>\n",
       "    <tr style=\"text-align: right;\">\n",
       "      <th></th>\n",
       "      <th>Athlete Full Name</th>\n",
       "    </tr>\n",
       "    <tr>\n",
       "      <th>Athlete ID</th>\n",
       "      <th></th>\n",
       "    </tr>\n",
       "  </thead>\n",
       "  <tbody>\n",
       "    <tr>\n",
       "      <th>8</th>\n",
       "      <td>Mikael KINGSBURY</td>\n",
       "    </tr>\n",
       "    <tr>\n",
       "      <th>215</th>\n",
       "      <td>Lukas GREIDERER</td>\n",
       "    </tr>\n",
       "    <tr>\n",
       "      <th>18</th>\n",
       "      <td>Alex FIVA</td>\n",
       "    </tr>\n",
       "    <tr>\n",
       "      <th>28</th>\n",
       "      <td>Daniela MAIER</td>\n",
       "    </tr>\n",
       "    <tr>\n",
       "      <th>38</th>\n",
       "      <td>Nicholas GOEPPER</td>\n",
       "    </tr>\n",
       "  </tbody>\n",
       "</table>\n",
       "</div>"
      ],
      "text/plain": [
       "           Athlete Full Name\n",
       "Athlete ID                  \n",
       "8           Mikael KINGSBURY\n",
       "215          Lukas GREIDERER\n",
       "18                 Alex FIVA\n",
       "28             Daniela MAIER\n",
       "38          Nicholas GOEPPER"
      ]
     },
     "execution_count": 17,
     "metadata": {},
     "output_type": "execute_result"
    }
   ],
   "source": [
    "athlete_dimension_table.head()"
   ]
  },
  {
   "cell_type": "markdown",
   "id": "ce2331fd-abb4-449a-b9c3-ee4e5c08839b",
   "metadata": {},
   "source": [
    "**1(3). Implement a Star Schema by joining the above 7 tables:**"
   ]
  },
  {
   "cell_type": "code",
   "execution_count": 18,
   "id": "7d4a682b-8c2c-44db-9db6-4407227dd3c9",
   "metadata": {},
   "outputs": [],
   "source": [
    "medals_count_fact_table.join(time_dimension_table, medals_count_fact_table[\"Game Year ID\"] == time_dimension_table[\"Game Year ID\"])"
   ]
  },
  {
   "cell_type": "code",
   "execution_count": 19,
   "id": "c5eca474-8b2e-4ad3-97ad-b4d6b032ca7e",
   "metadata": {},
   "outputs": [],
   "source": [
    "medals_count_fact_table.join(olympic_game_dimension_table, medals_count_fact_table[\"Olympic Game ID\"] == olympic_game_dimension_table[\"Olympic Game ID\"])"
   ]
  },
  {
   "cell_type": "code",
   "execution_count": 20,
   "id": "3a98c319-bee6-4375-84dc-7f9158e4d0bf",
   "metadata": {},
   "outputs": [],
   "source": [
    "medals_count_fact_table.join(medal_type_dimension_table, medals_count_fact_table[\"Medal Type ID\"] == medal_type_dimension_table[\"Medal Type ID\"])"
   ]
  },
  {
   "cell_type": "code",
   "execution_count": 21,
   "id": "a3c21086-9a9e-42a4-aef1-7b7c43de293a",
   "metadata": {},
   "outputs": [],
   "source": [
    "medals_count_fact_table.join(location_dimension_table, medals_count_fact_table[\"Location ID\"] == location_dimension_table[\"Location ID\"])"
   ]
  },
  {
   "cell_type": "code",
   "execution_count": 22,
   "id": "f1c79d31-86ab-4c7f-8f41-ee0c472559fe",
   "metadata": {},
   "outputs": [],
   "source": [
    "medals_count_fact_table.join(discipline_dimension_table, medals_count_fact_table[\"Discipline ID\"] == discipline_dimension_table[\"Discipline ID\"])"
   ]
  },
  {
   "cell_type": "code",
   "execution_count": 23,
   "id": "88aab70a-4019-4d74-b9a5-bfd972f43e16",
   "metadata": {},
   "outputs": [],
   "source": [
    "medals_count_fact_table.join(athlete_dimension_table, medals_count_fact_table[\"Athlete ID\"] == athlete_dimension_table[\"Athlete ID\"])"
   ]
  },
  {
   "cell_type": "code",
   "execution_count": 24,
   "id": "f75b9917-9181-4d2d-81c2-8b2b282a3211",
   "metadata": {},
   "outputs": [
    {
     "data": {
      "text/markdown": [
       "```mermaid\n",
       "erDiagram\n",
       "  \"dim_time\" {\n",
       "    _ int PK \"Game Year ID\"\n",
       "    _ String \"Game Year\"\n",
       "  }\n",
       "  \"dim_location\" {\n",
       "    _ int PK \"Location ID\"\n",
       "    _ String \"Continent\"\n",
       "    _ String \"Country Name\"\n",
       "  }\n",
       "  \"fact_medals_count\" {\n",
       "    _ int PK \"Medals Fact ID\"\n",
       "    nullable int \"Game Year ID\"\n",
       "    nullable int \"Athlete ID\"\n",
       "    nullable int \"Medal Type ID\"\n",
       "    nullable int \"Location ID\"\n",
       "    nullable int \"Olympic Game ID\"\n",
       "    nullable int \"Discipline ID\"\n",
       "    nullable int \"medal_count\"\n",
       "  }\n",
       "  \"dim_medal_types\" {\n",
       "    _ int PK \"Medal Type ID\"\n",
       "    _ String \"Medal Type\"\n",
       "  }\n",
       "  \"dim_discipline\" {\n",
       "    _ int PK \"Discipline ID\"\n",
       "    _ String \"Discipline Title\"\n",
       "    _ String \"Participant Type\"\n",
       "    _ String \"Event Gender\"\n",
       "    _ String \"Event Title\"\n",
       "  }\n",
       "  \"dim_athlete\" {\n",
       "    _ int PK \"Athlete ID\"\n",
       "    _ String \"Athlete Full Name\"\n",
       "  }\n",
       "  \"dim_olympic_game\" {\n",
       "    _ int PK \"Olympic Game ID\"\n",
       "    _ String \"Game Season\"\n",
       "    _ String \"Slug Game\"\n",
       "  }\n",
       "  \"fact_medals_count\" }o--o| \"dim_medal_types\" : \"`Medal Type ID` == `Medal Type ID`\"\n",
       "  \"fact_medals_count\" }o--o| \"dim_discipline\" : \"`Discipline ID` == `Discipline ID`\"\n",
       "  \"fact_medals_count\" }o--o| \"dim_location\" : \"`Location ID` == `Location ID`\"\n",
       "  \"fact_medals_count\" }o--o| \"dim_time\" : \"`Game Year ID` == `Game Year ID`\"\n",
       "  \"fact_medals_count\" }o--o| \"dim_athlete\" : \"`Athlete ID` == `Athlete ID`\"\n",
       "  \"fact_medals_count\" }o--o| \"dim_olympic_game\" : \"`Olympic Game ID` == `Olympic Game ID`\"\n",
       "```\n"
      ],
      "text/plain": [
       "erDiagram\n",
       "  \"dim_time\" {\n",
       "    _ int PK \"Game Year ID\"\n",
       "    _ String \"Game Year\"\n",
       "  }\n",
       "  \"dim_location\" {\n",
       "    _ int PK \"Location ID\"\n",
       "    _ String \"Continent\"\n",
       "    _ String \"Country Name\"\n",
       "  }\n",
       "  \"fact_medals_count\" {\n",
       "    _ int PK \"Medals Fact ID\"\n",
       "    nullable int \"Game Year ID\"\n",
       "    nullable int \"Athlete ID\"\n",
       "    nullable int \"Medal Type ID\"\n",
       "    nullable int \"Location ID\"\n",
       "    nullable int \"Olympic Game ID\"\n",
       "    nullable int \"Discipline ID\"\n",
       "    nullable int \"medal_count\"\n",
       "  }\n",
       "  \"dim_medal_types\" {\n",
       "    _ int PK \"Medal Type ID\"\n",
       "    _ String \"Medal Type\"\n",
       "  }\n",
       "  \"dim_discipline\" {\n",
       "    _ int PK \"Discipline ID\"\n",
       "    _ String \"Discipline Title\"\n",
       "    _ String \"Participant Type\"\n",
       "    _ String \"Event Gender\"\n",
       "    _ String \"Event Title\"\n",
       "  }\n",
       "  \"dim_athlete\" {\n",
       "    _ int PK \"Athlete ID\"\n",
       "    _ String \"Athlete Full Name\"\n",
       "  }\n",
       "  \"dim_olympic_game\" {\n",
       "    _ int PK \"Olympic Game ID\"\n",
       "    _ String \"Game Season\"\n",
       "    _ String \"Slug Game\"\n",
       "  }\n",
       "  \"fact_medals_count\" }o--o| \"dim_medal_types\" : \"`Medal Type ID` == `Medal Type ID`\"\n",
       "  \"fact_medals_count\" }o--o| \"dim_discipline\" : \"`Discipline ID` == `Discipline ID`\"\n",
       "  \"fact_medals_count\" }o--o| \"dim_location\" : \"`Location ID` == `Location ID`\"\n",
       "  \"fact_medals_count\" }o--o| \"dim_time\" : \"`Game Year ID` == `Game Year ID`\"\n",
       "  \"fact_medals_count\" }o--o| \"dim_athlete\" : \"`Athlete ID` == `Athlete ID`\"\n",
       "  \"fact_medals_count\" }o--o| \"dim_olympic_game\" : \"`Olympic Game ID` == `Olympic Game ID`\""
      ]
     },
     "execution_count": 24,
     "metadata": {},
     "output_type": "execute_result"
    }
   ],
   "source": [
    "# Draw the star schema:\n",
    "session.tables.schema"
   ]
  },
  {
   "cell_type": "markdown",
   "id": "36bef20b-858d-4ff1-aeaf-6e9042272b03",
   "metadata": {},
   "source": [
    "**1(4). Create a cube:**"
   ]
  },
  {
   "cell_type": "code",
   "execution_count": 25,
   "id": "d06b1005-9f94-4e87-a93f-1edfbccb6c8f",
   "metadata": {},
   "outputs": [],
   "source": [
    "cube = session.create_cube(medals_count_fact_table)"
   ]
  },
  {
   "cell_type": "code",
   "execution_count": 26,
   "id": "b15f1704-7d33-47ff-aad3-7a0ec3fd29b9",
   "metadata": {},
   "outputs": [
    {
     "data": {
      "application/json": {
       "Dimensions": {
        "dim_athlete": {
         "Athlete Full Name": [
          "Athlete Full Name"
         ]
        },
        "dim_discipline": {
         "Discipline Title": [
          "Discipline Title"
         ],
         "Event Gender": [
          "Event Gender"
         ],
         "Event Title": [
          "Event Title"
         ],
         "Participant Type": [
          "Participant Type"
         ]
        },
        "dim_location": {
         "Continent": [
          "Continent"
         ],
         "Country Name": [
          "Country Name"
         ]
        },
        "dim_medal_types": {
         "Medal Type": [
          "Medal Type"
         ]
        },
        "dim_olympic_game": {
         "Game Season": [
          "Game Season"
         ],
         "Slug Game": [
          "Slug Game"
         ]
        },
        "dim_time": {
         "Game Year": [
          "Game Year"
         ]
        },
        "fact_medals_count": {
         "Medals Fact ID": [
          "Medals Fact ID"
         ]
        }
       },
       "Measures": {
        "Athlete ID.MEAN": {
         "formatter": "DOUBLE[#,###.00]"
        },
        "Athlete ID.SUM": {
         "formatter": "INT[#,###]"
        },
        "Discipline ID.MEAN": {
         "formatter": "DOUBLE[#,###.00]"
        },
        "Discipline ID.SUM": {
         "formatter": "INT[#,###]"
        },
        "Game Year ID.MEAN": {
         "formatter": "DOUBLE[#,###.00]"
        },
        "Game Year ID.SUM": {
         "formatter": "INT[#,###]"
        },
        "Location ID.MEAN": {
         "formatter": "DOUBLE[#,###.00]"
        },
        "Location ID.SUM": {
         "formatter": "INT[#,###]"
        },
        "Medal Type ID.MEAN": {
         "formatter": "DOUBLE[#,###.00]"
        },
        "Medal Type ID.SUM": {
         "formatter": "INT[#,###]"
        },
        "Olympic Game ID.MEAN": {
         "formatter": "DOUBLE[#,###.00]"
        },
        "Olympic Game ID.SUM": {
         "formatter": "INT[#,###]"
        },
        "contributors.COUNT": {
         "formatter": "INT[#,###]"
        },
        "medal_count.MEAN": {
         "formatter": "DOUBLE[#,###.00]"
        },
        "medal_count.SUM": {
         "formatter": "INT[#,###]"
        }
       }
      },
      "text/html": [
       "<ul>\n",
       "<li>fact_medals_count\n",
       "  <ul>\n",
       "  <li>Dimensions\n",
       "    <ul>\n",
       "    <li>dim_athlete\n",
       "      <ul>\n",
       "      <li>Athlete Full Name\n",
       "        <ol>\n",
       "        <li>Athlete Full Name</li>\n",
       "        </ol>      </li>\n",
       "      </ul>\n",
       "    </li>\n",
       "    <li>dim_discipline\n",
       "      <ul>\n",
       "      <li>Discipline Title\n",
       "        <ol>\n",
       "        <li>Discipline Title</li>\n",
       "        </ol>      </li>\n",
       "      <li>Event Gender\n",
       "        <ol>\n",
       "        <li>Event Gender</li>\n",
       "        </ol>      </li>\n",
       "      <li>Event Title\n",
       "        <ol>\n",
       "        <li>Event Title</li>\n",
       "        </ol>      </li>\n",
       "      <li>Participant Type\n",
       "        <ol>\n",
       "        <li>Participant Type</li>\n",
       "        </ol>      </li>\n",
       "      </ul>\n",
       "    </li>\n",
       "    <li>dim_location\n",
       "      <ul>\n",
       "      <li>Continent\n",
       "        <ol>\n",
       "        <li>Continent</li>\n",
       "        </ol>      </li>\n",
       "      <li>Country Name\n",
       "        <ol>\n",
       "        <li>Country Name</li>\n",
       "        </ol>      </li>\n",
       "      </ul>\n",
       "    </li>\n",
       "    <li>dim_medal_types\n",
       "      <ul>\n",
       "      <li>Medal Type\n",
       "        <ol>\n",
       "        <li>Medal Type</li>\n",
       "        </ol>      </li>\n",
       "      </ul>\n",
       "    </li>\n",
       "    <li>dim_olympic_game\n",
       "      <ul>\n",
       "      <li>Game Season\n",
       "        <ol>\n",
       "        <li>Game Season</li>\n",
       "        </ol>      </li>\n",
       "      <li>Slug Game\n",
       "        <ol>\n",
       "        <li>Slug Game</li>\n",
       "        </ol>      </li>\n",
       "      </ul>\n",
       "    </li>\n",
       "    <li>dim_time\n",
       "      <ul>\n",
       "      <li>Game Year\n",
       "        <ol>\n",
       "        <li>Game Year</li>\n",
       "        </ol>      </li>\n",
       "      </ul>\n",
       "    </li>\n",
       "    <li>fact_medals_count\n",
       "      <ul>\n",
       "      <li>Medals Fact ID\n",
       "        <ol>\n",
       "        <li>Medals Fact ID</li>\n",
       "        </ol>      </li>\n",
       "      </ul>\n",
       "    </li>\n",
       "    </ul>\n",
       "  </li>\n",
       "  <li>Measures\n",
       "    <ul>\n",
       "    <li>Athlete ID.MEAN\n",
       "      <ul>\n",
       "      <li>formatter: DOUBLE[#,###.00]</li>\n",
       "      </ul>\n",
       "    </li>\n",
       "    <li>Athlete ID.SUM\n",
       "      <ul>\n",
       "      <li>formatter: INT[#,###]</li>\n",
       "      </ul>\n",
       "    </li>\n",
       "    <li>Discipline ID.MEAN\n",
       "      <ul>\n",
       "      <li>formatter: DOUBLE[#,###.00]</li>\n",
       "      </ul>\n",
       "    </li>\n",
       "    <li>Discipline ID.SUM\n",
       "      <ul>\n",
       "      <li>formatter: INT[#,###]</li>\n",
       "      </ul>\n",
       "    </li>\n",
       "    <li>Game Year ID.MEAN\n",
       "      <ul>\n",
       "      <li>formatter: DOUBLE[#,###.00]</li>\n",
       "      </ul>\n",
       "    </li>\n",
       "    <li>Game Year ID.SUM\n",
       "      <ul>\n",
       "      <li>formatter: INT[#,###]</li>\n",
       "      </ul>\n",
       "    </li>\n",
       "    <li>Location ID.MEAN\n",
       "      <ul>\n",
       "      <li>formatter: DOUBLE[#,###.00]</li>\n",
       "      </ul>\n",
       "    </li>\n",
       "    <li>Location ID.SUM\n",
       "      <ul>\n",
       "      <li>formatter: INT[#,###]</li>\n",
       "      </ul>\n",
       "    </li>\n",
       "    <li>Medal Type ID.MEAN\n",
       "      <ul>\n",
       "      <li>formatter: DOUBLE[#,###.00]</li>\n",
       "      </ul>\n",
       "    </li>\n",
       "    <li>Medal Type ID.SUM\n",
       "      <ul>\n",
       "      <li>formatter: INT[#,###]</li>\n",
       "      </ul>\n",
       "    </li>\n",
       "    <li>Olympic Game ID.MEAN\n",
       "      <ul>\n",
       "      <li>formatter: DOUBLE[#,###.00]</li>\n",
       "      </ul>\n",
       "    </li>\n",
       "    <li>Olympic Game ID.SUM\n",
       "      <ul>\n",
       "      <li>formatter: INT[#,###]</li>\n",
       "      </ul>\n",
       "    </li>\n",
       "    <li>contributors.COUNT\n",
       "      <ul>\n",
       "      <li>formatter: INT[#,###]</li>\n",
       "      </ul>\n",
       "    </li>\n",
       "    <li>medal_count.MEAN\n",
       "      <ul>\n",
       "      <li>formatter: DOUBLE[#,###.00]</li>\n",
       "      </ul>\n",
       "    </li>\n",
       "    <li>medal_count.SUM\n",
       "      <ul>\n",
       "      <li>formatter: INT[#,###]</li>\n",
       "      </ul>\n",
       "    </li>\n",
       "    </ul>\n",
       "  </li>\n",
       "  </ul>\n",
       "</li>\n",
       "</ul>\n"
      ],
      "text/plain": [
       "<atoti.cube.Cube at 0x7fffac617410>"
      ]
     },
     "execution_count": 26,
     "metadata": {
      "application/json": {
       "expanded": false,
       "root": "fact_medals_count"
      }
     },
     "output_type": "execute_result"
    }
   ],
   "source": [
    "cube"
   ]
  },
  {
   "cell_type": "markdown",
   "id": "52578ac9-e749-4787-aacb-9c7d73f0e438",
   "metadata": {},
   "source": [
    "**1(5). Create hierarchies:**"
   ]
  },
  {
   "cell_type": "code",
   "execution_count": 27,
   "id": "d25247e9-17e3-4554-9f61-8fad5f601833",
   "metadata": {},
   "outputs": [],
   "source": [
    "hierarchies, levels, measures = cube.hierarchies, cube.levels, cube.measures"
   ]
  },
  {
   "cell_type": "markdown",
   "id": "0acf25a7-b37e-4954-a1ef-ce8ae8ccd0eb",
   "metadata": {},
   "source": [
    "**1(6). Check hierarchies:**"
   ]
  },
  {
   "cell_type": "code",
   "execution_count": 28,
   "id": "d3c7f81c-d5ac-4ad6-897c-3104fd122c4c",
   "metadata": {},
   "outputs": [
    {
     "data": {
      "application/json": {
       "dim_athlete": {
        "Athlete Full Name": [
         "Athlete Full Name"
        ]
       },
       "dim_discipline": {
        "Discipline Title": [
         "Discipline Title"
        ],
        "Event Gender": [
         "Event Gender"
        ],
        "Event Title": [
         "Event Title"
        ],
        "Participant Type": [
         "Participant Type"
        ]
       },
       "dim_location": {
        "Continent": [
         "Continent"
        ],
        "Country Name": [
         "Country Name"
        ]
       },
       "dim_medal_types": {
        "Medal Type": [
         "Medal Type"
        ]
       },
       "dim_olympic_game": {
        "Game Season": [
         "Game Season"
        ],
        "Slug Game": [
         "Slug Game"
        ]
       },
       "dim_time": {
        "Game Year": [
         "Game Year"
        ]
       },
       "fact_medals_count": {
        "Medals Fact ID": [
         "Medals Fact ID"
        ]
       }
      },
      "text/html": [
       "<ul>\n",
       "<li>Dimensions\n",
       "  <ul>\n",
       "  <li>dim_athlete\n",
       "    <ul>\n",
       "    <li>Athlete Full Name\n",
       "      <ol>\n",
       "      <li>Athlete Full Name</li>\n",
       "      </ol>    </li>\n",
       "    </ul>\n",
       "  </li>\n",
       "  <li>dim_discipline\n",
       "    <ul>\n",
       "    <li>Discipline Title\n",
       "      <ol>\n",
       "      <li>Discipline Title</li>\n",
       "      </ol>    </li>\n",
       "    <li>Event Gender\n",
       "      <ol>\n",
       "      <li>Event Gender</li>\n",
       "      </ol>    </li>\n",
       "    <li>Event Title\n",
       "      <ol>\n",
       "      <li>Event Title</li>\n",
       "      </ol>    </li>\n",
       "    <li>Participant Type\n",
       "      <ol>\n",
       "      <li>Participant Type</li>\n",
       "      </ol>    </li>\n",
       "    </ul>\n",
       "  </li>\n",
       "  <li>dim_location\n",
       "    <ul>\n",
       "    <li>Continent\n",
       "      <ol>\n",
       "      <li>Continent</li>\n",
       "      </ol>    </li>\n",
       "    <li>Country Name\n",
       "      <ol>\n",
       "      <li>Country Name</li>\n",
       "      </ol>    </li>\n",
       "    </ul>\n",
       "  </li>\n",
       "  <li>dim_medal_types\n",
       "    <ul>\n",
       "    <li>Medal Type\n",
       "      <ol>\n",
       "      <li>Medal Type</li>\n",
       "      </ol>    </li>\n",
       "    </ul>\n",
       "  </li>\n",
       "  <li>dim_olympic_game\n",
       "    <ul>\n",
       "    <li>Game Season\n",
       "      <ol>\n",
       "      <li>Game Season</li>\n",
       "      </ol>    </li>\n",
       "    <li>Slug Game\n",
       "      <ol>\n",
       "      <li>Slug Game</li>\n",
       "      </ol>    </li>\n",
       "    </ul>\n",
       "  </li>\n",
       "  <li>dim_time\n",
       "    <ul>\n",
       "    <li>Game Year\n",
       "      <ol>\n",
       "      <li>Game Year</li>\n",
       "      </ol>    </li>\n",
       "    </ul>\n",
       "  </li>\n",
       "  <li>fact_medals_count\n",
       "    <ul>\n",
       "    <li>Medals Fact ID\n",
       "      <ol>\n",
       "      <li>Medals Fact ID</li>\n",
       "      </ol>    </li>\n",
       "    </ul>\n",
       "  </li>\n",
       "  </ul>\n",
       "</li>\n",
       "</ul>\n"
      ],
      "text/plain": [
       "{('dim_olympic_game', 'Slug Game'): <atoti.hierarchy.Hierarchy object at 0x7fffac513010>, ('dim_time', 'Game Year'): <atoti.hierarchy.Hierarchy object at 0x7fffac512a90>, ('dim_olympic_game', 'Game Season'): <atoti.hierarchy.Hierarchy object at 0x7fffac513bd0>, ('dim_discipline', 'Event Title'): <atoti.hierarchy.Hierarchy object at 0x7fffac512e90>, ('dim_discipline', 'Event Gender'): <atoti.hierarchy.Hierarchy object at 0x7fffac512c90>, ('fact_medals_count', 'Medals Fact ID'): <atoti.hierarchy.Hierarchy object at 0x7fffac510b10>, ('dim_location', 'Continent'): <atoti.hierarchy.Hierarchy object at 0x7fffac510a10>, ('dim_medal_types', 'Medal Type'): <atoti.hierarchy.Hierarchy object at 0x7fffac510f50>, ('dim_athlete', 'Athlete Full Name'): <atoti.hierarchy.Hierarchy object at 0x7fffac510d50>, ('dim_discipline', 'Participant Type'): <atoti.hierarchy.Hierarchy object at 0x7fffac505350>, ('dim_location', 'Country Name'): <atoti.hierarchy.Hierarchy object at 0x7fffac506cd0>, ('dim_discipline', 'Discipline Title'): <atoti.hierarchy.Hierarchy object at 0x7fffac504450>}"
      ]
     },
     "execution_count": 28,
     "metadata": {
      "application/json": {
       "expanded": true,
       "root": "Dimensions"
      }
     },
     "output_type": "execute_result"
    }
   ],
   "source": [
    "hierarchies"
   ]
  },
  {
   "cell_type": "markdown",
   "id": "dc5c18fc-f1ad-4d20-b98b-a65d43b68c8c",
   "metadata": {},
   "source": [
    "**1(7). Check levels:**"
   ]
  },
  {
   "cell_type": "code",
   "execution_count": 29,
   "id": "b1a53bb5-2394-4e64-b890-821222e6e1a5",
   "metadata": {},
   "outputs": [
    {
     "data": {
      "application/json": {
       "Athlete Full Name (dim_athlete/Athlete Full Name/Athlete Full Name)": {
        "dimension": "dim_athlete",
        "hierarchy": "Athlete Full Name",
        "order": "NaturalOrder",
        "type": "String"
       },
       "Continent (dim_location/Continent/Continent)": {
        "dimension": "dim_location",
        "hierarchy": "Continent",
        "order": "NaturalOrder",
        "type": "String"
       },
       "Country Name (dim_location/Country Name/Country Name)": {
        "dimension": "dim_location",
        "hierarchy": "Country Name",
        "order": "NaturalOrder",
        "type": "String"
       },
       "Discipline Title (dim_discipline/Discipline Title/Discipline Title)": {
        "dimension": "dim_discipline",
        "hierarchy": "Discipline Title",
        "order": "NaturalOrder",
        "type": "String"
       },
       "Event Gender (dim_discipline/Event Gender/Event Gender)": {
        "dimension": "dim_discipline",
        "hierarchy": "Event Gender",
        "order": "NaturalOrder",
        "type": "String"
       },
       "Event Title (dim_discipline/Event Title/Event Title)": {
        "dimension": "dim_discipline",
        "hierarchy": "Event Title",
        "order": "NaturalOrder",
        "type": "String"
       },
       "Game Season (dim_olympic_game/Game Season/Game Season)": {
        "dimension": "dim_olympic_game",
        "hierarchy": "Game Season",
        "order": "NaturalOrder",
        "type": "String"
       },
       "Game Year (dim_time/Game Year/Game Year)": {
        "dimension": "dim_time",
        "hierarchy": "Game Year",
        "order": "NaturalOrder",
        "type": "String"
       },
       "Medal Type (dim_medal_types/Medal Type/Medal Type)": {
        "dimension": "dim_medal_types",
        "hierarchy": "Medal Type",
        "order": "NaturalOrder",
        "type": "String"
       },
       "Medals Fact ID (fact_medals_count/Medals Fact ID/Medals Fact ID)": {
        "dimension": "fact_medals_count",
        "hierarchy": "Medals Fact ID",
        "order": "NaturalOrder",
        "type": "int"
       },
       "Participant Type (dim_discipline/Participant Type/Participant Type)": {
        "dimension": "dim_discipline",
        "hierarchy": "Participant Type",
        "order": "NaturalOrder",
        "type": "String"
       },
       "Slug Game (dim_olympic_game/Slug Game/Slug Game)": {
        "dimension": "dim_olympic_game",
        "hierarchy": "Slug Game",
        "order": "NaturalOrder",
        "type": "String"
       }
      },
      "text/html": [
       "<ul>\n",
       "<li>Levels\n",
       "  <ul>\n",
       "  <li>Athlete Full Name (dim_athlete/Athlete Full Name/Athlete Full Name)\n",
       "    <ul>\n",
       "    <li>dimension: dim_athlete</li>\n",
       "    <li>hierarchy: Athlete Full Name</li>\n",
       "    <li>type: String</li>\n",
       "    <li>order: NaturalOrder</li>\n",
       "    </ul>\n",
       "  </li>\n",
       "  <li>Continent (dim_location/Continent/Continent)\n",
       "    <ul>\n",
       "    <li>dimension: dim_location</li>\n",
       "    <li>hierarchy: Continent</li>\n",
       "    <li>type: String</li>\n",
       "    <li>order: NaturalOrder</li>\n",
       "    </ul>\n",
       "  </li>\n",
       "  <li>Country Name (dim_location/Country Name/Country Name)\n",
       "    <ul>\n",
       "    <li>dimension: dim_location</li>\n",
       "    <li>hierarchy: Country Name</li>\n",
       "    <li>type: String</li>\n",
       "    <li>order: NaturalOrder</li>\n",
       "    </ul>\n",
       "  </li>\n",
       "  <li>Discipline Title (dim_discipline/Discipline Title/Discipline Title)\n",
       "    <ul>\n",
       "    <li>dimension: dim_discipline</li>\n",
       "    <li>hierarchy: Discipline Title</li>\n",
       "    <li>type: String</li>\n",
       "    <li>order: NaturalOrder</li>\n",
       "    </ul>\n",
       "  </li>\n",
       "  <li>Event Gender (dim_discipline/Event Gender/Event Gender)\n",
       "    <ul>\n",
       "    <li>dimension: dim_discipline</li>\n",
       "    <li>hierarchy: Event Gender</li>\n",
       "    <li>type: String</li>\n",
       "    <li>order: NaturalOrder</li>\n",
       "    </ul>\n",
       "  </li>\n",
       "  <li>Event Title (dim_discipline/Event Title/Event Title)\n",
       "    <ul>\n",
       "    <li>dimension: dim_discipline</li>\n",
       "    <li>hierarchy: Event Title</li>\n",
       "    <li>type: String</li>\n",
       "    <li>order: NaturalOrder</li>\n",
       "    </ul>\n",
       "  </li>\n",
       "  <li>Game Season (dim_olympic_game/Game Season/Game Season)\n",
       "    <ul>\n",
       "    <li>dimension: dim_olympic_game</li>\n",
       "    <li>hierarchy: Game Season</li>\n",
       "    <li>type: String</li>\n",
       "    <li>order: NaturalOrder</li>\n",
       "    </ul>\n",
       "  </li>\n",
       "  <li>Game Year (dim_time/Game Year/Game Year)\n",
       "    <ul>\n",
       "    <li>dimension: dim_time</li>\n",
       "    <li>hierarchy: Game Year</li>\n",
       "    <li>type: String</li>\n",
       "    <li>order: NaturalOrder</li>\n",
       "    </ul>\n",
       "  </li>\n",
       "  <li>Medal Type (dim_medal_types/Medal Type/Medal Type)\n",
       "    <ul>\n",
       "    <li>dimension: dim_medal_types</li>\n",
       "    <li>hierarchy: Medal Type</li>\n",
       "    <li>type: String</li>\n",
       "    <li>order: NaturalOrder</li>\n",
       "    </ul>\n",
       "  </li>\n",
       "  <li>Medals Fact ID (fact_medals_count/Medals Fact ID/Medals Fact ID)\n",
       "    <ul>\n",
       "    <li>dimension: fact_medals_count</li>\n",
       "    <li>hierarchy: Medals Fact ID</li>\n",
       "    <li>type: int</li>\n",
       "    <li>order: NaturalOrder</li>\n",
       "    </ul>\n",
       "  </li>\n",
       "  <li>Participant Type (dim_discipline/Participant Type/Participant Type)\n",
       "    <ul>\n",
       "    <li>dimension: dim_discipline</li>\n",
       "    <li>hierarchy: Participant Type</li>\n",
       "    <li>type: String</li>\n",
       "    <li>order: NaturalOrder</li>\n",
       "    </ul>\n",
       "  </li>\n",
       "  <li>Slug Game (dim_olympic_game/Slug Game/Slug Game)\n",
       "    <ul>\n",
       "    <li>dimension: dim_olympic_game</li>\n",
       "    <li>hierarchy: Slug Game</li>\n",
       "    <li>type: String</li>\n",
       "    <li>order: NaturalOrder</li>\n",
       "    </ul>\n",
       "  </li>\n",
       "  </ul>\n",
       "</li>\n",
       "</ul>\n"
      ],
      "text/plain": [
       "<atoti.levels.Levels at 0x7fffac4e2010>"
      ]
     },
     "execution_count": 29,
     "metadata": {
      "application/json": {
       "expanded": true,
       "root": "Levels"
      }
     },
     "output_type": "execute_result"
    }
   ],
   "source": [
    "levels"
   ]
  },
  {
   "cell_type": "markdown",
   "id": "31a9e830-3085-48c8-92f3-3f4f679e85c6",
   "metadata": {},
   "source": [
    "**1(8). Check measures:**"
   ]
  },
  {
   "cell_type": "code",
   "execution_count": 30,
   "id": "e80c6659-0aaa-4697-b2d4-e04c41f1e0cf",
   "metadata": {},
   "outputs": [
    {
     "data": {
      "application/json": {
       "Athlete ID.MEAN": {
        "formatter": "DOUBLE[#,###.00]"
       },
       "Athlete ID.SUM": {
        "formatter": "INT[#,###]"
       },
       "Discipline ID.MEAN": {
        "formatter": "DOUBLE[#,###.00]"
       },
       "Discipline ID.SUM": {
        "formatter": "INT[#,###]"
       },
       "Game Year ID.MEAN": {
        "formatter": "DOUBLE[#,###.00]"
       },
       "Game Year ID.SUM": {
        "formatter": "INT[#,###]"
       },
       "Location ID.MEAN": {
        "formatter": "DOUBLE[#,###.00]"
       },
       "Location ID.SUM": {
        "formatter": "INT[#,###]"
       },
       "Medal Type ID.MEAN": {
        "formatter": "DOUBLE[#,###.00]"
       },
       "Medal Type ID.SUM": {
        "formatter": "INT[#,###]"
       },
       "Olympic Game ID.MEAN": {
        "formatter": "DOUBLE[#,###.00]"
       },
       "Olympic Game ID.SUM": {
        "formatter": "INT[#,###]"
       },
       "contributors.COUNT": {
        "formatter": "INT[#,###]"
       },
       "medal_count.MEAN": {
        "formatter": "DOUBLE[#,###.00]"
       },
       "medal_count.SUM": {
        "formatter": "INT[#,###]"
       }
      },
      "text/html": [
       "<ul>\n",
       "<li>Measures\n",
       "  <ul>\n",
       "  <li>Athlete ID.MEAN\n",
       "    <ul>\n",
       "    <li>formatter: DOUBLE[#,###.00]</li>\n",
       "    </ul>\n",
       "  </li>\n",
       "  <li>Athlete ID.SUM\n",
       "    <ul>\n",
       "    <li>formatter: INT[#,###]</li>\n",
       "    </ul>\n",
       "  </li>\n",
       "  <li>Discipline ID.MEAN\n",
       "    <ul>\n",
       "    <li>formatter: DOUBLE[#,###.00]</li>\n",
       "    </ul>\n",
       "  </li>\n",
       "  <li>Discipline ID.SUM\n",
       "    <ul>\n",
       "    <li>formatter: INT[#,###]</li>\n",
       "    </ul>\n",
       "  </li>\n",
       "  <li>Game Year ID.MEAN\n",
       "    <ul>\n",
       "    <li>formatter: DOUBLE[#,###.00]</li>\n",
       "    </ul>\n",
       "  </li>\n",
       "  <li>Game Year ID.SUM\n",
       "    <ul>\n",
       "    <li>formatter: INT[#,###]</li>\n",
       "    </ul>\n",
       "  </li>\n",
       "  <li>Location ID.MEAN\n",
       "    <ul>\n",
       "    <li>formatter: DOUBLE[#,###.00]</li>\n",
       "    </ul>\n",
       "  </li>\n",
       "  <li>Location ID.SUM\n",
       "    <ul>\n",
       "    <li>formatter: INT[#,###]</li>\n",
       "    </ul>\n",
       "  </li>\n",
       "  <li>Medal Type ID.MEAN\n",
       "    <ul>\n",
       "    <li>formatter: DOUBLE[#,###.00]</li>\n",
       "    </ul>\n",
       "  </li>\n",
       "  <li>Medal Type ID.SUM\n",
       "    <ul>\n",
       "    <li>formatter: INT[#,###]</li>\n",
       "    </ul>\n",
       "  </li>\n",
       "  <li>Olympic Game ID.MEAN\n",
       "    <ul>\n",
       "    <li>formatter: DOUBLE[#,###.00]</li>\n",
       "    </ul>\n",
       "  </li>\n",
       "  <li>Olympic Game ID.SUM\n",
       "    <ul>\n",
       "    <li>formatter: INT[#,###]</li>\n",
       "    </ul>\n",
       "  </li>\n",
       "  <li>contributors.COUNT\n",
       "    <ul>\n",
       "    <li>formatter: INT[#,###]</li>\n",
       "    </ul>\n",
       "  </li>\n",
       "  <li>medal_count.MEAN\n",
       "    <ul>\n",
       "    <li>formatter: DOUBLE[#,###.00]</li>\n",
       "    </ul>\n",
       "  </li>\n",
       "  <li>medal_count.SUM\n",
       "    <ul>\n",
       "    <li>formatter: INT[#,###]</li>\n",
       "    </ul>\n",
       "  </li>\n",
       "  </ul>\n",
       "</li>\n",
       "</ul>\n"
      ],
      "text/plain": [
       "{'contributors.COUNT': <atoti.measure.Measure object at 0x7fffac34b790>, 'update.TIMESTAMP': <atoti.measure.Measure object at 0x7fffac34b810>, 'Athlete ID.SUM': <atoti.measure.Measure object at 0x7fffac34b850>, 'Athlete ID.MEAN': <atoti.measure.Measure object at 0x7fffac34b890>, 'Game Year ID.SUM': <atoti.measure.Measure object at 0x7fffac34b8d0>, 'Game Year ID.MEAN': <atoti.measure.Measure object at 0x7fffac34b910>, 'Medal Type ID.SUM': <atoti.measure.Measure object at 0x7fffac34b950>, 'Medal Type ID.MEAN': <atoti.measure.Measure object at 0x7fffac34b990>, 'Discipline ID.SUM': <atoti.measure.Measure object at 0x7fffac34b9d0>, 'Discipline ID.MEAN': <atoti.measure.Measure object at 0x7fffac34ba10>, 'Olympic Game ID.SUM': <atoti.measure.Measure object at 0x7fffac34ba50>, 'Olympic Game ID.MEAN': <atoti.measure.Measure object at 0x7fffac34ba90>, 'Location ID.SUM': <atoti.measure.Measure object at 0x7fffac34bad0>, 'Location ID.MEAN': <atoti.measure.Measure object at 0x7fffac34bb10>, 'medal_count.SUM': <atoti.measure.Measure object at 0x7fffac34bb50>, 'medal_count.MEAN': <atoti.measure.Measure object at 0x7fffac34bb90>}"
      ]
     },
     "execution_count": 30,
     "metadata": {
      "application/json": {
       "expanded": false,
       "root": "Measures"
      }
     },
     "output_type": "execute_result"
    }
   ],
   "source": [
    "measures"
   ]
  },
  {
   "cell_type": "markdown",
   "id": "0a39587a-7fab-4540-957b-06a8f3eb6261",
   "metadata": {},
   "source": [
    "**1(9). Fix errors that exist in the current hierarchies:**"
   ]
  },
  {
   "cell_type": "code",
   "execution_count": 31,
   "id": "99f10b9c-243e-485a-8f47-cb151df50544",
   "metadata": {},
   "outputs": [],
   "source": [
    "# Right hierarchies of the cube:\n",
    "# dim_athlete: Athlete Full Name\n",
    "# dim_discipline: Discipline Title, Participant Type, Event Gender, Event Title\n",
    "# dim_location: Continent, Country Name\n",
    "# dim_medal_types: Medal Type\n",
    "# dim_olympic_game: Game Season, Slug Game\n",
    "# dim_time: Game Year"
   ]
  },
  {
   "cell_type": "code",
   "execution_count": 32,
   "id": "65269037-417c-4d84-adf3-a006e052bdef",
   "metadata": {},
   "outputs": [],
   "source": [
    "hierarchies[\"dim_athlete\"] = [levels[\"Athlete Full Name\"]]"
   ]
  },
  {
   "cell_type": "code",
   "execution_count": 33,
   "id": "bd49151b-dce3-4ef9-82e7-12f50758b08d",
   "metadata": {},
   "outputs": [],
   "source": [
    "hierarchies[\"dim_discipline\"] = [levels[\"Discipline Title\"], levels[\"Participant Type\"], levels[\"Event Gender\"], levels[\"Event Title\"]]"
   ]
  },
  {
   "cell_type": "code",
   "execution_count": 34,
   "id": "0f15c8ac-4e83-402a-a946-ae3744835688",
   "metadata": {},
   "outputs": [],
   "source": [
    "hierarchies[\"dim_location\"] = [levels[\"Continent\"], levels[\"Country Name\"]]"
   ]
  },
  {
   "cell_type": "code",
   "execution_count": 35,
   "id": "7db6e2e9-8dc1-43c1-b957-a630e94a5e84",
   "metadata": {},
   "outputs": [],
   "source": [
    "hierarchies[\"dim_medal_types\"] = [levels[\"Medal Type\"]]"
   ]
  },
  {
   "cell_type": "code",
   "execution_count": 36,
   "id": "b10e4e33-201e-4afe-b0d3-81fc552927da",
   "metadata": {},
   "outputs": [],
   "source": [
    "hierarchies[\"dim_olympic_game\"] = [levels[\"Game Season\"], levels[\"Slug Game\"]]"
   ]
  },
  {
   "cell_type": "code",
   "execution_count": 37,
   "id": "f36b20c4-28af-4690-a2e2-81d3d1c00ed3",
   "metadata": {},
   "outputs": [],
   "source": [
    "hierarchies[\"dim_time\"] = [levels[\"Game Year\"]]"
   ]
  },
  {
   "cell_type": "code",
   "execution_count": 38,
   "id": "b24ee188-a726-462d-9ca4-65803ce6aa3f",
   "metadata": {},
   "outputs": [
    {
     "data": {
      "application/json": {
       "dim_athlete": {
        "Athlete Full Name": [
         "Athlete Full Name"
        ],
        "dim_athlete": [
         "Athlete Full Name"
        ]
       },
       "dim_discipline": {
        "Discipline Title": [
         "Discipline Title"
        ],
        "Event Gender": [
         "Event Gender"
        ],
        "Event Title": [
         "Event Title"
        ],
        "Participant Type": [
         "Participant Type"
        ],
        "dim_discipline": [
         "Discipline Title",
         "Participant Type",
         "Event Gender",
         "Event Title"
        ]
       },
       "dim_location": {
        "Continent": [
         "Continent"
        ],
        "Country Name": [
         "Country Name"
        ],
        "dim_location": [
         "Continent",
         "Country Name"
        ]
       },
       "dim_medal_types": {
        "Medal Type": [
         "Medal Type"
        ],
        "dim_medal_types": [
         "Medal Type"
        ]
       },
       "dim_olympic_game": {
        "Game Season": [
         "Game Season"
        ],
        "Slug Game": [
         "Slug Game"
        ],
        "dim_olympic_game": [
         "Game Season",
         "Slug Game"
        ]
       },
       "dim_time": {
        "Game Year": [
         "Game Year"
        ],
        "dim_time": [
         "Game Year"
        ]
       },
       "fact_medals_count": {
        "Medals Fact ID": [
         "Medals Fact ID"
        ]
       }
      },
      "text/html": [
       "<ul>\n",
       "<li>Dimensions\n",
       "  <ul>\n",
       "  <li>dim_athlete\n",
       "    <ul>\n",
       "    <li>Athlete Full Name\n",
       "      <ol>\n",
       "      <li>Athlete Full Name</li>\n",
       "      </ol>    </li>\n",
       "    <li>dim_athlete\n",
       "      <ol>\n",
       "      <li>Athlete Full Name</li>\n",
       "      </ol>    </li>\n",
       "    </ul>\n",
       "  </li>\n",
       "  <li>dim_discipline\n",
       "    <ul>\n",
       "    <li>Discipline Title\n",
       "      <ol>\n",
       "      <li>Discipline Title</li>\n",
       "      </ol>    </li>\n",
       "    <li>Event Gender\n",
       "      <ol>\n",
       "      <li>Event Gender</li>\n",
       "      </ol>    </li>\n",
       "    <li>Event Title\n",
       "      <ol>\n",
       "      <li>Event Title</li>\n",
       "      </ol>    </li>\n",
       "    <li>Participant Type\n",
       "      <ol>\n",
       "      <li>Participant Type</li>\n",
       "      </ol>    </li>\n",
       "    <li>dim_discipline\n",
       "      <ol>\n",
       "      <li>Discipline Title</li>\n",
       "      <li>Participant Type</li>\n",
       "      <li>Event Gender</li>\n",
       "      <li>Event Title</li>\n",
       "      </ol>    </li>\n",
       "    </ul>\n",
       "  </li>\n",
       "  <li>dim_location\n",
       "    <ul>\n",
       "    <li>Continent\n",
       "      <ol>\n",
       "      <li>Continent</li>\n",
       "      </ol>    </li>\n",
       "    <li>Country Name\n",
       "      <ol>\n",
       "      <li>Country Name</li>\n",
       "      </ol>    </li>\n",
       "    <li>dim_location\n",
       "      <ol>\n",
       "      <li>Continent</li>\n",
       "      <li>Country Name</li>\n",
       "      </ol>    </li>\n",
       "    </ul>\n",
       "  </li>\n",
       "  <li>dim_medal_types\n",
       "    <ul>\n",
       "    <li>Medal Type\n",
       "      <ol>\n",
       "      <li>Medal Type</li>\n",
       "      </ol>    </li>\n",
       "    <li>dim_medal_types\n",
       "      <ol>\n",
       "      <li>Medal Type</li>\n",
       "      </ol>    </li>\n",
       "    </ul>\n",
       "  </li>\n",
       "  <li>dim_olympic_game\n",
       "    <ul>\n",
       "    <li>Game Season\n",
       "      <ol>\n",
       "      <li>Game Season</li>\n",
       "      </ol>    </li>\n",
       "    <li>Slug Game\n",
       "      <ol>\n",
       "      <li>Slug Game</li>\n",
       "      </ol>    </li>\n",
       "    <li>dim_olympic_game\n",
       "      <ol>\n",
       "      <li>Game Season</li>\n",
       "      <li>Slug Game</li>\n",
       "      </ol>    </li>\n",
       "    </ul>\n",
       "  </li>\n",
       "  <li>dim_time\n",
       "    <ul>\n",
       "    <li>Game Year\n",
       "      <ol>\n",
       "      <li>Game Year</li>\n",
       "      </ol>    </li>\n",
       "    <li>dim_time\n",
       "      <ol>\n",
       "      <li>Game Year</li>\n",
       "      </ol>    </li>\n",
       "    </ul>\n",
       "  </li>\n",
       "  <li>fact_medals_count\n",
       "    <ul>\n",
       "    <li>Medals Fact ID\n",
       "      <ol>\n",
       "      <li>Medals Fact ID</li>\n",
       "      </ol>    </li>\n",
       "    </ul>\n",
       "  </li>\n",
       "  </ul>\n",
       "</li>\n",
       "</ul>\n"
      ],
      "text/plain": [
       "{('dim_location', 'dim_location'): <atoti.hierarchy.Hierarchy object at 0x7fffac363250>, ('fact_medals_count', 'Medals Fact ID'): <atoti.hierarchy.Hierarchy object at 0x7fffac363510>, ('dim_medal_types', 'Medal Type'): <atoti.hierarchy.Hierarchy object at 0x7fffac363650>, ('dim_time', 'dim_time'): <atoti.hierarchy.Hierarchy object at 0x7fffac363790>, ('dim_location', 'Country Name'): <atoti.hierarchy.Hierarchy object at 0x7fffac3638d0>, ('dim_discipline', 'Discipline Title'): <atoti.hierarchy.Hierarchy object at 0x7fffac363a10>, ('dim_olympic_game', 'Slug Game'): <atoti.hierarchy.Hierarchy object at 0x7fffac363b50>, ('dim_time', 'Game Year'): <atoti.hierarchy.Hierarchy object at 0x7fffac363c90>, ('dim_olympic_game', 'Game Season'): <atoti.hierarchy.Hierarchy object at 0x7fffac363dd0>, ('dim_discipline', 'Event Title'): <atoti.hierarchy.Hierarchy object at 0x7fffac363f10>, ('dim_discipline', 'Event Gender'): <atoti.hierarchy.Hierarchy object at 0x7fffac36c090>, ('dim_athlete', 'dim_athlete'): <atoti.hierarchy.Hierarchy object at 0x7fffac36c1d0>, ('dim_location', 'Continent'): <atoti.hierarchy.Hierarchy object at 0x7fffac36c310>, ('dim_athlete', 'Athlete Full Name'): <atoti.hierarchy.Hierarchy object at 0x7fffac36c450>, ('dim_discipline', 'Participant Type'): <atoti.hierarchy.Hierarchy object at 0x7fffac36c590>, ('dim_medal_types', 'dim_medal_types'): <atoti.hierarchy.Hierarchy object at 0x7fffac36c6d0>, ('dim_discipline', 'dim_discipline'): <atoti.hierarchy.Hierarchy object at 0x7fffac36c810>, ('dim_olympic_game', 'dim_olympic_game'): <atoti.hierarchy.Hierarchy object at 0x7fffac36cb90>}"
      ]
     },
     "execution_count": 38,
     "metadata": {
      "application/json": {
       "expanded": true,
       "root": "Dimensions"
      }
     },
     "output_type": "execute_result"
    }
   ],
   "source": [
    "hierarchies"
   ]
  },
  {
   "cell_type": "markdown",
   "id": "b6f9acb0-3dbc-494f-91d5-6e5afbdb4032",
   "metadata": {},
   "source": [
    "**1(10). Clean hierarchies that we don't need:**"
   ]
  },
  {
   "cell_type": "code",
   "execution_count": 39,
   "id": "67302b31-c63a-4974-835d-57668baf18f6",
   "metadata": {},
   "outputs": [],
   "source": [
    "# clean dim_athlete\n",
    "del hierarchies[(\"dim_athlete\", \"Athlete Full Name\")]"
   ]
  },
  {
   "cell_type": "code",
   "execution_count": 40,
   "id": "3951e7ab-aa6d-4be3-9f4c-8f8cf14b89bf",
   "metadata": {},
   "outputs": [],
   "source": [
    "# clean dim_discipline\n",
    "del hierarchies[(\"dim_discipline\", \"Discipline Title\")]\n",
    "del hierarchies[(\"dim_discipline\", \"Event Gender\")]\n",
    "del hierarchies[(\"dim_discipline\", \"Event Title\")]\n",
    "del hierarchies[(\"dim_discipline\", \"Participant Type\")]"
   ]
  },
  {
   "cell_type": "code",
   "execution_count": 41,
   "id": "c6b15922-2187-4cd4-9cb1-9459e5775b1b",
   "metadata": {},
   "outputs": [],
   "source": [
    "# clean dim_location\n",
    "del hierarchies[(\"dim_location\", \"Continent\")]\n",
    "del hierarchies[(\"dim_location\", \"Country Name\")]"
   ]
  },
  {
   "cell_type": "code",
   "execution_count": 42,
   "id": "0b94ae85-5a15-48ea-a4fd-a02ab7166389",
   "metadata": {},
   "outputs": [],
   "source": [
    "# clean dim_medal_types\n",
    "del hierarchies[(\"dim_medal_types\", \"Medal Type\")]"
   ]
  },
  {
   "cell_type": "code",
   "execution_count": 43,
   "id": "3fc2f9ff-15c9-4e3f-97c5-6fe88b0ab395",
   "metadata": {},
   "outputs": [],
   "source": [
    "# clean dim_olympic_game\n",
    "del hierarchies[(\"dim_olympic_game\", \"Game Season\")]\n",
    "del hierarchies[(\"dim_olympic_game\", \"Slug Game\")]"
   ]
  },
  {
   "cell_type": "code",
   "execution_count": 44,
   "id": "b16da9d3-a574-494e-beb8-3b38008f7add",
   "metadata": {},
   "outputs": [],
   "source": [
    "# clean dim_time\n",
    "del hierarchies[(\"dim_time\", \"Game Year\")]"
   ]
  },
  {
   "cell_type": "code",
   "execution_count": 45,
   "id": "2d289989-089d-4d39-a38f-a95a4331625a",
   "metadata": {},
   "outputs": [],
   "source": [
    "# clean fact_medals_count\n",
    "del hierarchies[(\"fact_medals_count\", \"Medals Fact ID\")]"
   ]
  },
  {
   "cell_type": "code",
   "execution_count": 46,
   "id": "ee208b00-fcae-4042-a6e9-f7dc4514453d",
   "metadata": {},
   "outputs": [
    {
     "data": {
      "application/json": {
       "dim_athlete": {
        "dim_athlete": [
         "Athlete Full Name"
        ]
       },
       "dim_discipline": {
        "dim_discipline": [
         "Discipline Title",
         "Participant Type",
         "Event Gender",
         "Event Title"
        ]
       },
       "dim_location": {
        "dim_location": [
         "Continent",
         "Country Name"
        ]
       },
       "dim_medal_types": {
        "dim_medal_types": [
         "Medal Type"
        ]
       },
       "dim_olympic_game": {
        "dim_olympic_game": [
         "Game Season",
         "Slug Game"
        ]
       },
       "dim_time": {
        "dim_time": [
         "Game Year"
        ]
       }
      },
      "text/html": [
       "<ul>\n",
       "<li>Dimensions\n",
       "  <ul>\n",
       "  <li>dim_athlete\n",
       "    <ul>\n",
       "    <li>dim_athlete\n",
       "      <ol>\n",
       "      <li>Athlete Full Name</li>\n",
       "      </ol>    </li>\n",
       "    </ul>\n",
       "  </li>\n",
       "  <li>dim_discipline\n",
       "    <ul>\n",
       "    <li>dim_discipline\n",
       "      <ol>\n",
       "      <li>Discipline Title</li>\n",
       "      <li>Participant Type</li>\n",
       "      <li>Event Gender</li>\n",
       "      <li>Event Title</li>\n",
       "      </ol>    </li>\n",
       "    </ul>\n",
       "  </li>\n",
       "  <li>dim_location\n",
       "    <ul>\n",
       "    <li>dim_location\n",
       "      <ol>\n",
       "      <li>Continent</li>\n",
       "      <li>Country Name</li>\n",
       "      </ol>    </li>\n",
       "    </ul>\n",
       "  </li>\n",
       "  <li>dim_medal_types\n",
       "    <ul>\n",
       "    <li>dim_medal_types\n",
       "      <ol>\n",
       "      <li>Medal Type</li>\n",
       "      </ol>    </li>\n",
       "    </ul>\n",
       "  </li>\n",
       "  <li>dim_olympic_game\n",
       "    <ul>\n",
       "    <li>dim_olympic_game\n",
       "      <ol>\n",
       "      <li>Game Season</li>\n",
       "      <li>Slug Game</li>\n",
       "      </ol>    </li>\n",
       "    </ul>\n",
       "  </li>\n",
       "  <li>dim_time\n",
       "    <ul>\n",
       "    <li>dim_time\n",
       "      <ol>\n",
       "      <li>Game Year</li>\n",
       "      </ol>    </li>\n",
       "    </ul>\n",
       "  </li>\n",
       "  </ul>\n",
       "</li>\n",
       "</ul>\n"
      ],
      "text/plain": [
       "{('dim_location', 'dim_location'): <atoti.hierarchy.Hierarchy object at 0x7fffac515d10>, ('dim_athlete', 'dim_athlete'): <atoti.hierarchy.Hierarchy object at 0x7fffac506310>, ('dim_medal_types', 'dim_medal_types'): <atoti.hierarchy.Hierarchy object at 0x7fffac5066d0>, ('dim_time', 'dim_time'): <atoti.hierarchy.Hierarchy object at 0x7fffac5065d0>, ('dim_discipline', 'dim_discipline'): <atoti.hierarchy.Hierarchy object at 0x7fffac507c50>, ('dim_olympic_game', 'dim_olympic_game'): <atoti.hierarchy.Hierarchy object at 0x7fffac507910>}"
      ]
     },
     "execution_count": 46,
     "metadata": {
      "application/json": {
       "expanded": true,
       "root": "Dimensions"
      }
     },
     "output_type": "execute_result"
    }
   ],
   "source": [
    "hierarchies"
   ]
  },
  {
   "cell_type": "markdown",
   "id": "457f35bb-114b-4a6c-9d51-5bbd1e741ca8",
   "metadata": {},
   "source": [
    "**1(11). Clean meaningless measures:**"
   ]
  },
  {
   "cell_type": "code",
   "execution_count": 47,
   "id": "e1207d92-b138-4a98-a64e-a8f1bdc00490",
   "metadata": {},
   "outputs": [],
   "source": [
    "# Clean measures\n",
    "del measures[\"Athlete ID.MEAN\"]\n",
    "del measures[\"Athlete ID.SUM\"]\n",
    "del measures[\"Discipline ID.MEAN\"]\n",
    "del measures[\"Discipline ID.SUM\"]\n",
    "del measures[\"Game Year ID.MEAN\"]\n",
    "del measures[\"Game Year ID.SUM\"]\n",
    "del measures[\"Location ID.MEAN\"]\n",
    "del measures[\"Location ID.SUM\"]\n",
    "del measures[\"Medal Type ID.MEAN\"]\n",
    "del measures[\"Medal Type ID.SUM\"]\n",
    "del measures[\"Olympic Game ID.MEAN\"]\n",
    "del measures[\"Olympic Game ID.SUM\"]\n",
    "del measures[\"contributors.COUNT\"]\n",
    "del measures[\"medal_count.MEAN\"]"
   ]
  },
  {
   "cell_type": "code",
   "execution_count": 48,
   "id": "b8d57a5f-2d6b-4b19-9ef9-080fdad2eed5",
   "metadata": {},
   "outputs": [
    {
     "data": {
      "application/json": {
       "medal_count.SUM": {
        "formatter": "INT[#,###]"
       }
      },
      "text/html": [
       "<ul>\n",
       "<li>Measures\n",
       "  <ul>\n",
       "  <li>medal_count.SUM\n",
       "    <ul>\n",
       "    <li>formatter: INT[#,###]</li>\n",
       "    </ul>\n",
       "  </li>\n",
       "  </ul>\n",
       "</li>\n",
       "</ul>\n"
      ],
      "text/plain": [
       "{'update.TIMESTAMP': <atoti.measure.Measure object at 0x7ffffc9772d0>, 'medal_count.SUM': <atoti.measure.Measure object at 0x7ffffc977a50>}"
      ]
     },
     "execution_count": 48,
     "metadata": {
      "application/json": {
       "expanded": false,
       "root": "Measures"
      }
     },
     "output_type": "execute_result"
    }
   ],
   "source": [
    "measures"
   ]
  },
  {
   "cell_type": "markdown",
   "id": "fdec49cc-adde-46e0-be7d-8da06e59feb7",
   "metadata": {},
   "source": [
    "**1(12). Use atoti to visualise queries:**"
   ]
  },
  {
   "cell_type": "markdown",
   "id": "f7d502e9-e002-430e-a32d-48cd23460b8c",
   "metadata": {},
   "source": [
    "**- Query 1. What is the trend of the number of medals won by China in the Summer Olympic Games over the various years available in the dataset:**"
   ]
  },
  {
   "cell_type": "code",
   "execution_count": 49,
   "id": "76b8bca4-1355-4699-932e-a41c46dea401",
   "metadata": {
    "atoti": {
     "height": 553,
     "widget": {
      "filters": [
       {
        "dimensionName": "dim_olympic_game",
        "hierarchyName": "dim_olympic_game",
        "isExclusionFilter": false,
        "members": [
         [
          "AllMember",
          "Summer"
         ]
        ],
        "type": "members"
       },
       {
        "dimensionName": "dim_location",
        "hierarchyName": "dim_location",
        "isExclusionFilter": false,
        "members": [
         [
          "AllMember",
          "Asia",
          "China"
         ]
        ],
        "type": "members"
       }
      ],
      "mapping": {
       "horizontalSubplots": [],
       "secondaryValues": [],
       "splitBy": [
        "ALL_MEASURES"
       ],
       "values": [
        "[Measures].[medal_count.SUM]"
       ],
       "verticalSubplots": [],
       "xAxis": [
        "[dim_location].[dim_location].[Country Name]",
        "[dim_time].[dim_time].[Game Year]",
        "[dim_olympic_game].[dim_olympic_game].[Game Season]"
       ]
      },
      "name": "Trend of China's number of medals in summer olympic game",
      "plotly": {
       "layout": {
        "showlegend": true
       }
      },
      "query": {
       "mdx": "SELECT NON EMPTY Crossjoin(Hierarchize(Descendants({[dim_location].[dim_location].[ALL].[AllMember]}, 2, SELF_AND_BEFORE)), Hierarchize(Descendants({[dim_time].[dim_time].[ALL].[AllMember]}, 1, SELF_AND_BEFORE)), Hierarchize(Descendants({[dim_olympic_game].[dim_olympic_game].[ALL].[AllMember]}, 1, SELF_AND_BEFORE))) DIMENSION PROPERTIES CHILDREN_CARDINALITY ON ROWS, NON EMPTY {[Measures].[medal_count.SUM]} ON COLUMNS FROM [fact_medals_count] CELL PROPERTIES VALUE, FORMATTED_VALUE, BACK_COLOR, FORE_COLOR, FONT_FLAGS",
       "updateMode": "once"
      },
      "serverKey": "default",
      "style": {
       "areAxisTitlesVisible": true,
       "isTextVisible": true,
       "markerSize": 4,
       "measures": {
        "medal_count.SUM": {
         "default": {
          "backgroundColor": "#8C8C8C"
         },
         "justifyContent": "left",
         "numberFormat": "number",
         "numberOfDecimals": 0
        }
       },
       "tuples": {
        "[Measures].[medal_count.SUM]": {
         "backgroundColor": "#ff9da7"
        }
       }
      },
      "subplotLimits": {
       "horizontal": 6,
       "vertical": 6
      },
      "widgetKey": "plotly-line-chart"
     }
    }
   },
   "outputs": [
    {
     "data": {
      "application/vnd.atoti.widget.v0+json": {
       "sessionId": "1714324954_GAWOTI",
       "sessionLocation": {
        "https": false,
        "port": 9092
       },
       "widgetCreationCode": "session.widget"
      },
      "text/html": [
       "<img height=\"0\" width=\"0\" src=\"data:,AAAAAAAAAAAAAAAAAAAAAAAAAAAAAAAAAAAAAAAAAAAAAAAACXBIWXMAAA1JAAANSQGKhkvf\" />"
      ],
      "text/plain": [
       "Open the notebook in JupyterLab with the Atoti JupyterLab extension enabled to build this widget."
      ]
     },
     "metadata": {},
     "output_type": "display_data"
    }
   ],
   "source": [
    "session.widget"
   ]
  },
  {
   "cell_type": "markdown",
   "id": "f0fd58f9-0fbd-4026-9725-58ac7bb349de",
   "metadata": {},
   "source": [
    "**- Query 1 Starnet:**"
   ]
  },
  {
   "cell_type": "markdown",
   "id": "e2510b45-0e05-42b4-9e24-ce980bacf891",
   "metadata": {},
   "source": [
    "![starnet](query_1_starnet.png)"
   ]
  },
  {
   "cell_type": "markdown",
   "id": "dfe8d145-5f80-452e-adef-c2a77d9b20f2",
   "metadata": {},
   "source": [
    "**- Query 2. Who is the Chinese individual female athlete who has won the most gold dedals in shooting discipline:**"
   ]
  },
  {
   "cell_type": "code",
   "execution_count": 50,
   "id": "5071b2d4-7f11-48ec-94c6-a1c6ad7584af",
   "metadata": {
    "atoti": {
     "height": 468,
     "widget": {
      "filters": [
       {
        "dimensionName": "dim_location",
        "hierarchyName": "dim_location",
        "isExclusionFilter": false,
        "members": [
         [
          "AllMember",
          "Asia",
          "China"
         ]
        ],
        "type": "members"
       },
       {
        "dimensionName": "dim_discipline",
        "hierarchyName": "dim_discipline",
        "isExclusionFilter": false,
        "members": [
         [
          "AllMember",
          "Shooting",
          "Athlete",
          "Women"
         ]
        ],
        "type": "members"
       }
      ],
      "mapping": {
       "horizontalSubplots": [],
       "sliceBy": [
        "[dim_athlete].[dim_athlete].[Athlete Full Name]",
        "[dim_discipline].[dim_discipline].[Event Gender]"
       ],
       "values": [
        "[Measures].[medal_count.SUM]"
       ],
       "verticalSubplots": []
      },
      "name": "The number of gold medals won by female athlete in China",
      "query": {
       "mdx": "SELECT NON EMPTY {[Measures].[medal_count.SUM]} ON COLUMNS, NON EMPTY Crossjoin(Hierarchize(Descendants({[dim_athlete].[dim_athlete].[ALL].[AllMember]}, 1, SELF_AND_BEFORE)), Hierarchize(Descendants({[dim_discipline].[dim_discipline].[ALL].[AllMember]}, 3, SELF_AND_BEFORE))) DIMENSION PROPERTIES CHILDREN_CARDINALITY ON ROWS FROM [fact_medals_count] CELL PROPERTIES VALUE, FORMATTED_VALUE, BACK_COLOR, FORE_COLOR, FONT_FLAGS",
       "updateMode": "once"
      },
      "serverKey": "default",
      "style": {
       "isTextVisible": true
      },
      "widgetKey": "plotly-pie-chart"
     }
    }
   },
   "outputs": [
    {
     "data": {
      "application/vnd.atoti.widget.v0+json": {
       "sessionId": "1714324954_GAWOTI",
       "sessionLocation": {
        "https": false,
        "port": 9092
       },
       "widgetCreationCode": "session.widget"
      },
      "text/html": [
       "<img height=\"0\" width=\"0\" src=\"data:,AAAAAAAAAAAAAAAAAAAAAAAAAAAAAAAAAAAAAAAAAAAAAAAACXBIWXMAAA1JAAANSQGKhkvf\" />"
      ],
      "text/plain": [
       "Open the notebook in JupyterLab with the Atoti JupyterLab extension enabled to build this widget."
      ]
     },
     "metadata": {},
     "output_type": "display_data"
    }
   ],
   "source": [
    "session.widget"
   ]
  },
  {
   "cell_type": "markdown",
   "id": "8b287a51-364e-4256-81ec-4a938f5a14cd",
   "metadata": {},
   "source": [
    "**- Query 2 Starnet:**"
   ]
  },
  {
   "cell_type": "markdown",
   "id": "0ce20ded-19c7-4a52-a727-8749f69c6234",
   "metadata": {},
   "source": [
    "![starnet](query_2_starnet.png)"
   ]
  },
  {
   "cell_type": "markdown",
   "id": "f757bd2a-ea04-4592-89c5-2756dbd1cc28",
   "metadata": {},
   "source": [
    "**- Query 3. What is the discipline category in which China has won the most gold medals in Olympic history:**"
   ]
  },
  {
   "cell_type": "code",
   "execution_count": 51,
   "id": "4b53a8cc-5911-41b8-a582-9ddedd7ff569",
   "metadata": {
    "atoti": {
     "height": 590,
     "widget": {
      "filters": [
       {
        "dimensionName": "dim_location",
        "hierarchyName": "dim_location",
        "isExclusionFilter": false,
        "members": [
         [
          "AllMember",
          "Asia",
          "China"
         ]
        ],
        "type": "members"
       },
       {
        "dimensionName": "dim_medal_types",
        "hierarchyName": "dim_medal_types",
        "isExclusionFilter": false,
        "members": [
         [
          "AllMember",
          "GOLD"
         ]
        ],
        "type": "members"
       }
      ],
      "mapping": {
       "horizontalSubplots": [],
       "stackBy": [
        "ALL_MEASURES"
       ],
       "values": [
        "[Measures].[medal_count.SUM]"
       ],
       "verticalSubplots": [],
       "xAxis": [
        "[dim_location].[dim_location].[Country Name]",
        "[dim_discipline].[dim_discipline].[Discipline Title]",
        "[dim_medal_types].[dim_medal_types].[Medal Type]"
       ]
      },
      "name": "China's gold medals in discipline category",
      "plotly": {
       "layout": {
        "showlegend": true
       }
      },
      "query": {
       "mdx": "SELECT NON EMPTY {[Measures].[medal_count.SUM]} ON COLUMNS, NON EMPTY Crossjoin(Hierarchize(Descendants({[dim_location].[dim_location].[ALL].[AllMember]}, 2, SELF_AND_BEFORE)), Hierarchize(Descendants({[dim_discipline].[dim_discipline].[ALL].[AllMember]}, 1, SELF_AND_BEFORE)), Hierarchize(Descendants({[dim_medal_types].[dim_medal_types].[ALL].[AllMember]}, 1, SELF_AND_BEFORE))) DIMENSION PROPERTIES CHILDREN_CARDINALITY ON ROWS FROM [fact_medals_count] CELL PROPERTIES VALUE, FORMATTED_VALUE, BACK_COLOR, FORE_COLOR, FONT_FLAGS",
       "updateMode": "once"
      },
      "serverKey": "default",
      "style": {
       "areAxisTitlesVisible": true,
       "isTextVisible": true,
       "tuples": {
        "[Measures].[medal_count.SUM]": {
         "backgroundColor": "#76b7b2"
        }
       }
      },
      "widgetKey": "plotly-stacked-column-chart"
     }
    }
   },
   "outputs": [
    {
     "data": {
      "application/vnd.atoti.widget.v0+json": {
       "sessionId": "1714324954_GAWOTI",
       "sessionLocation": {
        "https": false,
        "port": 9092
       },
       "widgetCreationCode": "session.widget"
      },
      "text/html": [
       "<img height=\"0\" width=\"0\" src=\"data:,AAAAAAAAAAAAAAAAAAAAAAAAAAAAAAAAAAAAAAAAAAAAAAAACXBIWXMAAA1JAAANSQGKhkvf\" />"
      ],
      "text/plain": [
       "Open the notebook in JupyterLab with the Atoti JupyterLab extension enabled to build this widget."
      ]
     },
     "metadata": {},
     "output_type": "display_data"
    }
   ],
   "source": [
    "session.widget"
   ]
  },
  {
   "cell_type": "markdown",
   "id": "86ea28a5-94f9-4f4a-b1cf-87198548868d",
   "metadata": {},
   "source": [
    "**- Query 3 Starnet:**"
   ]
  },
  {
   "cell_type": "markdown",
   "id": "d16a74d4-fc4b-48b3-a5cb-d056ff507563",
   "metadata": {},
   "source": [
    "![starnet](query_3_starnet.png)"
   ]
  },
  {
   "cell_type": "markdown",
   "id": "88d630c1-d18c-47d2-ae03-9655d31dcdc7",
   "metadata": {},
   "source": [
    "**- Query 4. What is the trend of the number of medals won by Australia in the Winter Olympic Games over the various years available in the dataset:**"
   ]
  },
  {
   "cell_type": "code",
   "execution_count": 52,
   "id": "999b46c7-fc1c-40c1-8d27-2ba678237d7c",
   "metadata": {
    "atoti": {
     "height": 489,
     "widget": {
      "filters": [
       {
        "dimensionName": "dim_location",
        "hierarchyName": "dim_location",
        "isExclusionFilter": false,
        "members": [
         [
          "AllMember",
          "Oceania",
          "Australia"
         ]
        ],
        "type": "members"
       },
       {
        "dimensionName": "dim_olympic_game",
        "hierarchyName": "dim_olympic_game",
        "isExclusionFilter": false,
        "members": [
         [
          "AllMember",
          "Winter"
         ]
        ],
        "type": "members"
       }
      ],
      "mapping": {
       "horizontalSubplots": [],
       "stackBy": [
        "ALL_MEASURES"
       ],
       "values": [
        "[Measures].[medal_count.SUM]"
       ],
       "verticalSubplots": [],
       "xAxis": [
        "[dim_location].[dim_location].[Country Name]",
        "[dim_time].[dim_time].[Game Year]",
        "[dim_olympic_game].[dim_olympic_game].[Game Season]"
       ]
      },
      "name": "Trend of Australia's number of medals in winter olympic game",
      "query": {
       "mdx": "SELECT NON EMPTY Crossjoin(Hierarchize(Descendants({[dim_location].[dim_location].[ALL].[AllMember]}, 2, SELF_AND_BEFORE)), Hierarchize(Descendants({[dim_time].[dim_time].[ALL].[AllMember]}, 1, SELF_AND_BEFORE)), Hierarchize(Descendants({[dim_olympic_game].[dim_olympic_game].[ALL].[AllMember]}, 1, SELF_AND_BEFORE))) DIMENSION PROPERTIES CHILDREN_CARDINALITY ON ROWS, NON EMPTY {[Measures].[medal_count.SUM]} ON COLUMNS FROM [fact_medals_count] CELL PROPERTIES VALUE, FORMATTED_VALUE, BACK_COLOR, FORE_COLOR, FONT_FLAGS",
       "updateMode": "once"
      },
      "serverKey": "default",
      "style": {
       "areAxisTitlesVisible": true,
       "isTextVisible": true,
       "measures": {
        "medal_count.SUM": {
         "default": {
          "backgroundColor": "#FF85C0"
         }
        }
       },
       "tuples": {
        "[Measures].[medal_count.SUM]": {
         "backgroundColor": "#7194b9"
        }
       }
      },
      "switchedTo": "plotly-line-chart",
      "widgetKey": "plotly-stacked-area-chart"
     }
    }
   },
   "outputs": [
    {
     "data": {
      "application/vnd.atoti.widget.v0+json": {
       "sessionId": "1714324954_GAWOTI",
       "sessionLocation": {
        "https": false,
        "port": 9092
       },
       "widgetCreationCode": "session.widget"
      },
      "text/html": [
       "<img height=\"0\" width=\"0\" src=\"data:,AAAAAAAAAAAAAAAAAAAAAAAAAAAAAAAAAAAAAAAAAAAAAAAACXBIWXMAAA1JAAANSQGKhkvf\" />"
      ],
      "text/plain": [
       "Open the notebook in JupyterLab with the Atoti JupyterLab extension enabled to build this widget."
      ]
     },
     "metadata": {},
     "output_type": "display_data"
    }
   ],
   "source": [
    "session.widget"
   ]
  },
  {
   "cell_type": "markdown",
   "id": "8f43d37e-3334-48a9-9242-668944a0c110",
   "metadata": {},
   "source": [
    "**- Query 4 Starnet:**"
   ]
  },
  {
   "cell_type": "markdown",
   "id": "5165cba6-7b80-49ef-9bb6-f62cbbaaae75",
   "metadata": {},
   "source": [
    "![starnet](query_4_starnet.png)"
   ]
  },
  {
   "cell_type": "markdown",
   "id": "96229cbc-6b0e-4165-bb86-468b22829d6c",
   "metadata": {},
   "source": [
    "**- Query 5. Who are the Australian athletes who have won the most gold, silver medals respectively?**"
   ]
  },
  {
   "cell_type": "code",
   "execution_count": 53,
   "id": "4ff44f5e-056d-4450-8140-434399c04c26",
   "metadata": {
    "atoti": {
     "height": 931,
     "widget": {
      "filters": [
       {
        "dimensionName": "dim_location",
        "hierarchyName": "dim_location",
        "isExclusionFilter": false,
        "members": [
         [
          "AllMember",
          "Oceania",
          "Australia"
         ]
        ],
        "type": "members"
       },
       {
        "dimensionName": "dim_medal_types",
        "hierarchyName": "dim_medal_types",
        "isExclusionFilter": false,
        "members": [
         [
          "AllMember",
          "GOLD"
         ],
         [
          "AllMember",
          "SILVER"
         ]
        ],
        "type": "members"
       },
       {
        "dimensionName": "dim_athlete",
        "hierarchyName": "dim_athlete",
        "isExclusionFilter": false,
        "members": [
         [
          "AllMember",
          "Alicia COUTTS"
         ],
         [
          "AllMember",
          "Alisa CAMPLIN"
         ],
         [
          "AllMember",
          "Andrew HOY"
         ],
         [
          "AllMember",
          "Andrew LANDENBERGER"
         ],
         [
          "AllMember",
          "Andrew Lawrence TRIM"
         ],
         [
          "AllMember",
          "Andrew Murray CHARLTON"
         ],
         [
          "AllMember",
          "Anna MEARES"
         ],
         [
          "AllMember",
          "Anthony William WINTER"
         ],
         [
          "AllMember",
          "Ariarne Titmus"
         ],
         [
          "AllMember",
          "Beatrice Nancy LYONS"
         ],
         [
          "AllMember",
          "Belinda STOWELL"
         ],
         [
          "AllMember",
          "Betty CUTHBERT"
         ],
         [
          "AllMember",
          "Beverley Joy WHITFIELD"
         ],
         [
          "AllMember",
          "Bonnie Mealing"
         ],
         [
          "AllMember",
          "Bradford Paul COOPER"
         ],
         [
          "AllMember",
          "Bradley MCGEE"
         ],
         [
          "AllMember",
          "Brenda JONES-CARR"
         ],
         [
          "AllMember",
          "Brenton RICKARD"
         ],
         [
          "AllMember",
          "Brett AITKEN"
         ],
         [
          "AllMember",
          "Briony COLE"
         ],
         [
          "AllMember",
          "Brittany BROBEN"
         ],
         [
          "AllMember",
          "Brooke HANSON"
         ],
         [
          "AllMember",
          "Brooke PRATLEY"
         ],
         [
          "AllMember",
          "Catherine SKINNER"
         ],
         [
          "AllMember",
          "Cathy FREEMAN"
         ],
         [
          "AllMember",
          "Chantelle MICHELL"
         ],
         [
          "AllMember",
          "Charles Michael PORTER"
         ],
         [
          "AllMember",
          "Chloe ESPOSITO"
         ],
         [
          "AllMember",
          "Christian SPRENGER"
         ],
         [
          "AllMember",
          "Clare DENNIS"
         ],
         [
          "AllMember",
          "Clint ROBINSON"
         ],
         [
          "AllMember",
          "Clyde SEFTON"
         ],
         [
          "AllMember",
          "Dale BEGG-SMITH"
         ],
         [
          "AllMember",
          "Daniel CLARK"
         ],
         [
          "AllMember",
          "Daniel COLLINS"
         ],
         [
          "AllMember",
          "Daniel KOWALSKI"
         ],
         [
          "AllMember",
          "Daniel TRENTON"
         ],
         [
          "AllMember",
          "Danielle Anne WOODWARD"
         ],
         [
          "AllMember",
          "Darren BUNDOCK"
         ],
         [
          "AllMember",
          "David CRAWSHAY"
         ],
         [
          "AllMember",
          "David Egmont THEILE"
         ],
         [
          "AllMember",
          "David John Oliver FORBES"
         ],
         [
          "AllMember",
          "David MORRIS"
         ],
         [
          "AllMember",
          "David WEIGHTMAN"
         ],
         [
          "AllMember",
          "Dawn FRASER"
         ],
         [
          "AllMember",
          "Dean WOODS"
         ],
         [
          "AllMember",
          "Deborah FLINTOFF-KING"
         ],
         [
          "AllMember",
          "Dick Eve"
         ],
         [
          "AllMember",
          "Dick Garrard"
         ],
         [
          "AllMember",
          "Dinko LUKIN"
         ],
         [
          "AllMember",
          "Drew GINN"
         ],
         [
          "AllMember",
          "Duncan ARMSTRONG"
         ],
         [
          "AllMember",
          "Duncan FREE"
         ],
         [
          "AllMember",
          "Eamon SULLIVAN"
         ],
         [
          "AllMember",
          "Edgar Laurence GRAY"
         ],
         [
          "AllMember",
          "Edwin FLACK"
         ],
         [
          "AllMember",
          "Elise RECHICHI"
         ],
         [
          "AllMember",
          "Emily SEEBOHM"
         ],
         [
          "AllMember",
          "Emma MCKEON"
         ],
         [
          "AllMember",
          "Emma SNOWSILL"
         ],
         [
          "AllMember",
          "Francis GAILEY"
         ],
         [
          "AllMember",
          "Frederick C.V. LANE"
         ],
         [
          "AllMember",
          "Gail NEALL"
         ],
         [
          "AllMember",
          "Garry Malcolm NEIWAND"
         ],
         [
          "AllMember",
          "Gary HONEY"
         ],
         [
          "AllMember",
          "George Gordon AVERY"
         ],
         [
          "AllMember",
          "George PARKER"
         ],
         [
          "AllMember",
          "Glen Clifford HOUSMAN"
         ],
         [
          "AllMember",
          "Glenn ASHBY"
         ],
         [
          "AllMember",
          "Glenn BERINGEN"
         ],
         [
          "AllMember",
          "Glyniss Leanne NUNN-SAUNDERS-CEARNS"
         ],
         [
          "AllMember",
          "Graeme BROWN"
         ],
         [
          "AllMember",
          "Graham Claud WINDEATT"
         ],
         [
          "AllMember",
          "Grahame CHENEY"
         ],
         [
          "AllMember",
          "Grant DAVIES"
         ],
         [
          "AllMember",
          "Grant HACKETT"
         ],
         [
          "AllMember",
          "Hayley LEWIS"
         ],
         [
          "AllMember",
          "Henry Robert PEARCE"
         ],
         [
          "AllMember",
          "Herbert ELLIOTT"
         ],
         [
          "AllMember",
          "Iain JENSEN"
         ],
         [
          "AllMember",
          "Ian Sterry BROWNE"
         ],
         [
          "AllMember",
          "Ian THORPE"
         ],
         [
          "AllMember",
          "Izaac STUBBLETY-COOK"
         ],
         [
          "AllMember",
          "Jack MCLOUGHLIN"
         ],
         [
          "AllMember",
          "Jackie NARRACOTT"
         ],
         [
          "AllMember",
          "Jacqueline LAWRENCE"
         ],
         [
          "AllMember",
          "Jai TAURIMA"
         ],
         [
          "AllMember",
          "Jakara ANTHONY"
         ],
         [
          "AllMember",
          "James MAGNUSSEN"
         ],
         [
          "AllMember",
          "James TOMKINS"
         ],
         [
          "AllMember",
          "Jared TALLENT"
         ],
         [
          "AllMember",
          "Jarryd HUGHES"
         ],
         [
          "AllMember",
          "Jason WATERHOUSE"
         ],
         [
          "AllMember",
          "Jean VAN DER WESTHUYZEN"
         ],
         [
          "AllMember",
          "Jennifer Margaret ARMSTRONG"
         ],
         [
          "AllMember",
          "Jessica FOX"
         ],
         [
          "AllMember",
          "Ji WALLACE"
         ],
         [
          "AllMember",
          "Jodie HENRY"
         ],
         [
          "AllMember",
          "John (Jon) KONRADS"
         ],
         [
          "AllMember",
          "John ANDERSON"
         ],
         [
          "AllMember",
          "John Birnie MARSHALL"
         ],
         [
          "AllMember",
          "John DEVITT"
         ],
         [
          "AllMember",
          "John FORBES"
         ],
         [
          "AllMember",
          "John Griffith DAVIES"
         ],
         [
          "AllMember",
          "John James MONCKTON"
         ],
         [
          "AllMember",
          "John Malcolm SCOTT"
         ],
         [
          "AllMember",
          "John Michael NICHOLSON"
         ],
         [
          "AllMember",
          "John SUMEGI"
         ],
         [
          "AllMember",
          "John WINTER"
         ],
         [
          "AllMember",
          "Jon Malcolm HENRICKS"
         ],
         [
          "AllMember",
          "Jonathan SIEBEN"
         ],
         [
          "AllMember",
          "Karen PHILLIPS"
         ],
         [
          "AllMember",
          "Kate Elizabeth SLATTER"
         ],
         [
          "AllMember",
          "Kate HORNSEY"
         ],
         [
          "AllMember",
          "Kathryn Anne WATT"
         ],
         [
          "AllMember",
          "Katie MACTIER"
         ],
         [
          "AllMember",
          "Kaylee MCKEOWN"
         ],
         [
          "AllMember",
          "Keegan PALMER"
         ],
         [
          "AllMember",
          "Ken WALLACE"
         ],
         [
          "AllMember",
          "Kerri POTTHARST"
         ],
         [
          "AllMember",
          "Kevin John BERRY"
         ],
         [
          "AllMember",
          "Kieren John PERKINS"
         ],
         [
          "AllMember",
          "Kim CROW"
         ],
         [
          "AllMember",
          "Kyle CHALMERS"
         ],
         [
          "AllMember",
          "Lauren BURNS"
         ],
         [
          "AllMember",
          "Laurie Morgan"
         ],
         [
          "AllMember",
          "Lawrence Ian O'BRIEN"
         ],
         [
          "AllMember",
          "Leisel JONES"
         ],
         [
          "AllMember",
          "Libby TRICKETT"
         ],
         [
          "AllMember",
          "Lionel Cox"
         ],
         [
          "AllMember",
          "Lisa DARMANIN"
         ],
         [
          "AllMember",
          "Lisa MARTIN-ONDIEKI-O'DEA"
         ],
         [
          "AllMember",
          "Logan MARTIN"
         ],
         [
          "AllMember",
          "Loretta HARROP"
         ],
         [
          "AllMember",
          "Lorraine Joyce CRAPP"
         ],
         [
          "AllMember",
          "Louise MCPAUL"
         ],
         [
          "AllMember",
          "Lydia LASSILA"
         ],
         [
          "AllMember",
          "Lynette MCCLEMENTS"
         ],
         [
          "AllMember",
          "Mack HORTON"
         ],
         [
          "AllMember",
          "Madeline GROVES"
         ],
         [
          "AllMember",
          "Malcolm PAGE"
         ],
         [
          "AllMember",
          "Marcus STOCKWELL"
         ],
         [
          "AllMember",
          "Mariafe ARTACHO DEL SOLAR"
         ],
         [
          "AllMember",
          "Marjorie JACKSON"
         ],
         [
          "AllMember",
          "Mark TURNBULL"
         ],
         [
          "AllMember",
          "Mark WOODFORDE"
         ],
         [
          "AllMember",
          "Martin VINNICOMBE"
         ],
         [
          "AllMember",
          "Mathew BELCHER"
         ],
         [
          "AllMember",
          "Mathew HELM"
         ],
         [
          "AllMember",
          "Matt GRAHAM"
         ],
         [
          "AllMember",
          "Matt WEARN"
         ],
         [
          "AllMember",
          "Matthew MITCHAM"
         ],
         [
          "AllMember",
          "Matthew Morgan RYAN"
         ],
         [
          "AllMember",
          "Matthew WELSH"
         ],
         [
          "AllMember",
          "Maureen CAIRD"
         ],
         [
          "AllMember",
          "Megan Leanne STILL"
         ],
         [
          "AllMember",
          "Melissa WU"
         ],
         [
          "AllMember",
          "Merwyn Thomas WOOD"
         ],
         [
          "AllMember",
          "Michael DIAMOND"
         ],
         [
          "AllMember",
          "Michael KLIM"
         ],
         [
          "AllMember",
          "Michael Vincent WENDEN"
         ],
         [
          "AllMember",
          "Michelle FERRIS"
         ],
         [
          "AllMember",
          "Michelle FORD"
         ],
         [
          "AllMember",
          "Michelle Mary MASON-BROWN"
         ],
         [
          "AllMember",
          "Michellie JONES"
         ],
         [
          "AllMember",
          "Mitch BOOTH"
         ],
         [
          "AllMember",
          "Mitchell LARKIN"
         ],
         [
          "AllMember",
          "Mitchell WATT"
         ],
         [
          "AllMember",
          "Murray ROSE"
         ],
         [
          "AllMember",
          "Natalie COOK"
         ],
         [
          "AllMember",
          "Nathan BAGGALEY"
         ],
         [
          "AllMember",
          "Nathan OUTTERIDGE"
         ],
         [
          "AllMember",
          "Nathan WILMOT"
         ],
         [
          "AllMember",
          "Neil John LAVIS"
         ],
         [
          "AllMember",
          "Neville HAYES"
         ],
         [
          "AllMember",
          "Nicola MCDERMOTT"
         ],
         [
          "AllMember",
          "Noel Frederick FREEMAN"
         ],
         [
          "AllMember",
          "Pam Kilborn-Ryan"
         ],
         [
          "AllMember",
          "Peter ANTONIE"
         ],
         [
          "AllMember",
          "Peter George NORMAN"
         ],
         [
          "AllMember",
          "Petria THOMAS"
         ],
         [
          "AllMember",
          "Rachael TAYLOR"
         ],
         [
          "AllMember",
          "Raelene Ann BOYLE"
         ],
         [
          "AllMember",
          "Ralph DOUBELL"
         ],
         [
          "AllMember",
          "Richard MITCHELL"
         ],
         [
          "AllMember",
          "Robert Geoffrey SCOTT"
         ],
         [
          "AllMember",
          "Robert George WINDLE"
         ],
         [
          "AllMember",
          "Robert KABBAS"
         ],
         [
          "AllMember",
          "Rolland Leslie TASKER"
         ],
         [
          "AllMember",
          "Russell MARK"
         ],
         [
          "AllMember",
          "Russell MOCKRIDGE"
         ],
         [
          "AllMember",
          "Ryan BAYLEY"
         ],
         [
          "AllMember",
          "Sally PEARSON"
         ],
         [
          "AllMember",
          "Sam WILLOUGHBY"
         ],
         [
          "AllMember",
          "Sara CARRIGAN"
         ],
         [
          "AllMember",
          "Sarah OUTHWAITE"
         ],
         [
          "AllMember",
          "Scott BRENNAN"
         ],
         [
          "AllMember",
          "Scott MCGRORY"
         ],
         [
          "AllMember",
          "Scott MILLER"
         ],
         [
          "AllMember",
          "Scotty JAMES"
         ],
         [
          "AllMember",
          "Shane GOULD"
         ],
         [
          "AllMember",
          "Shane KELLY"
         ],
         [
          "AllMember",
          "Shirley STRICKLAND-DE LA HUNTY"
         ],
         [
          "AllMember",
          "Simon FAIRWEATHER"
         ],
         [
          "AllMember",
          "Stephanie RICE"
         ],
         [
          "AllMember",
          "Stephen Mark HAWKINS"
         ],
         [
          "AllMember",
          "Steve HOOKER"
         ],
         [
          "AllMember",
          "Steven BRADBURY"
         ],
         [
          "AllMember",
          "Stuart A. MACKENZIE"
         ],
         [
          "AllMember",
          "Stuart OGRADY"
         ],
         [
          "AllMember",
          "Susan O'NEILL"
         ],
         [
          "AllMember",
          "Suzanne BALOGH"
         ],
         [
          "AllMember",
          "Suzanne LANDELLS"
         ],
         [
          "AllMember",
          "Taliqua CLANCY"
         ],
         [
          "AllMember",
          "Tatiana GRIGORIEVA"
         ],
         [
          "AllMember",
          "Tessa PARKINSON"
         ],
         [
          "AllMember",
          "Thomas GREEN"
         ],
         [
          "AllMember",
          "Thomas Theodore BRUCE"
         ],
         [
          "AllMember",
          "Todd WOODBRIDGE"
         ],
         [
          "AllMember",
          "Tom BURTON"
         ],
         [
          "AllMember",
          "Tom KING"
         ],
         [
          "AllMember",
          "Tom SLINGSBY"
         ],
         [
          "AllMember",
          "Tony Marchant"
         ],
         [
          "AllMember",
          "Torah BRIGHT"
         ],
         [
          "AllMember",
          "Will RYAN"
         ]
        ],
        "type": "members"
       }
      ],
      "mapping": {
       "groupBy": [],
       "horizontalSubplots": [],
       "splitBy": [
        "[dim_athlete].[dim_athlete].[Athlete Full Name]"
       ],
       "values": [
        "[Measures].[medal_count.SUM]"
       ],
       "verticalSubplots": [
        "[dim_medal_types].[dim_medal_types].[Medal Type]"
       ]
      },
      "name": "Atheletes who won the most god and silver in Australia",
      "query": {
       "mdx": "SELECT NON EMPTY Crossjoin(Hierarchize(Descendants({[dim_medal_types].[dim_medal_types].[ALL].[AllMember]}, 1, SELF_AND_BEFORE)), {[Measures].[medal_count.SUM]}) ON COLUMNS, NON EMPTY Hierarchize(Descendants({[dim_athlete].[dim_athlete].[ALL].[AllMember]}, 1, SELF_AND_BEFORE)) ON ROWS FROM [fact_medals_count] CELL PROPERTIES VALUE, FORMATTED_VALUE, BACK_COLOR, FORE_COLOR, FONT_FLAGS",
       "updateMode": "once"
      },
      "serverKey": "default",
      "style": {
       "areAxisTitlesVisible": true,
       "isTextVisible": true
      },
      "widgetKey": "plotly-tree-map"
     }
    }
   },
   "outputs": [
    {
     "data": {
      "application/vnd.atoti.widget.v0+json": {
       "sessionId": "1714324954_GAWOTI",
       "sessionLocation": {
        "https": false,
        "port": 9092
       },
       "widgetCreationCode": "session.widget"
      },
      "text/html": [
       "<img height=\"0\" width=\"0\" src=\"data:,AAAAAAAAAAAAAAAAAAAAAAAAAAAAAAAAAAAAAAAAAAAAAAAACXBIWXMAAA1JAAANSQGKhkvf\" />"
      ],
      "text/plain": [
       "Open the notebook in JupyterLab with the Atoti JupyterLab extension enabled to build this widget."
      ]
     },
     "metadata": {},
     "output_type": "display_data"
    }
   ],
   "source": [
    "session.widget"
   ]
  },
  {
   "cell_type": "markdown",
   "id": "012a027a-5926-48e5-9985-51b1bfcf3b9a",
   "metadata": {},
   "source": [
    "**- Query 5 Starnet**"
   ]
  },
  {
   "cell_type": "markdown",
   "id": "18186891-bbd1-4387-b6f6-507a662dd583",
   "metadata": {},
   "source": [
    "![starnet](query_5_starnet.png)"
   ]
  },
  {
   "cell_type": "markdown",
   "id": "cd49d093-dad0-4333-9733-65bf74b982b4",
   "metadata": {},
   "source": [
    "**- Query 6: How many medals have been won by the continent that includes Australia? Is Australia the country with the most medals on that continent?**"
   ]
  },
  {
   "cell_type": "code",
   "execution_count": 54,
   "id": "2459dba2-2967-4891-90ba-7afce3cd7eca",
   "metadata": {
    "atoti": {
     "widget": {
      "filters": [
       {
        "dimensionName": "dim_location",
        "hierarchyName": "dim_location",
        "isExclusionFilter": false,
        "members": [
         [
          "AllMember",
          "Oceania"
         ]
        ],
        "type": "members"
       }
      ],
      "mapping": {
       "horizontalSubplots": [],
       "splitBy": [
        "ALL_MEASURES"
       ],
       "values": [
        "[Measures].[medal_count.SUM]"
       ],
       "verticalSubplots": [],
       "yAxis": [
        "[dim_location].[dim_location].[Country Name]"
       ]
      },
      "name": "Medals are won by continent that includes Australia",
      "query": {
       "mdx": "SELECT NON EMPTY {[Measures].[medal_count.SUM]} ON COLUMNS, NON EMPTY Hierarchize(Descendants({[dim_location].[dim_location].[ALL].[AllMember]}, 2, SELF_AND_BEFORE)) DIMENSION PROPERTIES CHILDREN_CARDINALITY ON ROWS FROM [fact_medals_count] CELL PROPERTIES VALUE, FORMATTED_VALUE, BACK_COLOR, FORE_COLOR, FONT_FLAGS",
       "updateMode": "once"
      },
      "serverKey": "default",
      "style": {
       "areAxisTitlesVisible": true,
       "isTextVisible": true,
       "tuples": {
        "[Measures].[medal_count.SUM]": {
         "backgroundColor": "#7194b9"
        }
       }
      },
      "widgetKey": "plotly-clustered-bar-chart"
     }
    }
   },
   "outputs": [
    {
     "data": {
      "application/vnd.atoti.widget.v0+json": {
       "sessionId": "1714324954_GAWOTI",
       "sessionLocation": {
        "https": false,
        "port": 9092
       },
       "widgetCreationCode": "session.widget"
      },
      "text/html": [
       "<img height=\"0\" width=\"0\" src=\"data:,AAAAAAAAAAAAAAAAAAAAAAAAAAAAAAAAAAAAAAAAAAAAAAAACXBIWXMAAA1JAAANSQGKhkvf\" />"
      ],
      "text/plain": [
       "Open the notebook in JupyterLab with the Atoti JupyterLab extension enabled to build this widget."
      ]
     },
     "metadata": {},
     "output_type": "display_data"
    }
   ],
   "source": [
    "session.widget"
   ]
  },
  {
   "cell_type": "markdown",
   "id": "9792b449-96c7-4ab1-8429-03fd4b7d1114",
   "metadata": {},
   "source": [
    "**- Query 6 Starnet:**"
   ]
  },
  {
   "cell_type": "markdown",
   "id": "9c9ff85c-afca-4bb7-adb3-db69c3d25c53",
   "metadata": {},
   "source": [
    "![starnet](query_6_starnet.png)"
   ]
  },
  {
   "cell_type": "markdown",
   "id": "deb4d593-6f2f-455f-b0ea-68d004cf8714",
   "metadata": {},
   "source": [
    "**2(1). Connect to \"Mental_illness_DALYs\" PostgreSQL Database:**"
   ]
  },
  {
   "cell_type": "code",
   "execution_count": 5,
   "id": "805f31a2-d2ec-4d20-97c4-d626613a3c0e",
   "metadata": {},
   "outputs": [],
   "source": [
    "db_name = \"Mental_Illness_DALYs\"\n",
    "db_user = \"postgres\"\n",
    "db_password = \"postgres\"  \n",
    "db_host = \"pgdb\"  \n",
    "db_port = \"5432\"\n",
    "\n",
    "jdbc_url = f\"jdbc:postgresql://{db_host}:{db_port}/{db_name}?user={db_user}&password={db_password}\""
   ]
  },
  {
   "cell_type": "markdown",
   "id": "a643fda3-1d33-41c2-966c-9a6100a985b5",
   "metadata": {},
   "source": [
    "**2(2). Load Data to Atoti:**"
   ]
  },
  {
   "cell_type": "code",
   "execution_count": 6,
   "id": "5fc11536-a3b5-448e-afe4-90777626ba83",
   "metadata": {},
   "outputs": [],
   "source": [
    "mental_illness_dalys_fact_table = session.read_sql(\n",
    "    \"SELECT * FROM fact_mental_illness_dalys\",\n",
    "    keys=[\"Mental Illness DALYs Fact ID\"],\n",
    "    table_name=\"fact_mental_illness_dalys\",\n",
    "    url=jdbc_url,\n",
    ")"
   ]
  },
  {
   "cell_type": "code",
   "execution_count": 7,
   "id": "41286761-136a-472b-8460-66d55eb1a969",
   "metadata": {},
   "outputs": [
    {
     "data": {
      "text/html": [
       "<div>\n",
       "<style scoped>\n",
       "    .dataframe tbody tr th:only-of-type {\n",
       "        vertical-align: middle;\n",
       "    }\n",
       "\n",
       "    .dataframe tbody tr th {\n",
       "        vertical-align: top;\n",
       "    }\n",
       "\n",
       "    .dataframe thead th {\n",
       "        text-align: right;\n",
       "    }\n",
       "</style>\n",
       "<table border=\"1\" class=\"dataframe\">\n",
       "  <thead>\n",
       "    <tr style=\"text-align: right;\">\n",
       "      <th></th>\n",
       "      <th>Year ID</th>\n",
       "      <th>Mental Illness Location ID</th>\n",
       "      <th>Host Type ID</th>\n",
       "      <th>DALYs from depressive disorders</th>\n",
       "      <th>DALYs from schizophrenia</th>\n",
       "      <th>DALYs from bipolar disorder</th>\n",
       "      <th>DALYs from eating disorders</th>\n",
       "      <th>DALYs from anxiety disorders</th>\n",
       "    </tr>\n",
       "    <tr>\n",
       "      <th>Mental Illness DALYs Fact ID</th>\n",
       "      <th></th>\n",
       "      <th></th>\n",
       "      <th></th>\n",
       "      <th></th>\n",
       "      <th></th>\n",
       "      <th></th>\n",
       "      <th></th>\n",
       "      <th></th>\n",
       "    </tr>\n",
       "  </thead>\n",
       "  <tbody>\n",
       "    <tr>\n",
       "      <th>4</th>\n",
       "      <td>4</td>\n",
       "      <td>1</td>\n",
       "      <td>1</td>\n",
       "      <td>816.3045</td>\n",
       "      <td>247.43527</td>\n",
       "      <td>239.99773</td>\n",
       "      <td>154.77351</td>\n",
       "      <td>523.8772</td>\n",
       "    </tr>\n",
       "    <tr>\n",
       "      <th>13</th>\n",
       "      <td>13</td>\n",
       "      <td>1</td>\n",
       "      <td>1</td>\n",
       "      <td>854.21747</td>\n",
       "      <td>247.34805</td>\n",
       "      <td>240.42636</td>\n",
       "      <td>180.90173</td>\n",
       "      <td>506.39133</td>\n",
       "    </tr>\n",
       "    <tr>\n",
       "      <th>18</th>\n",
       "      <td>18</td>\n",
       "      <td>1</td>\n",
       "      <td>1</td>\n",
       "      <td>881.80414</td>\n",
       "      <td>247.14334</td>\n",
       "      <td>241.90405</td>\n",
       "      <td>205.338</td>\n",
       "      <td>532.24396</td>\n",
       "    </tr>\n",
       "    <tr>\n",
       "      <th>31</th>\n",
       "      <td>1</td>\n",
       "      <td>2</td>\n",
       "      <td>1</td>\n",
       "      <td>725.3329</td>\n",
       "      <td>173.45541</td>\n",
       "      <td>238.74373</td>\n",
       "      <td>42.742077</td>\n",
       "      <td>556.50165</td>\n",
       "    </tr>\n",
       "    <tr>\n",
       "      <th>40</th>\n",
       "      <td>10</td>\n",
       "      <td>2</td>\n",
       "      <td>1</td>\n",
       "      <td>807.25366</td>\n",
       "      <td>173.15245</td>\n",
       "      <td>238.83531</td>\n",
       "      <td>43.346622</td>\n",
       "      <td>680.9381</td>\n",
       "    </tr>\n",
       "  </tbody>\n",
       "</table>\n",
       "</div>"
      ],
      "text/plain": [
       "                              Year ID  Mental Illness Location ID  \\\n",
       "Mental Illness DALYs Fact ID                                        \n",
       "4                                   4                           1   \n",
       "13                                 13                           1   \n",
       "18                                 18                           1   \n",
       "31                                  1                           2   \n",
       "40                                 10                           2   \n",
       "\n",
       "                              Host Type ID  DALYs from depressive disorders  \\\n",
       "Mental Illness DALYs Fact ID                                                  \n",
       "4                                        1                         816.3045   \n",
       "13                                       1                        854.21747   \n",
       "18                                       1                        881.80414   \n",
       "31                                       1                         725.3329   \n",
       "40                                       1                        807.25366   \n",
       "\n",
       "                              DALYs from schizophrenia  \\\n",
       "Mental Illness DALYs Fact ID                             \n",
       "4                                            247.43527   \n",
       "13                                           247.34805   \n",
       "18                                           247.14334   \n",
       "31                                           173.45541   \n",
       "40                                           173.15245   \n",
       "\n",
       "                              DALYs from bipolar disorder  \\\n",
       "Mental Illness DALYs Fact ID                                \n",
       "4                                               239.99773   \n",
       "13                                              240.42636   \n",
       "18                                              241.90405   \n",
       "31                                              238.74373   \n",
       "40                                              238.83531   \n",
       "\n",
       "                              DALYs from eating disorders  \\\n",
       "Mental Illness DALYs Fact ID                                \n",
       "4                                               154.77351   \n",
       "13                                              180.90173   \n",
       "18                                                205.338   \n",
       "31                                              42.742077   \n",
       "40                                              43.346622   \n",
       "\n",
       "                              DALYs from anxiety disorders  \n",
       "Mental Illness DALYs Fact ID                                \n",
       "4                                                 523.8772  \n",
       "13                                               506.39133  \n",
       "18                                               532.24396  \n",
       "31                                               556.50165  \n",
       "40                                                680.9381  "
      ]
     },
     "execution_count": 7,
     "metadata": {},
     "output_type": "execute_result"
    }
   ],
   "source": [
    "mental_illness_dalys_fact_table.head()"
   ]
  },
  {
   "cell_type": "code",
   "execution_count": 8,
   "id": "d105ffd5-48c4-4055-974b-f1ff7f70514c",
   "metadata": {},
   "outputs": [],
   "source": [
    "year_dimension_table = session.read_sql(\n",
    "    \"SELECT * FROM dim_year\",\n",
    "    keys=[\"Year ID\"],\n",
    "    table_name=\"dim_year\",\n",
    "    url=jdbc_url,\n",
    ")"
   ]
  },
  {
   "cell_type": "code",
   "execution_count": 9,
   "id": "1ffa8d10-cd63-41ae-b80e-c2a4c040fbe7",
   "metadata": {},
   "outputs": [
    {
     "data": {
      "text/html": [
       "<div>\n",
       "<style scoped>\n",
       "    .dataframe tbody tr th:only-of-type {\n",
       "        vertical-align: middle;\n",
       "    }\n",
       "\n",
       "    .dataframe tbody tr th {\n",
       "        vertical-align: top;\n",
       "    }\n",
       "\n",
       "    .dataframe thead th {\n",
       "        text-align: right;\n",
       "    }\n",
       "</style>\n",
       "<table border=\"1\" class=\"dataframe\">\n",
       "  <thead>\n",
       "    <tr style=\"text-align: right;\">\n",
       "      <th></th>\n",
       "      <th>Year</th>\n",
       "    </tr>\n",
       "    <tr>\n",
       "      <th>Year ID</th>\n",
       "      <th></th>\n",
       "    </tr>\n",
       "  </thead>\n",
       "  <tbody>\n",
       "    <tr>\n",
       "      <th>25</th>\n",
       "      <td>2014</td>\n",
       "    </tr>\n",
       "    <tr>\n",
       "      <th>6</th>\n",
       "      <td>1995</td>\n",
       "    </tr>\n",
       "    <tr>\n",
       "      <th>16</th>\n",
       "      <td>2005</td>\n",
       "    </tr>\n",
       "    <tr>\n",
       "      <th>26</th>\n",
       "      <td>2015</td>\n",
       "    </tr>\n",
       "    <tr>\n",
       "      <th>7</th>\n",
       "      <td>1996</td>\n",
       "    </tr>\n",
       "  </tbody>\n",
       "</table>\n",
       "</div>"
      ],
      "text/plain": [
       "         Year\n",
       "Year ID      \n",
       "25       2014\n",
       "6        1995\n",
       "16       2005\n",
       "26       2015\n",
       "7        1996"
      ]
     },
     "execution_count": 9,
     "metadata": {},
     "output_type": "execute_result"
    }
   ],
   "source": [
    "year_dimension_table.head()"
   ]
  },
  {
   "cell_type": "code",
   "execution_count": 10,
   "id": "c0799488-385a-4c89-a68e-1fce5d9cb807",
   "metadata": {},
   "outputs": [],
   "source": [
    "mental_illness_location_dimension_table = session.read_sql(\n",
    "    \"SELECT * FROM dim_mental_illness_location\",\n",
    "    keys=[\"Mental Illness Location ID\"],\n",
    "    table_name=\"dim_mental_illness_location\",\n",
    "    url=jdbc_url,\n",
    ")"
   ]
  },
  {
   "cell_type": "code",
   "execution_count": 11,
   "id": "09f11161-772f-430b-94d0-d040807720b2",
   "metadata": {},
   "outputs": [
    {
     "data": {
      "text/html": [
       "<div>\n",
       "<style scoped>\n",
       "    .dataframe tbody tr th:only-of-type {\n",
       "        vertical-align: middle;\n",
       "    }\n",
       "\n",
       "    .dataframe tbody tr th {\n",
       "        vertical-align: top;\n",
       "    }\n",
       "\n",
       "    .dataframe thead th {\n",
       "        text-align: right;\n",
       "    }\n",
       "</style>\n",
       "<table border=\"1\" class=\"dataframe\">\n",
       "  <thead>\n",
       "    <tr style=\"text-align: right;\">\n",
       "      <th></th>\n",
       "      <th>Continent</th>\n",
       "      <th>Country</th>\n",
       "    </tr>\n",
       "    <tr>\n",
       "      <th>Mental Illness Location ID</th>\n",
       "      <th></th>\n",
       "      <th></th>\n",
       "    </tr>\n",
       "  </thead>\n",
       "  <tbody>\n",
       "    <tr>\n",
       "      <th>9</th>\n",
       "      <td>Europe</td>\n",
       "      <td>Norway</td>\n",
       "    </tr>\n",
       "    <tr>\n",
       "      <th>10</th>\n",
       "      <td>Europe</td>\n",
       "      <td>Russia</td>\n",
       "    </tr>\n",
       "    <tr>\n",
       "      <th>1</th>\n",
       "      <td>Oceania</td>\n",
       "      <td>Australia</td>\n",
       "    </tr>\n",
       "    <tr>\n",
       "      <th>11</th>\n",
       "      <td>Asia</td>\n",
       "      <td>South Korea</td>\n",
       "    </tr>\n",
       "    <tr>\n",
       "      <th>2</th>\n",
       "      <td>South America</td>\n",
       "      <td>Brazil</td>\n",
       "    </tr>\n",
       "  </tbody>\n",
       "</table>\n",
       "</div>"
      ],
      "text/plain": [
       "                                Continent      Country\n",
       "Mental Illness Location ID                            \n",
       "9                                  Europe       Norway\n",
       "10                                 Europe       Russia\n",
       "1                                 Oceania    Australia\n",
       "11                                   Asia  South Korea\n",
       "2                           South America       Brazil"
      ]
     },
     "execution_count": 11,
     "metadata": {},
     "output_type": "execute_result"
    }
   ],
   "source": [
    "mental_illness_location_dimension_table.head()"
   ]
  },
  {
   "cell_type": "code",
   "execution_count": 12,
   "id": "4ddb889d-955a-4f38-b036-81be42dfc468",
   "metadata": {},
   "outputs": [],
   "source": [
    "host_type_dimension_table = session.read_sql(\n",
    "    \"SELECT * FROM dim_host_types\",\n",
    "    keys=[\"Host Type ID\"],\n",
    "    table_name=\"dim_host_types\",\n",
    "    url=jdbc_url,\n",
    ")"
   ]
  },
  {
   "cell_type": "code",
   "execution_count": 13,
   "id": "49dc237f-bbfe-41d0-8a07-d45c07fee3b8",
   "metadata": {},
   "outputs": [
    {
     "data": {
      "text/html": [
       "<div>\n",
       "<style scoped>\n",
       "    .dataframe tbody tr th:only-of-type {\n",
       "        vertical-align: middle;\n",
       "    }\n",
       "\n",
       "    .dataframe tbody tr th {\n",
       "        vertical-align: top;\n",
       "    }\n",
       "\n",
       "    .dataframe thead th {\n",
       "        text-align: right;\n",
       "    }\n",
       "</style>\n",
       "<table border=\"1\" class=\"dataframe\">\n",
       "  <thead>\n",
       "    <tr style=\"text-align: right;\">\n",
       "      <th></th>\n",
       "      <th>Host Type</th>\n",
       "    </tr>\n",
       "    <tr>\n",
       "      <th>Host Type ID</th>\n",
       "      <th></th>\n",
       "    </tr>\n",
       "  </thead>\n",
       "  <tbody>\n",
       "    <tr>\n",
       "      <th>2</th>\n",
       "      <td>Host Country of the Olympic Games for this year</td>\n",
       "    </tr>\n",
       "    <tr>\n",
       "      <th>1</th>\n",
       "      <td>Non-host Country of the Olympic Games for this...</td>\n",
       "    </tr>\n",
       "  </tbody>\n",
       "</table>\n",
       "</div>"
      ],
      "text/plain": [
       "                                                      Host Type\n",
       "Host Type ID                                                   \n",
       "2               Host Country of the Olympic Games for this year\n",
       "1             Non-host Country of the Olympic Games for this..."
      ]
     },
     "execution_count": 13,
     "metadata": {},
     "output_type": "execute_result"
    }
   ],
   "source": [
    "host_type_dimension_table.head()"
   ]
  },
  {
   "cell_type": "markdown",
   "id": "584a8367-db67-4ea5-9376-f8beeed99f2c",
   "metadata": {},
   "source": [
    "**1(3). Implement a Star Schema by joining the above 4 tables:**"
   ]
  },
  {
   "cell_type": "code",
   "execution_count": 14,
   "id": "4c7139cd-521c-4e30-9b81-bfe9e320e31d",
   "metadata": {},
   "outputs": [],
   "source": [
    "mental_illness_dalys_fact_table.join(year_dimension_table, mental_illness_dalys_fact_table[\"Year ID\"] == year_dimension_table[\"Year ID\"])"
   ]
  },
  {
   "cell_type": "code",
   "execution_count": 15,
   "id": "b10a06c8-893c-43b7-bc9c-2c77d19a25e8",
   "metadata": {},
   "outputs": [],
   "source": [
    "mental_illness_dalys_fact_table.join(mental_illness_location_dimension_table, mental_illness_dalys_fact_table[\"Mental Illness Location ID\"] == \n",
    "                                     mental_illness_location_dimension_table[\"Mental Illness Location ID\"])"
   ]
  },
  {
   "cell_type": "code",
   "execution_count": 16,
   "id": "68132013-bfec-4274-bbd2-6afe2dda0921",
   "metadata": {},
   "outputs": [],
   "source": [
    "mental_illness_dalys_fact_table.join(host_type_dimension_table, mental_illness_dalys_fact_table[\"Host Type ID\"] == host_type_dimension_table[\"Host Type ID\"])"
   ]
  },
  {
   "cell_type": "code",
   "execution_count": 17,
   "id": "93202018-19a9-4eb9-be31-83d2a3c60231",
   "metadata": {},
   "outputs": [
    {
     "data": {
      "text/markdown": [
       "```mermaid\n",
       "erDiagram\n",
       "  \"fact_mental_illness_dalys\" {\n",
       "    _ int PK \"Mental Illness DALYs Fact ID\"\n",
       "    nullable int \"Year ID\"\n",
       "    nullable int \"Mental Illness Location ID\"\n",
       "    nullable int \"Host Type ID\"\n",
       "    nullable double \"DALYs from depressive disorders\"\n",
       "    nullable double \"DALYs from schizophrenia\"\n",
       "    nullable double \"DALYs from bipolar disorder\"\n",
       "    nullable double \"DALYs from eating disorders\"\n",
       "    nullable double \"DALYs from anxiety disorders\"\n",
       "  }\n",
       "  \"dim_year\" {\n",
       "    _ int PK \"Year ID\"\n",
       "    _ String \"Year\"\n",
       "  }\n",
       "  \"dim_host_types\" {\n",
       "    _ int PK \"Host Type ID\"\n",
       "    _ String \"Host Type\"\n",
       "  }\n",
       "  \"dim_mental_illness_location\" {\n",
       "    _ int PK \"Mental Illness Location ID\"\n",
       "    _ String \"Continent\"\n",
       "    _ String \"Country\"\n",
       "  }\n",
       "  \"fact_mental_illness_dalys\" }o--o| \"dim_host_types\" : \"`Host Type ID` == `Host Type ID`\"\n",
       "  \"fact_mental_illness_dalys\" }o--o| \"dim_year\" : \"`Year ID` == `Year ID`\"\n",
       "  \"fact_mental_illness_dalys\" }o--o| \"dim_mental_illness_location\" : \"`Mental Illness Location ID` == `Mental Illness Location ID`\"\n",
       "```\n"
      ],
      "text/plain": [
       "erDiagram\n",
       "  \"fact_mental_illness_dalys\" {\n",
       "    _ int PK \"Mental Illness DALYs Fact ID\"\n",
       "    nullable int \"Year ID\"\n",
       "    nullable int \"Mental Illness Location ID\"\n",
       "    nullable int \"Host Type ID\"\n",
       "    nullable double \"DALYs from depressive disorders\"\n",
       "    nullable double \"DALYs from schizophrenia\"\n",
       "    nullable double \"DALYs from bipolar disorder\"\n",
       "    nullable double \"DALYs from eating disorders\"\n",
       "    nullable double \"DALYs from anxiety disorders\"\n",
       "  }\n",
       "  \"dim_year\" {\n",
       "    _ int PK \"Year ID\"\n",
       "    _ String \"Year\"\n",
       "  }\n",
       "  \"dim_host_types\" {\n",
       "    _ int PK \"Host Type ID\"\n",
       "    _ String \"Host Type\"\n",
       "  }\n",
       "  \"dim_mental_illness_location\" {\n",
       "    _ int PK \"Mental Illness Location ID\"\n",
       "    _ String \"Continent\"\n",
       "    _ String \"Country\"\n",
       "  }\n",
       "  \"fact_mental_illness_dalys\" }o--o| \"dim_host_types\" : \"`Host Type ID` == `Host Type ID`\"\n",
       "  \"fact_mental_illness_dalys\" }o--o| \"dim_year\" : \"`Year ID` == `Year ID`\"\n",
       "  \"fact_mental_illness_dalys\" }o--o| \"dim_mental_illness_location\" : \"`Mental Illness Location ID` == `Mental Illness Location ID`\""
      ]
     },
     "execution_count": 17,
     "metadata": {},
     "output_type": "execute_result"
    }
   ],
   "source": [
    "# Draw a starnet schema:\n",
    "session.tables.schema"
   ]
  },
  {
   "cell_type": "markdown",
   "id": "fed879f8-294e-4b84-8a8a-216c7e9c999e",
   "metadata": {},
   "source": [
    "**2(4). Create a cube:**"
   ]
  },
  {
   "cell_type": "code",
   "execution_count": 18,
   "id": "6988932c-06a9-48f6-9981-98653b330abb",
   "metadata": {},
   "outputs": [],
   "source": [
    "cube = session.create_cube(mental_illness_dalys_fact_table)"
   ]
  },
  {
   "cell_type": "code",
   "execution_count": 19,
   "id": "e42cafa0-8e9f-4899-ad5b-a5e8dd9be877",
   "metadata": {},
   "outputs": [
    {
     "data": {
      "application/json": {
       "Dimensions": {
        "dim_host_types": {
         "Host Type": [
          "Host Type"
         ]
        },
        "dim_mental_illness_location": {
         "Continent": [
          "Continent"
         ],
         "Country": [
          "Country"
         ]
        },
        "dim_year": {
         "Year": [
          "Year"
         ]
        },
        "fact_mental_illness_dalys": {
         "Mental Illness DALYs Fact ID": [
          "Mental Illness DALYs Fact ID"
         ]
        }
       },
       "Measures": {
        "DALYs from anxiety disorders.MEAN": {
         "formatter": "DOUBLE[#,###.00]"
        },
        "DALYs from anxiety disorders.SUM": {
         "formatter": "DOUBLE[#,###.00]"
        },
        "DALYs from bipolar disorder.MEAN": {
         "formatter": "DOUBLE[#,###.00]"
        },
        "DALYs from bipolar disorder.SUM": {
         "formatter": "DOUBLE[#,###.00]"
        },
        "DALYs from depressive disorders.MEAN": {
         "formatter": "DOUBLE[#,###.00]"
        },
        "DALYs from depressive disorders.SUM": {
         "formatter": "DOUBLE[#,###.00]"
        },
        "DALYs from eating disorders.MEAN": {
         "formatter": "DOUBLE[#,###.00]"
        },
        "DALYs from eating disorders.SUM": {
         "formatter": "DOUBLE[#,###.00]"
        },
        "DALYs from schizophrenia.MEAN": {
         "formatter": "DOUBLE[#,###.00]"
        },
        "DALYs from schizophrenia.SUM": {
         "formatter": "DOUBLE[#,###.00]"
        },
        "Host Type ID.MEAN": {
         "formatter": "DOUBLE[#,###.00]"
        },
        "Host Type ID.SUM": {
         "formatter": "INT[#,###]"
        },
        "Mental Illness Location ID.MEAN": {
         "formatter": "DOUBLE[#,###.00]"
        },
        "Mental Illness Location ID.SUM": {
         "formatter": "INT[#,###]"
        },
        "Year ID.MEAN": {
         "formatter": "DOUBLE[#,###.00]"
        },
        "Year ID.SUM": {
         "formatter": "INT[#,###]"
        },
        "contributors.COUNT": {
         "formatter": "INT[#,###]"
        }
       }
      },
      "text/html": [
       "<ul>\n",
       "<li>fact_mental_illness_dalys\n",
       "  <ul>\n",
       "  <li>Dimensions\n",
       "    <ul>\n",
       "    <li>dim_host_types\n",
       "      <ul>\n",
       "      <li>Host Type\n",
       "        <ol>\n",
       "        <li>Host Type</li>\n",
       "        </ol>      </li>\n",
       "      </ul>\n",
       "    </li>\n",
       "    <li>dim_mental_illness_location\n",
       "      <ul>\n",
       "      <li>Continent\n",
       "        <ol>\n",
       "        <li>Continent</li>\n",
       "        </ol>      </li>\n",
       "      <li>Country\n",
       "        <ol>\n",
       "        <li>Country</li>\n",
       "        </ol>      </li>\n",
       "      </ul>\n",
       "    </li>\n",
       "    <li>dim_year\n",
       "      <ul>\n",
       "      <li>Year\n",
       "        <ol>\n",
       "        <li>Year</li>\n",
       "        </ol>      </li>\n",
       "      </ul>\n",
       "    </li>\n",
       "    <li>fact_mental_illness_dalys\n",
       "      <ul>\n",
       "      <li>Mental Illness DALYs Fact ID\n",
       "        <ol>\n",
       "        <li>Mental Illness DALYs Fact ID</li>\n",
       "        </ol>      </li>\n",
       "      </ul>\n",
       "    </li>\n",
       "    </ul>\n",
       "  </li>\n",
       "  <li>Measures\n",
       "    <ul>\n",
       "    <li>DALYs from anxiety disorders.MEAN\n",
       "      <ul>\n",
       "      <li>formatter: DOUBLE[#,###.00]</li>\n",
       "      </ul>\n",
       "    </li>\n",
       "    <li>DALYs from anxiety disorders.SUM\n",
       "      <ul>\n",
       "      <li>formatter: DOUBLE[#,###.00]</li>\n",
       "      </ul>\n",
       "    </li>\n",
       "    <li>DALYs from bipolar disorder.MEAN\n",
       "      <ul>\n",
       "      <li>formatter: DOUBLE[#,###.00]</li>\n",
       "      </ul>\n",
       "    </li>\n",
       "    <li>DALYs from bipolar disorder.SUM\n",
       "      <ul>\n",
       "      <li>formatter: DOUBLE[#,###.00]</li>\n",
       "      </ul>\n",
       "    </li>\n",
       "    <li>DALYs from depressive disorders.MEAN\n",
       "      <ul>\n",
       "      <li>formatter: DOUBLE[#,###.00]</li>\n",
       "      </ul>\n",
       "    </li>\n",
       "    <li>DALYs from depressive disorders.SUM\n",
       "      <ul>\n",
       "      <li>formatter: DOUBLE[#,###.00]</li>\n",
       "      </ul>\n",
       "    </li>\n",
       "    <li>DALYs from eating disorders.MEAN\n",
       "      <ul>\n",
       "      <li>formatter: DOUBLE[#,###.00]</li>\n",
       "      </ul>\n",
       "    </li>\n",
       "    <li>DALYs from eating disorders.SUM\n",
       "      <ul>\n",
       "      <li>formatter: DOUBLE[#,###.00]</li>\n",
       "      </ul>\n",
       "    </li>\n",
       "    <li>DALYs from schizophrenia.MEAN\n",
       "      <ul>\n",
       "      <li>formatter: DOUBLE[#,###.00]</li>\n",
       "      </ul>\n",
       "    </li>\n",
       "    <li>DALYs from schizophrenia.SUM\n",
       "      <ul>\n",
       "      <li>formatter: DOUBLE[#,###.00]</li>\n",
       "      </ul>\n",
       "    </li>\n",
       "    <li>Host Type ID.MEAN\n",
       "      <ul>\n",
       "      <li>formatter: DOUBLE[#,###.00]</li>\n",
       "      </ul>\n",
       "    </li>\n",
       "    <li>Host Type ID.SUM\n",
       "      <ul>\n",
       "      <li>formatter: INT[#,###]</li>\n",
       "      </ul>\n",
       "    </li>\n",
       "    <li>Mental Illness Location ID.MEAN\n",
       "      <ul>\n",
       "      <li>formatter: DOUBLE[#,###.00]</li>\n",
       "      </ul>\n",
       "    </li>\n",
       "    <li>Mental Illness Location ID.SUM\n",
       "      <ul>\n",
       "      <li>formatter: INT[#,###]</li>\n",
       "      </ul>\n",
       "    </li>\n",
       "    <li>Year ID.MEAN\n",
       "      <ul>\n",
       "      <li>formatter: DOUBLE[#,###.00]</li>\n",
       "      </ul>\n",
       "    </li>\n",
       "    <li>Year ID.SUM\n",
       "      <ul>\n",
       "      <li>formatter: INT[#,###]</li>\n",
       "      </ul>\n",
       "    </li>\n",
       "    <li>contributors.COUNT\n",
       "      <ul>\n",
       "      <li>formatter: INT[#,###]</li>\n",
       "      </ul>\n",
       "    </li>\n",
       "    </ul>\n",
       "  </li>\n",
       "  </ul>\n",
       "</li>\n",
       "</ul>\n"
      ],
      "text/plain": [
       "<atoti.cube.Cube at 0x7fffa8f5bb10>"
      ]
     },
     "execution_count": 19,
     "metadata": {
      "application/json": {
       "expanded": false,
       "root": "fact_mental_illness_dalys"
      }
     },
     "output_type": "execute_result"
    }
   ],
   "source": [
    "cube"
   ]
  },
  {
   "cell_type": "markdown",
   "id": "168c383a-260e-4b4d-811e-5863c44d83ba",
   "metadata": {},
   "source": [
    "**2(5). Create hierarchies:**"
   ]
  },
  {
   "cell_type": "code",
   "execution_count": 20,
   "id": "24540525-0c6f-45e7-8d10-fc78ba9c1f77",
   "metadata": {},
   "outputs": [],
   "source": [
    "hierarchies, levels, measures = cube.hierarchies, cube.levels, cube.measures"
   ]
  },
  {
   "cell_type": "markdown",
   "id": "cb1fdbff-3a33-48b0-9a36-1a7e8423f666",
   "metadata": {},
   "source": [
    "**2(6). Check hierarchies:**"
   ]
  },
  {
   "cell_type": "code",
   "execution_count": 21,
   "id": "71e82f8d-1df8-4d81-9732-c1b5f8cf2bbd",
   "metadata": {},
   "outputs": [
    {
     "data": {
      "application/json": {
       "dim_host_types": {
        "Host Type": [
         "Host Type"
        ]
       },
       "dim_mental_illness_location": {
        "Continent": [
         "Continent"
        ],
        "Country": [
         "Country"
        ]
       },
       "dim_year": {
        "Year": [
         "Year"
        ]
       },
       "fact_mental_illness_dalys": {
        "Mental Illness DALYs Fact ID": [
         "Mental Illness DALYs Fact ID"
        ]
       }
      },
      "text/html": [
       "<ul>\n",
       "<li>Dimensions\n",
       "  <ul>\n",
       "  <li>dim_host_types\n",
       "    <ul>\n",
       "    <li>Host Type\n",
       "      <ol>\n",
       "      <li>Host Type</li>\n",
       "      </ol>    </li>\n",
       "    </ul>\n",
       "  </li>\n",
       "  <li>dim_mental_illness_location\n",
       "    <ul>\n",
       "    <li>Continent\n",
       "      <ol>\n",
       "      <li>Continent</li>\n",
       "      </ol>    </li>\n",
       "    <li>Country\n",
       "      <ol>\n",
       "      <li>Country</li>\n",
       "      </ol>    </li>\n",
       "    </ul>\n",
       "  </li>\n",
       "  <li>dim_year\n",
       "    <ul>\n",
       "    <li>Year\n",
       "      <ol>\n",
       "      <li>Year</li>\n",
       "      </ol>    </li>\n",
       "    </ul>\n",
       "  </li>\n",
       "  <li>fact_mental_illness_dalys\n",
       "    <ul>\n",
       "    <li>Mental Illness DALYs Fact ID\n",
       "      <ol>\n",
       "      <li>Mental Illness DALYs Fact ID</li>\n",
       "      </ol>    </li>\n",
       "    </ul>\n",
       "  </li>\n",
       "  </ul>\n",
       "</li>\n",
       "</ul>\n"
      ],
      "text/plain": [
       "{('fact_mental_illness_dalys', 'Mental Illness DALYs Fact ID'): <atoti.hierarchy.Hierarchy object at 0x7fffa8f7f450>, ('dim_year', 'Year'): <atoti.hierarchy.Hierarchy object at 0x7fffa8f3a750>, ('dim_mental_illness_location', 'Continent'): <atoti.hierarchy.Hierarchy object at 0x7fffa8f39010>, ('dim_host_types', 'Host Type'): <atoti.hierarchy.Hierarchy object at 0x7fffa8f39710>, ('dim_mental_illness_location', 'Country'): <atoti.hierarchy.Hierarchy object at 0x7fffa8f387d0>}"
      ]
     },
     "execution_count": 21,
     "metadata": {
      "application/json": {
       "expanded": true,
       "root": "Dimensions"
      }
     },
     "output_type": "execute_result"
    }
   ],
   "source": [
    "hierarchies"
   ]
  },
  {
   "cell_type": "markdown",
   "id": "383dbbab-dc50-4817-a411-6e5372e6040d",
   "metadata": {},
   "source": [
    "**2(7). Check levels:**"
   ]
  },
  {
   "cell_type": "code",
   "execution_count": 22,
   "id": "aff58ecd-4c09-4760-8557-294fda4c5ca0",
   "metadata": {},
   "outputs": [
    {
     "data": {
      "application/json": {
       "Continent (dim_mental_illness_location/Continent/Continent)": {
        "dimension": "dim_mental_illness_location",
        "hierarchy": "Continent",
        "order": "NaturalOrder",
        "type": "String"
       },
       "Country (dim_mental_illness_location/Country/Country)": {
        "dimension": "dim_mental_illness_location",
        "hierarchy": "Country",
        "order": "NaturalOrder",
        "type": "String"
       },
       "Host Type (dim_host_types/Host Type/Host Type)": {
        "dimension": "dim_host_types",
        "hierarchy": "Host Type",
        "order": "NaturalOrder",
        "type": "String"
       },
       "Mental Illness DALYs Fact ID (fact_mental_illness_dalys/Mental Illness DALYs Fact ID/Mental Illness DALYs Fact ID)": {
        "dimension": "fact_mental_illness_dalys",
        "hierarchy": "Mental Illness DALYs Fact ID",
        "order": "NaturalOrder",
        "type": "int"
       },
       "Year (dim_year/Year/Year)": {
        "dimension": "dim_year",
        "hierarchy": "Year",
        "order": "NaturalOrder",
        "type": "String"
       }
      },
      "text/html": [
       "<ul>\n",
       "<li>Levels\n",
       "  <ul>\n",
       "  <li>Continent (dim_mental_illness_location/Continent/Continent)\n",
       "    <ul>\n",
       "    <li>dimension: dim_mental_illness_location</li>\n",
       "    <li>hierarchy: Continent</li>\n",
       "    <li>type: String</li>\n",
       "    <li>order: NaturalOrder</li>\n",
       "    </ul>\n",
       "  </li>\n",
       "  <li>Country (dim_mental_illness_location/Country/Country)\n",
       "    <ul>\n",
       "    <li>dimension: dim_mental_illness_location</li>\n",
       "    <li>hierarchy: Country</li>\n",
       "    <li>type: String</li>\n",
       "    <li>order: NaturalOrder</li>\n",
       "    </ul>\n",
       "  </li>\n",
       "  <li>Host Type (dim_host_types/Host Type/Host Type)\n",
       "    <ul>\n",
       "    <li>dimension: dim_host_types</li>\n",
       "    <li>hierarchy: Host Type</li>\n",
       "    <li>type: String</li>\n",
       "    <li>order: NaturalOrder</li>\n",
       "    </ul>\n",
       "  </li>\n",
       "  <li>Mental Illness DALYs Fact ID (fact_mental_illness_dalys/Mental Illness DALYs Fact ID/Mental Illness DALYs Fact ID)\n",
       "    <ul>\n",
       "    <li>dimension: fact_mental_illness_dalys</li>\n",
       "    <li>hierarchy: Mental Illness DALYs Fact ID</li>\n",
       "    <li>type: int</li>\n",
       "    <li>order: NaturalOrder</li>\n",
       "    </ul>\n",
       "  </li>\n",
       "  <li>Year (dim_year/Year/Year)\n",
       "    <ul>\n",
       "    <li>dimension: dim_year</li>\n",
       "    <li>hierarchy: Year</li>\n",
       "    <li>type: String</li>\n",
       "    <li>order: NaturalOrder</li>\n",
       "    </ul>\n",
       "  </li>\n",
       "  </ul>\n",
       "</li>\n",
       "</ul>\n"
      ],
      "text/plain": [
       "<atoti.levels.Levels at 0x7fffa8f5ad90>"
      ]
     },
     "execution_count": 22,
     "metadata": {
      "application/json": {
       "expanded": true,
       "root": "Levels"
      }
     },
     "output_type": "execute_result"
    }
   ],
   "source": [
    "levels"
   ]
  },
  {
   "cell_type": "markdown",
   "id": "cb212d96-12a1-4440-bf7d-54f1a753e003",
   "metadata": {},
   "source": [
    "**2(8). Check levels:**"
   ]
  },
  {
   "cell_type": "code",
   "execution_count": 23,
   "id": "f4531b10-f790-4e2d-8a34-76e3b520f98b",
   "metadata": {},
   "outputs": [
    {
     "data": {
      "application/json": {
       "DALYs from anxiety disorders.MEAN": {
        "formatter": "DOUBLE[#,###.00]"
       },
       "DALYs from anxiety disorders.SUM": {
        "formatter": "DOUBLE[#,###.00]"
       },
       "DALYs from bipolar disorder.MEAN": {
        "formatter": "DOUBLE[#,###.00]"
       },
       "DALYs from bipolar disorder.SUM": {
        "formatter": "DOUBLE[#,###.00]"
       },
       "DALYs from depressive disorders.MEAN": {
        "formatter": "DOUBLE[#,###.00]"
       },
       "DALYs from depressive disorders.SUM": {
        "formatter": "DOUBLE[#,###.00]"
       },
       "DALYs from eating disorders.MEAN": {
        "formatter": "DOUBLE[#,###.00]"
       },
       "DALYs from eating disorders.SUM": {
        "formatter": "DOUBLE[#,###.00]"
       },
       "DALYs from schizophrenia.MEAN": {
        "formatter": "DOUBLE[#,###.00]"
       },
       "DALYs from schizophrenia.SUM": {
        "formatter": "DOUBLE[#,###.00]"
       },
       "Host Type ID.MEAN": {
        "formatter": "DOUBLE[#,###.00]"
       },
       "Host Type ID.SUM": {
        "formatter": "INT[#,###]"
       },
       "Mental Illness Location ID.MEAN": {
        "formatter": "DOUBLE[#,###.00]"
       },
       "Mental Illness Location ID.SUM": {
        "formatter": "INT[#,###]"
       },
       "Year ID.MEAN": {
        "formatter": "DOUBLE[#,###.00]"
       },
       "Year ID.SUM": {
        "formatter": "INT[#,###]"
       },
       "contributors.COUNT": {
        "formatter": "INT[#,###]"
       }
      },
      "text/html": [
       "<ul>\n",
       "<li>Measures\n",
       "  <ul>\n",
       "  <li>DALYs from anxiety disorders.MEAN\n",
       "    <ul>\n",
       "    <li>formatter: DOUBLE[#,###.00]</li>\n",
       "    </ul>\n",
       "  </li>\n",
       "  <li>DALYs from anxiety disorders.SUM\n",
       "    <ul>\n",
       "    <li>formatter: DOUBLE[#,###.00]</li>\n",
       "    </ul>\n",
       "  </li>\n",
       "  <li>DALYs from bipolar disorder.MEAN\n",
       "    <ul>\n",
       "    <li>formatter: DOUBLE[#,###.00]</li>\n",
       "    </ul>\n",
       "  </li>\n",
       "  <li>DALYs from bipolar disorder.SUM\n",
       "    <ul>\n",
       "    <li>formatter: DOUBLE[#,###.00]</li>\n",
       "    </ul>\n",
       "  </li>\n",
       "  <li>DALYs from depressive disorders.MEAN\n",
       "    <ul>\n",
       "    <li>formatter: DOUBLE[#,###.00]</li>\n",
       "    </ul>\n",
       "  </li>\n",
       "  <li>DALYs from depressive disorders.SUM\n",
       "    <ul>\n",
       "    <li>formatter: DOUBLE[#,###.00]</li>\n",
       "    </ul>\n",
       "  </li>\n",
       "  <li>DALYs from eating disorders.MEAN\n",
       "    <ul>\n",
       "    <li>formatter: DOUBLE[#,###.00]</li>\n",
       "    </ul>\n",
       "  </li>\n",
       "  <li>DALYs from eating disorders.SUM\n",
       "    <ul>\n",
       "    <li>formatter: DOUBLE[#,###.00]</li>\n",
       "    </ul>\n",
       "  </li>\n",
       "  <li>DALYs from schizophrenia.MEAN\n",
       "    <ul>\n",
       "    <li>formatter: DOUBLE[#,###.00]</li>\n",
       "    </ul>\n",
       "  </li>\n",
       "  <li>DALYs from schizophrenia.SUM\n",
       "    <ul>\n",
       "    <li>formatter: DOUBLE[#,###.00]</li>\n",
       "    </ul>\n",
       "  </li>\n",
       "  <li>Host Type ID.MEAN\n",
       "    <ul>\n",
       "    <li>formatter: DOUBLE[#,###.00]</li>\n",
       "    </ul>\n",
       "  </li>\n",
       "  <li>Host Type ID.SUM\n",
       "    <ul>\n",
       "    <li>formatter: INT[#,###]</li>\n",
       "    </ul>\n",
       "  </li>\n",
       "  <li>Mental Illness Location ID.MEAN\n",
       "    <ul>\n",
       "    <li>formatter: DOUBLE[#,###.00]</li>\n",
       "    </ul>\n",
       "  </li>\n",
       "  <li>Mental Illness Location ID.SUM\n",
       "    <ul>\n",
       "    <li>formatter: INT[#,###]</li>\n",
       "    </ul>\n",
       "  </li>\n",
       "  <li>Year ID.MEAN\n",
       "    <ul>\n",
       "    <li>formatter: DOUBLE[#,###.00]</li>\n",
       "    </ul>\n",
       "  </li>\n",
       "  <li>Year ID.SUM\n",
       "    <ul>\n",
       "    <li>formatter: INT[#,###]</li>\n",
       "    </ul>\n",
       "  </li>\n",
       "  <li>contributors.COUNT\n",
       "    <ul>\n",
       "    <li>formatter: INT[#,###]</li>\n",
       "    </ul>\n",
       "  </li>\n",
       "  </ul>\n",
       "</li>\n",
       "</ul>\n"
      ],
      "text/plain": [
       "{'contributors.COUNT': <atoti.measure.Measure object at 0x7fffb00b4090>, 'update.TIMESTAMP': <atoti.measure.Measure object at 0x7fffb3cb5b90>, 'DALYs from schizophrenia.SUM': <atoti.measure.Measure object at 0x7fffa8f80650>, 'DALYs from schizophrenia.MEAN': <atoti.measure.Measure object at 0x7fffa8f80a50>, 'Host Type ID.SUM': <atoti.measure.Measure object at 0x7fffa8f81a90>, 'Host Type ID.MEAN': <atoti.measure.Measure object at 0x7fffa8f81e50>, 'Mental Illness Location ID.SUM': <atoti.measure.Measure object at 0x7fffa8f81250>, 'Mental Illness Location ID.MEAN': <atoti.measure.Measure object at 0x7fffa8f82910>, 'Year ID.SUM': <atoti.measure.Measure object at 0x7fffa8f82490>, 'Year ID.MEAN': <atoti.measure.Measure object at 0x7fffa8f831d0>, 'DALYs from eating disorders.SUM': <atoti.measure.Measure object at 0x7fffa8f81110>, 'DALYs from eating disorders.MEAN': <atoti.measure.Measure object at 0x7fffa8f83050>, 'DALYs from depressive disorders.SUM': <atoti.measure.Measure object at 0x7fffa8f830d0>, 'DALYs from depressive disorders.MEAN': <atoti.measure.Measure object at 0x7fffa8f81f10>, 'DALYs from bipolar disorder.SUM': <atoti.measure.Measure object at 0x7fffa8f83350>, 'DALYs from bipolar disorder.MEAN': <atoti.measure.Measure object at 0x7fffa8f837d0>, 'DALYs from anxiety disorders.SUM': <atoti.measure.Measure object at 0x7fffa8f832d0>, 'DALYs from anxiety disorders.MEAN': <atoti.measure.Measure object at 0x7fffa8f812d0>}"
      ]
     },
     "execution_count": 23,
     "metadata": {
      "application/json": {
       "expanded": false,
       "root": "Measures"
      }
     },
     "output_type": "execute_result"
    }
   ],
   "source": [
    "measures"
   ]
  },
  {
   "cell_type": "markdown",
   "id": "afd469f7-6b7e-45e1-a416-9e4cce60d6fd",
   "metadata": {},
   "source": [
    "**2(9). Fix errors that exist in the current hierarchies:**"
   ]
  },
  {
   "cell_type": "code",
   "execution_count": 24,
   "id": "5dd44d80-a867-46af-82bd-d1e857a0ad0d",
   "metadata": {},
   "outputs": [],
   "source": [
    "# # Right hierarchies of the cube:\n",
    "# dim_host_types: Host Type\n",
    "# dim_location: Continent, Country\n",
    "# dim_year: Year"
   ]
  },
  {
   "cell_type": "code",
   "execution_count": 25,
   "id": "da8595fb-6056-49be-a411-b92ba5b9b153",
   "metadata": {},
   "outputs": [],
   "source": [
    "hierarchies[\"dim_host_types\"] = [levels[\"Host Type\"]]"
   ]
  },
  {
   "cell_type": "code",
   "execution_count": 26,
   "id": "2d884dba-e26b-4a8a-a413-b172465e1a92",
   "metadata": {},
   "outputs": [],
   "source": [
    "hierarchies[\"dim_mental_illness_location\"] = [levels[\"Continent\"], levels[\"Country\"]]"
   ]
  },
  {
   "cell_type": "code",
   "execution_count": 27,
   "id": "b3548ae6-c77d-4f58-90c6-712a990711a1",
   "metadata": {},
   "outputs": [],
   "source": [
    "hierarchies[\"dim_year\"] = [levels[\"Year\"]]"
   ]
  },
  {
   "cell_type": "code",
   "execution_count": 28,
   "id": "eb95c81a-f30f-4c0c-b504-cf1e91138b5c",
   "metadata": {},
   "outputs": [
    {
     "data": {
      "application/json": {
       "dim_host_types": {
        "Host Type": [
         "Host Type"
        ],
        "dim_host_types": [
         "Host Type"
        ]
       },
       "dim_mental_illness_location": {
        "Continent": [
         "Continent"
        ],
        "Country": [
         "Country"
        ],
        "dim_mental_illness_location": [
         "Continent",
         "Country"
        ]
       },
       "dim_year": {
        "Year": [
         "Year"
        ],
        "dim_year": [
         "Year"
        ]
       },
       "fact_mental_illness_dalys": {
        "Mental Illness DALYs Fact ID": [
         "Mental Illness DALYs Fact ID"
        ]
       }
      },
      "text/html": [
       "<ul>\n",
       "<li>Dimensions\n",
       "  <ul>\n",
       "  <li>dim_host_types\n",
       "    <ul>\n",
       "    <li>Host Type\n",
       "      <ol>\n",
       "      <li>Host Type</li>\n",
       "      </ol>    </li>\n",
       "    <li>dim_host_types\n",
       "      <ol>\n",
       "      <li>Host Type</li>\n",
       "      </ol>    </li>\n",
       "    </ul>\n",
       "  </li>\n",
       "  <li>dim_mental_illness_location\n",
       "    <ul>\n",
       "    <li>Continent\n",
       "      <ol>\n",
       "      <li>Continent</li>\n",
       "      </ol>    </li>\n",
       "    <li>Country\n",
       "      <ol>\n",
       "      <li>Country</li>\n",
       "      </ol>    </li>\n",
       "    <li>dim_mental_illness_location\n",
       "      <ol>\n",
       "      <li>Continent</li>\n",
       "      <li>Country</li>\n",
       "      </ol>    </li>\n",
       "    </ul>\n",
       "  </li>\n",
       "  <li>dim_year\n",
       "    <ul>\n",
       "    <li>Year\n",
       "      <ol>\n",
       "      <li>Year</li>\n",
       "      </ol>    </li>\n",
       "    <li>dim_year\n",
       "      <ol>\n",
       "      <li>Year</li>\n",
       "      </ol>    </li>\n",
       "    </ul>\n",
       "  </li>\n",
       "  <li>fact_mental_illness_dalys\n",
       "    <ul>\n",
       "    <li>Mental Illness DALYs Fact ID\n",
       "      <ol>\n",
       "      <li>Mental Illness DALYs Fact ID</li>\n",
       "      </ol>    </li>\n",
       "    </ul>\n",
       "  </li>\n",
       "  </ul>\n",
       "</li>\n",
       "</ul>\n"
      ],
      "text/plain": [
       "{('fact_mental_illness_dalys', 'Mental Illness DALYs Fact ID'): <atoti.hierarchy.Hierarchy object at 0x7fffb00fc050>, ('dim_mental_illness_location', 'dim_mental_illness_location'): <atoti.hierarchy.Hierarchy object at 0x7fffa8f82f90>, ('dim_year', 'Year'): <atoti.hierarchy.Hierarchy object at 0x7fffb00fb750>, ('dim_host_types', 'dim_host_types'): <atoti.hierarchy.Hierarchy object at 0x7fffb00f8d90>, ('dim_mental_illness_location', 'Continent'): <atoti.hierarchy.Hierarchy object at 0x7fffb00fad10>, ('dim_year', 'dim_year'): <atoti.hierarchy.Hierarchy object at 0x7fffb00f8250>, ('dim_host_types', 'Host Type'): <atoti.hierarchy.Hierarchy object at 0x7fffb0099150>, ('dim_mental_illness_location', 'Country'): <atoti.hierarchy.Hierarchy object at 0x7ffffc978950>}"
      ]
     },
     "execution_count": 28,
     "metadata": {
      "application/json": {
       "expanded": true,
       "root": "Dimensions"
      }
     },
     "output_type": "execute_result"
    }
   ],
   "source": [
    "hierarchies"
   ]
  },
  {
   "cell_type": "markdown",
   "id": "67178ed0-75e6-4278-aabf-eb189de4933f",
   "metadata": {},
   "source": [
    "**2(10). Clean hierarchies that we don't need:**"
   ]
  },
  {
   "cell_type": "code",
   "execution_count": 29,
   "id": "5e89cd49-d07c-47df-9ad0-afbf7855fd6a",
   "metadata": {},
   "outputs": [],
   "source": [
    "# clean dim_host_types\n",
    "del hierarchies[(\"dim_host_types\", \"Host Type\")]"
   ]
  },
  {
   "cell_type": "code",
   "execution_count": 30,
   "id": "565578b6-e17e-4a34-9ac3-6c8c510bb040",
   "metadata": {},
   "outputs": [],
   "source": [
    "# clean dim_mental_illness_location\n",
    "del hierarchies[(\"dim_mental_illness_location\", \"Continent\")]\n",
    "del hierarchies[(\"dim_mental_illness_location\", \"Country\")]"
   ]
  },
  {
   "cell_type": "code",
   "execution_count": 31,
   "id": "958c55b2-203a-46c7-a5a0-0cdd8a339c78",
   "metadata": {},
   "outputs": [],
   "source": [
    "# clean dim_year\n",
    "del hierarchies[(\"dim_year\", \"Year\")]"
   ]
  },
  {
   "cell_type": "code",
   "execution_count": 32,
   "id": "71ce9e59-742f-4a0a-aa25-2f165bfc9006",
   "metadata": {},
   "outputs": [],
   "source": [
    "# clean fact_mental_illness_dalys\n",
    "del hierarchies[(\"fact_mental_illness_dalys\", \"Mental Illness DALYs Fact ID\")]"
   ]
  },
  {
   "cell_type": "code",
   "execution_count": 33,
   "id": "c8bede24-6b18-4ac4-88ad-19c21f67090c",
   "metadata": {},
   "outputs": [
    {
     "data": {
      "application/json": {
       "dim_host_types": {
        "dim_host_types": [
         "Host Type"
        ]
       },
       "dim_mental_illness_location": {
        "dim_mental_illness_location": [
         "Continent",
         "Country"
        ]
       },
       "dim_year": {
        "dim_year": [
         "Year"
        ]
       }
      },
      "text/html": [
       "<ul>\n",
       "<li>Dimensions\n",
       "  <ul>\n",
       "  <li>dim_host_types\n",
       "    <ul>\n",
       "    <li>dim_host_types\n",
       "      <ol>\n",
       "      <li>Host Type</li>\n",
       "      </ol>    </li>\n",
       "    </ul>\n",
       "  </li>\n",
       "  <li>dim_mental_illness_location\n",
       "    <ul>\n",
       "    <li>dim_mental_illness_location\n",
       "      <ol>\n",
       "      <li>Continent</li>\n",
       "      <li>Country</li>\n",
       "      </ol>    </li>\n",
       "    </ul>\n",
       "  </li>\n",
       "  <li>dim_year\n",
       "    <ul>\n",
       "    <li>dim_year\n",
       "      <ol>\n",
       "      <li>Year</li>\n",
       "      </ol>    </li>\n",
       "    </ul>\n",
       "  </li>\n",
       "  </ul>\n",
       "</li>\n",
       "</ul>\n"
      ],
      "text/plain": [
       "{('dim_mental_illness_location', 'dim_mental_illness_location'): <atoti.hierarchy.Hierarchy object at 0x7fffa8f4ab90>, ('dim_host_types', 'dim_host_types'): <atoti.hierarchy.Hierarchy object at 0x7fffa8f48810>, ('dim_year', 'dim_year'): <atoti.hierarchy.Hierarchy object at 0x7fffb00dad10>}"
      ]
     },
     "execution_count": 33,
     "metadata": {
      "application/json": {
       "expanded": true,
       "root": "Dimensions"
      }
     },
     "output_type": "execute_result"
    }
   ],
   "source": [
    "hierarchies"
   ]
  },
  {
   "cell_type": "markdown",
   "id": "08933dd0-644e-442b-b833-8db2bbdd135d",
   "metadata": {},
   "source": [
    "**2(11). Clean meaningless measures:**"
   ]
  },
  {
   "cell_type": "code",
   "execution_count": 34,
   "id": "666740a7-b2b7-4c74-82c7-17dfdf05769a",
   "metadata": {},
   "outputs": [],
   "source": [
    "# Clean measures\n",
    "del measures[\"Host Type ID.MEAN\"]\n",
    "del measures[\"Host Type ID.SUM\"]\n",
    "del measures[\"Mental Illness Location ID.MEAN\"]\n",
    "del measures[\"Mental Illness Location ID.SUM\"]\n",
    "del measures[\"Year ID.MEAN\"]\n",
    "del measures[\"Year ID.SUM\"]\n",
    "del measures[\"contributors.COUNT\"]"
   ]
  },
  {
   "cell_type": "code",
   "execution_count": 35,
   "id": "048164d9-2cbb-4b96-86f7-e92f85c8d8eb",
   "metadata": {},
   "outputs": [
    {
     "data": {
      "application/json": {
       "DALYs from anxiety disorders.MEAN": {
        "formatter": "DOUBLE[#,###.00]"
       },
       "DALYs from anxiety disorders.SUM": {
        "formatter": "DOUBLE[#,###.00]"
       },
       "DALYs from bipolar disorder.MEAN": {
        "formatter": "DOUBLE[#,###.00]"
       },
       "DALYs from bipolar disorder.SUM": {
        "formatter": "DOUBLE[#,###.00]"
       },
       "DALYs from depressive disorders.MEAN": {
        "formatter": "DOUBLE[#,###.00]"
       },
       "DALYs from depressive disorders.SUM": {
        "formatter": "DOUBLE[#,###.00]"
       },
       "DALYs from eating disorders.MEAN": {
        "formatter": "DOUBLE[#,###.00]"
       },
       "DALYs from eating disorders.SUM": {
        "formatter": "DOUBLE[#,###.00]"
       },
       "DALYs from schizophrenia.MEAN": {
        "formatter": "DOUBLE[#,###.00]"
       },
       "DALYs from schizophrenia.SUM": {
        "formatter": "DOUBLE[#,###.00]"
       }
      },
      "text/html": [
       "<ul>\n",
       "<li>Measures\n",
       "  <ul>\n",
       "  <li>DALYs from anxiety disorders.MEAN\n",
       "    <ul>\n",
       "    <li>formatter: DOUBLE[#,###.00]</li>\n",
       "    </ul>\n",
       "  </li>\n",
       "  <li>DALYs from anxiety disorders.SUM\n",
       "    <ul>\n",
       "    <li>formatter: DOUBLE[#,###.00]</li>\n",
       "    </ul>\n",
       "  </li>\n",
       "  <li>DALYs from bipolar disorder.MEAN\n",
       "    <ul>\n",
       "    <li>formatter: DOUBLE[#,###.00]</li>\n",
       "    </ul>\n",
       "  </li>\n",
       "  <li>DALYs from bipolar disorder.SUM\n",
       "    <ul>\n",
       "    <li>formatter: DOUBLE[#,###.00]</li>\n",
       "    </ul>\n",
       "  </li>\n",
       "  <li>DALYs from depressive disorders.MEAN\n",
       "    <ul>\n",
       "    <li>formatter: DOUBLE[#,###.00]</li>\n",
       "    </ul>\n",
       "  </li>\n",
       "  <li>DALYs from depressive disorders.SUM\n",
       "    <ul>\n",
       "    <li>formatter: DOUBLE[#,###.00]</li>\n",
       "    </ul>\n",
       "  </li>\n",
       "  <li>DALYs from eating disorders.MEAN\n",
       "    <ul>\n",
       "    <li>formatter: DOUBLE[#,###.00]</li>\n",
       "    </ul>\n",
       "  </li>\n",
       "  <li>DALYs from eating disorders.SUM\n",
       "    <ul>\n",
       "    <li>formatter: DOUBLE[#,###.00]</li>\n",
       "    </ul>\n",
       "  </li>\n",
       "  <li>DALYs from schizophrenia.MEAN\n",
       "    <ul>\n",
       "    <li>formatter: DOUBLE[#,###.00]</li>\n",
       "    </ul>\n",
       "  </li>\n",
       "  <li>DALYs from schizophrenia.SUM\n",
       "    <ul>\n",
       "    <li>formatter: DOUBLE[#,###.00]</li>\n",
       "    </ul>\n",
       "  </li>\n",
       "  </ul>\n",
       "</li>\n",
       "</ul>\n"
      ],
      "text/plain": [
       "{'update.TIMESTAMP': <atoti.measure.Measure object at 0x7fffa8f4aed0>, 'DALYs from schizophrenia.SUM': <atoti.measure.Measure object at 0x7fffa8f48910>, 'DALYs from schizophrenia.MEAN': <atoti.measure.Measure object at 0x7fffa8f4add0>, 'DALYs from eating disorders.SUM': <atoti.measure.Measure object at 0x7fffa8f4a590>, 'DALYs from eating disorders.MEAN': <atoti.measure.Measure object at 0x7fffa8f4bcd0>, 'DALYs from depressive disorders.SUM': <atoti.measure.Measure object at 0x7fffa8f4b7d0>, 'DALYs from depressive disorders.MEAN': <atoti.measure.Measure object at 0x7fffa8f4ab10>, 'DALYs from bipolar disorder.SUM': <atoti.measure.Measure object at 0x7fffa8f499d0>, 'DALYs from bipolar disorder.MEAN': <atoti.measure.Measure object at 0x7fffa8f4b6d0>, 'DALYs from anxiety disorders.SUM': <atoti.measure.Measure object at 0x7fffa8f48650>, 'DALYs from anxiety disorders.MEAN': <atoti.measure.Measure object at 0x7fffa8f4b350>}"
      ]
     },
     "execution_count": 35,
     "metadata": {
      "application/json": {
       "expanded": false,
       "root": "Measures"
      }
     },
     "output_type": "execute_result"
    }
   ],
   "source": [
    "measures"
   ]
  },
  {
   "cell_type": "markdown",
   "id": "950a9a7f-5b48-48a2-b458-bc4c6acba218",
   "metadata": {},
   "source": [
    "**2(12). Use atoti to visualise queries:**"
   ]
  },
  {
   "cell_type": "markdown",
   "id": "65834078-4ee2-405b-b6bc-f262f976d26a",
   "metadata": {},
   "source": [
    "**- Query 7: What is the difference in disability-adjusted life years (DALYs) due to depression disorders in Australia when it is hosting the Olympics compared to when it is not:**"
   ]
  },
  {
   "cell_type": "code",
   "execution_count": 36,
   "id": "1214db8f-9fa2-41cc-b858-b580f91341cf",
   "metadata": {
    "atoti": {
     "widget": {
      "filters": [
       {
        "dimensionName": "dim_mental_illness_location",
        "hierarchyName": "dim_mental_illness_location",
        "isExclusionFilter": false,
        "members": [
         [
          "AllMember",
          "Oceania",
          "Australia"
         ]
        ],
        "type": "members"
       },
       {
        "dimensionName": "dim_host_types",
        "hierarchyName": "dim_host_types",
        "isExclusionFilter": false,
        "members": [
         [
          "AllMember",
          "Host Country of the Olympic Games for this year"
         ],
         [
          "AllMember",
          "Non-host Country of the Olympic Games for this year"
         ]
        ],
        "type": "members"
       }
      ],
      "mapping": {
       "horizontalSubplots": [
        "[dim_host_types].[dim_host_types].[Host Type]"
       ],
       "stackBy": [
        "ALL_MEASURES"
       ],
       "values": [
        "[Measures].[DALYs from depressive disorders.MEAN]"
       ],
       "verticalSubplots": [],
       "xAxis": [
        "[dim_mental_illness_location].[dim_mental_illness_location].[Country]"
       ]
      },
      "name": "Difference of Australia's depression DALYs when host and non-host",
      "query": {
       "mdx": "SELECT NON EMPTY Crossjoin({[Measures].[DALYs from depressive disorders.MEAN]}, Hierarchize(Descendants({[dim_host_types].[dim_host_types].[ALL].[AllMember]}, 1, SELF_AND_BEFORE))) ON COLUMNS, NON EMPTY Hierarchize(Descendants({[dim_mental_illness_location].[dim_mental_illness_location].[ALL].[AllMember]}, 2, SELF_AND_BEFORE)) DIMENSION PROPERTIES CHILDREN_CARDINALITY ON ROWS FROM [fact_mental_illness_dalys] CELL PROPERTIES VALUE, FORMATTED_VALUE, BACK_COLOR, FORE_COLOR, FONT_FLAGS",
       "updateMode": "once"
      },
      "serverKey": "default",
      "style": {
       "areAxisTitlesVisible": true,
       "isTextVisible": true,
       "tuples": {
        "[Measures].[DALYs from depressive disorders.MEAN]": {
         "backgroundColor": "#f7bb80"
        }
       }
      },
      "widgetKey": "plotly-stacked-column-chart"
     }
    }
   },
   "outputs": [
    {
     "data": {
      "application/vnd.atoti.widget.v0+json": {
       "sessionId": "1714325048_TCF899",
       "sessionLocation": {
        "https": false,
        "port": 9092
       },
       "widgetCreationCode": "session.widget"
      },
      "text/html": [
       "<img height=\"0\" width=\"0\" src=\"data:,AAAAAAAAAAAAAAAAAAAAAAAAAAAAAAAAAAAAAAAAAAAAAAAACXBIWXMAAA1JAAANSQGKhkvf\" />"
      ],
      "text/plain": [
       "Open the notebook in JupyterLab with the Atoti JupyterLab extension enabled to build this widget."
      ]
     },
     "metadata": {},
     "output_type": "display_data"
    }
   ],
   "source": [
    "session.widget"
   ]
  },
  {
   "cell_type": "markdown",
   "id": "3abe5bc5-688a-4927-be44-882133435606",
   "metadata": {},
   "source": [
    "**- Query 7 Starnet:**"
   ]
  },
  {
   "cell_type": "markdown",
   "id": "3cc61530-bfe6-439f-b033-29e7e7bbe309",
   "metadata": {},
   "source": [
    "![starnet](query_7_starnet.png)"
   ]
  },
  {
   "cell_type": "markdown",
   "id": "e581fb92-6c80-49f7-92db-8ddf86a9e336",
   "metadata": {},
   "source": [
    "**- Query 8. Which mental disorder results in the lowest disability-adjusted life years (DALYs) in Australia when it is hosting the Olympics:**"
   ]
  },
  {
   "cell_type": "code",
   "execution_count": 37,
   "id": "edd8a8c8-aa12-4f08-a33a-26c5b908fc04",
   "metadata": {
    "atoti": {
     "height": 360,
     "widget": {
      "filters": [
       {
        "dimensionName": "dim_mental_illness_location",
        "hierarchyName": "dim_mental_illness_location",
        "isExclusionFilter": false,
        "members": [
         [
          "AllMember",
          "Oceania",
          "Australia"
         ]
        ],
        "type": "members"
       },
       {
        "dimensionName": "dim_host_types",
        "hierarchyName": "dim_host_types",
        "isExclusionFilter": false,
        "members": [
         [
          "AllMember",
          "Host Country of the Olympic Games for this year"
         ]
        ],
        "type": "members"
       }
      ],
      "mapping": {
       "horizontalSubplots": [],
       "splitBy": [
        "[dim_mental_illness_location].[dim_mental_illness_location].[Country]",
        "ALL_MEASURES"
       ],
       "values": [
        "[Measures].[DALYs from anxiety disorders.MEAN]",
        "[Measures].[DALYs from bipolar disorder.MEAN]",
        "[Measures].[DALYs from depressive disorders.MEAN]",
        "[Measures].[DALYs from eating disorders.MEAN]",
        "[Measures].[DALYs from schizophrenia.MEAN]"
       ],
       "verticalSubplots": [],
       "yAxis": []
      },
      "name": "Lowest disorder DALYs in Australia",
      "query": {
       "mdx": "SELECT NON EMPTY Crossjoin(Hierarchize(Descendants({[dim_mental_illness_location].[dim_mental_illness_location].[ALL].[AllMember]}, 2, SELF_AND_BEFORE)), {[Measures].[DALYs from anxiety disorders.MEAN], [Measures].[DALYs from bipolar disorder.MEAN], [Measures].[DALYs from depressive disorders.MEAN], [Measures].[DALYs from eating disorders.MEAN], [Measures].[DALYs from schizophrenia.MEAN]}) DIMENSION PROPERTIES CHILDREN_CARDINALITY ON COLUMNS FROM [fact_mental_illness_dalys] CELL PROPERTIES VALUE, FORMATTED_VALUE, BACK_COLOR, FORE_COLOR, FONT_FLAGS",
       "updateMode": "once"
      },
      "serverKey": "default",
      "style": {
       "areAxisTitlesVisible": false,
       "isTextVisible": true,
       "tuples": {
        "[Measures].[DALYs from anxiety disorders.MEAN],[dim_mental_illness_location].[dim_mental_illness_location].[AllMember].[Oceania].[Australia]": {
         "backgroundColor": "#7194b9"
        },
        "[Measures].[DALYs from bipolar disorder.MEAN],[dim_mental_illness_location].[dim_mental_illness_location].[AllMember].[Oceania].[Australia]": {
         "backgroundColor": "#f7bb80"
        },
        "[Measures].[DALYs from depressive disorders.MEAN],[dim_mental_illness_location].[dim_mental_illness_location].[AllMember].[Oceania].[Australia]": {
         "backgroundColor": "#ff9da7"
        },
        "[Measures].[DALYs from eating disorders.MEAN],[dim_mental_illness_location].[dim_mental_illness_location].[AllMember].[Oceania].[Australia]": {
         "backgroundColor": "#76b7b2"
        },
        "[Measures].[DALYs from schizophrenia.MEAN],[dim_mental_illness_location].[dim_mental_illness_location].[AllMember].[Oceania].[Australia]": {
         "backgroundColor": "#d0afc7"
        }
       }
      },
      "widgetKey": "plotly-clustered-bar-chart"
     }
    }
   },
   "outputs": [
    {
     "data": {
      "application/vnd.atoti.widget.v0+json": {
       "sessionId": "1714325048_TCF899",
       "sessionLocation": {
        "https": false,
        "port": 9092
       },
       "widgetCreationCode": "session.widget"
      },
      "text/html": [
       "<img height=\"0\" width=\"0\" src=\"data:,AAAAAAAAAAAAAAAAAAAAAAAAAAAAAAAAAAAAAAAAAAAAAAAACXBIWXMAAA1JAAANSQGKhkvf\" />"
      ],
      "text/plain": [
       "Open the notebook in JupyterLab with the Atoti JupyterLab extension enabled to build this widget."
      ]
     },
     "metadata": {},
     "output_type": "display_data"
    }
   ],
   "source": [
    "session.widget"
   ]
  },
  {
   "cell_type": "markdown",
   "id": "3ed50af1-b6b0-445e-88f2-e6a798c3e79a",
   "metadata": {},
   "source": [
    "**- Query 8 Starnet:**"
   ]
  },
  {
   "cell_type": "markdown",
   "id": "182efe2e-440c-4cb1-be60-7a55ad25c33c",
   "metadata": {},
   "source": [
    "![starnet](query_8_starnet.png)"
   ]
  },
  {
   "cell_type": "markdown",
   "id": "f0efdea5-95f5-4eab-8703-657b4b6035fa",
   "metadata": {},
   "source": [
    "**- Query 9: What is the difference in disability-adjusted life years (DALYs) due to depression disorders and eating disorders in China when it is hosting the Olympics:**"
   ]
  },
  {
   "cell_type": "code",
   "execution_count": 38,
   "id": "b66cd666-9f3b-4168-8ef3-df35be256f6d",
   "metadata": {
    "atoti": {
     "widget": {
      "filters": [
       {
        "dimensionName": "dim_host_types",
        "hierarchyName": "dim_host_types",
        "isExclusionFilter": false,
        "members": [
         [
          "AllMember",
          "Host Country of the Olympic Games for this year"
         ]
        ],
        "type": "members"
       },
       {
        "dimensionName": "dim_mental_illness_location",
        "hierarchyName": "dim_mental_illness_location",
        "isExclusionFilter": false,
        "members": [
         [
          "AllMember",
          "Asia",
          "China"
         ]
        ],
        "type": "members"
       }
      ],
      "mapping": {
       "horizontalSubplots": [],
       "splitBy": [
        "[dim_mental_illness_location].[dim_mental_illness_location].[Country]",
        "ALL_MEASURES"
       ],
       "values": [
        "[Measures].[DALYs from depressive disorders.MEAN]",
        "[Measures].[DALYs from eating disorders.MEAN]"
       ],
       "verticalSubplots": [],
       "yAxis": []
      },
      "name": "Difference between China's depression disorders and eating disorders DALYs",
      "query": {
       "mdx": "SELECT NON EMPTY Crossjoin(Hierarchize(Descendants({[dim_mental_illness_location].[dim_mental_illness_location].[ALL].[AllMember]}, 2, SELF_AND_BEFORE)), {[Measures].[DALYs from depressive disorders.MEAN], [Measures].[DALYs from eating disorders.MEAN]}) DIMENSION PROPERTIES CHILDREN_CARDINALITY ON COLUMNS FROM [fact_mental_illness_dalys] CELL PROPERTIES VALUE, FORMATTED_VALUE, BACK_COLOR, FORE_COLOR, FONT_FLAGS"
      },
      "serverKey": "default",
      "style": {
       "areAxisTitlesVisible": false,
       "isTextVisible": true,
       "tuples": {
        "[Measures].[DALYs from depressive disorders.MEAN],[dim_mental_illness_location].[dim_mental_illness_location].[AllMember].[Asia].[China]": {
         "backgroundColor": "#ffc4ca"
        },
        "[Measures].[DALYs from eating disorders.MEAN],[dim_mental_illness_location].[dim_mental_illness_location].[AllMember].[Asia].[China]": {
         "backgroundColor": "#7194b9"
        }
       }
      },
      "widgetKey": "plotly-clustered-bar-chart"
     }
    },
    "scrolled": true
   },
   "outputs": [
    {
     "data": {
      "application/vnd.atoti.widget.v0+json": {
       "sessionId": "1714325048_TCF899",
       "sessionLocation": {
        "https": false,
        "port": 9092
       },
       "widgetCreationCode": "session.widget"
      },
      "text/html": [
       "<img height=\"0\" width=\"0\" src=\"data:,AAAAAAAAAAAAAAAAAAAAAAAAAAAAAAAAAAAAAAAAAAAAAAAACXBIWXMAAA1JAAANSQGKhkvf\" />"
      ],
      "text/plain": [
       "Open the notebook in JupyterLab with the Atoti JupyterLab extension enabled to build this widget."
      ]
     },
     "metadata": {},
     "output_type": "display_data"
    }
   ],
   "source": [
    "session.widget"
   ]
  },
  {
   "cell_type": "markdown",
   "id": "b1b5e94b-7b74-4561-a7cd-fc8b0949fcc5",
   "metadata": {},
   "source": [
    "**- Query 9 Starnet:**"
   ]
  },
  {
   "cell_type": "markdown",
   "id": "fbbf2183-fcfe-469a-836d-98ff254bb55e",
   "metadata": {},
   "source": [
    "![starnet](query_9_starnet.png)"
   ]
  },
  {
   "cell_type": "markdown",
   "id": "4d42b154-24ad-47a2-b0d4-7233b5255e68",
   "metadata": {},
   "source": [
    "**- Query 10. Which mental disorder results in the highest disability-adjusted life years (DALYs) in China when it is not hosting the Olympics:**"
   ]
  },
  {
   "cell_type": "code",
   "execution_count": 39,
   "id": "46b4d813-e756-42fc-a59d-105badcf0e1e",
   "metadata": {
    "atoti": {
     "height": 474,
     "widget": {
      "filters": [
       {
        "dimensionName": "dim_host_types",
        "hierarchyName": "dim_host_types",
        "isExclusionFilter": false,
        "members": [
         [
          "AllMember",
          "Non-host Country of the Olympic Games for this year"
         ]
        ],
        "type": "members"
       },
       {
        "dimensionName": "dim_mental_illness_location",
        "hierarchyName": "dim_mental_illness_location",
        "isExclusionFilter": false,
        "members": [
         [
          "AllMember",
          "Asia",
          "China"
         ]
        ],
        "type": "members"
       }
      ],
      "mapping": {
       "horizontalSubplots": [],
       "splitBy": [
        "[dim_mental_illness_location].[dim_mental_illness_location].[Country]",
        "ALL_MEASURES"
       ],
       "values": [
        "[Measures].[DALYs from anxiety disorders.MEAN]",
        "[Measures].[DALYs from bipolar disorder.MEAN]",
        "[Measures].[DALYs from depressive disorders.MEAN]",
        "[Measures].[DALYs from eating disorders.MEAN]",
        "[Measures].[DALYs from schizophrenia.MEAN]"
       ],
       "verticalSubplots": [],
       "xAxis": []
      },
      "name": "Highest disorder DALYs in China",
      "query": {
       "mdx": "SELECT NON EMPTY Crossjoin(Hierarchize(Descendants({[dim_mental_illness_location].[dim_mental_illness_location].[ALL].[AllMember]}, 2, SELF_AND_BEFORE)), {[Measures].[DALYs from anxiety disorders.MEAN], [Measures].[DALYs from bipolar disorder.MEAN], [Measures].[DALYs from depressive disorders.MEAN], [Measures].[DALYs from eating disorders.MEAN], [Measures].[DALYs from schizophrenia.MEAN]}) DIMENSION PROPERTIES CHILDREN_CARDINALITY ON COLUMNS FROM [fact_mental_illness_dalys] CELL PROPERTIES VALUE, FORMATTED_VALUE, BACK_COLOR, FORE_COLOR, FONT_FLAGS",
       "updateMode": "once"
      },
      "serverKey": "default",
      "style": {
       "areAxisTitlesVisible": false,
       "isTextVisible": true,
       "measures": {
        "DALYs from anxiety disorders.MEAN": {
         "justifyContent": "left"
        }
       },
       "tuples": {
        "[Measures].[DALYs from anxiety disorders.MEAN]": {
         "backgroundColor": "#4e79a7"
        },
        "[Measures].[DALYs from anxiety disorders.MEAN],[dim_mental_illness_location].[dim_mental_illness_location].[AllMember].[Asia].[China]": {
         "backgroundColor": "#7194b9"
        },
        "[Measures].[DALYs from bipolar disorder.MEAN]": {
         "backgroundColor": "#ff9da7"
        },
        "[Measures].[DALYs from bipolar disorder.MEAN],[dim_mental_illness_location].[dim_mental_illness_location].[AllMember].[Asia].[China]": {
         "backgroundColor": "#ff9da7"
        },
        "[Measures].[DALYs from depressive disorders.MEAN]": {
         "backgroundColor": "#76b7b2"
        },
        "[Measures].[DALYs from depressive disorders.MEAN],[dim_mental_illness_location].[dim_mental_illness_location].[AllMember].[Asia].[China]": {
         "backgroundColor": "#76b7b2"
        },
        "[Measures].[DALYs from eating disorders.MEAN]": {
         "backgroundColor": "#b07aa1"
        },
        "[Measures].[DALYs from eating disorders.MEAN],[dim_mental_illness_location].[dim_mental_illness_location].[AllMember].[Asia].[China]": {
         "backgroundColor": "#edc949"
        },
        "[Measures].[DALYs from schizophrenia.MEAN]": {
         "backgroundColor": "#bab0ab"
        },
        "[Measures].[DALYs from schizophrenia.MEAN],[dim_mental_illness_location].[dim_mental_illness_location].[AllMember].[Asia].[China]": {
         "backgroundColor": "#ba9e8f"
        }
       }
      },
      "subplotLimits": {
       "horizontal": 6,
       "vertical": 6
      },
      "widgetKey": "plotly-clustered-column-chart"
     }
    }
   },
   "outputs": [
    {
     "data": {
      "application/vnd.atoti.widget.v0+json": {
       "sessionId": "1714325048_TCF899",
       "sessionLocation": {
        "https": false,
        "port": 9092
       },
       "widgetCreationCode": "session.widget"
      },
      "text/html": [
       "<img height=\"0\" width=\"0\" src=\"data:,AAAAAAAAAAAAAAAAAAAAAAAAAAAAAAAAAAAAAAAAAAAAAAAACXBIWXMAAA1JAAANSQGKhkvf\" />"
      ],
      "text/plain": [
       "Open the notebook in JupyterLab with the Atoti JupyterLab extension enabled to build this widget."
      ]
     },
     "metadata": {},
     "output_type": "display_data"
    }
   ],
   "source": [
    "session.widget"
   ]
  },
  {
   "cell_type": "markdown",
   "id": "ffeaeecb-2760-4a79-a0a6-b570e906e884",
   "metadata": {},
   "source": [
    "**- Query 10 Starnet:**"
   ]
  },
  {
   "cell_type": "markdown",
   "id": "2614c96f-4d02-4464-8987-f3639e367709",
   "metadata": {},
   "source": [
    "![starnet](query_10_starnet.png)"
   ]
  }
 ],
 "metadata": {
  "kernelspec": {
   "display_name": "Python 3 (ipykernel)",
   "language": "python",
   "name": "python3"
  },
  "language_info": {
   "codemirror_mode": {
    "name": "ipython",
    "version": 3
   },
   "file_extension": ".py",
   "mimetype": "text/x-python",
   "name": "python",
   "nbconvert_exporter": "python",
   "pygments_lexer": "ipython3",
   "version": "3.11.6"
  }
 },
 "nbformat": 4,
 "nbformat_minor": 5
}
